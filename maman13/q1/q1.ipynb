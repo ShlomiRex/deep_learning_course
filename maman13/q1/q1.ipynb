{
 "cells": [
  {
   "cell_type": "code",
   "execution_count": 115,
   "metadata": {},
   "outputs": [],
   "source": [
    "import torch\n",
    "import torchvision\n",
    "from torch import nn\n",
    "import matplotlib.pyplot as plt\n",
    "from torch.utils.data import DataLoader\n",
    "import matplotlib.pyplot as plt\n",
    "import torch\n",
    "from torchvision import datasets, transforms"
   ]
  },
  {
   "cell_type": "code",
   "execution_count": 116,
   "metadata": {},
   "outputs": [
    {
     "ename": "SyntaxError",
     "evalue": "expected ':' (1371487725.py, line 43)",
     "output_type": "error",
     "traceback": [
      "\u001b[1;36m  Input \u001b[1;32mIn [116]\u001b[1;36m\u001b[0m\n\u001b[1;33m    for i_channel in range(self.cha)\u001b[0m\n\u001b[1;37m                                    ^\u001b[0m\n\u001b[1;31mSyntaxError\u001b[0m\u001b[1;31m:\u001b[0m expected ':'\n"
     ]
    }
   ],
   "source": [
    "class MyConvLayer(nn.Module):\n",
    "\tdef __init__(self, in_channels=1, out_channels=1, kernel_size=(1,1), stride=1, padding=0):\n",
    "\t\tsuper().__init__()\n",
    "\t\t#TODO: Deal with channels, stride, pading\n",
    "\t\tassert in_channels > 0 and out_channels > 0\n",
    "\t\tassert kernel_size[0] > 0 and kernel_size[1] > 0\n",
    "\t\tassert stride > 0\n",
    "\t\tassert padding >= 0\n",
    "\n",
    "\t\tself.in_channels = in_channels\n",
    "\t\tself.out_channels = out_channels\n",
    "\t\tself.p , self.q = kernel_size\n",
    "\t\tself.stride = stride\n",
    "\t\tself.padding = padding\n",
    "\t\t\n",
    "\t\tself.kern = nn.Parameter(torch.rand(kernel_size))\n",
    "\t\t\n",
    "\tdef forward(self, X):\n",
    "\t\tprint(\"Input shape: \", X.shape)\n",
    "\t\tprint(\"Padding: \", self.padding)\n",
    "\t\tprint(\"Stride: \", self.stride)\n",
    "\n",
    "\t\t# Output calculation: https://cs231n.github.io/convolutional-networks/\n",
    "\t\tnew_height = (X.size(1) - self.p + (self.padding*2) + 1)/self.stride\n",
    "\t\tnew_width = (X.size(2) - self.q + (self.padding*2 + 1))/self.stride\n",
    "\t\t\n",
    "\t\t# If the width or height is not whole number, we don't try and convert it to int. Instead this is logical error.\n",
    "\t\tassert new_height.is_integer()\n",
    "\t\tassert new_width.is_integer()\n",
    "\n",
    "\t\toutput = torch.zeros(X.size(0), int(new_height), int(new_width))\n",
    "\n",
    "\t\t# Pad\n",
    "\t\tX2 = X.clone()\n",
    "\t\tX2 = torch.cat((torch.zeros((1, self.padding, X2.shape[2])), X2), dim=1) # Top\n",
    "\t\tX2 = torch.cat((torch.zeros((1, X2.shape[1], self.padding)), X2), dim=2) # Left\n",
    "\t\tX2 = torch.cat((X2, torch.zeros((1, X2.shape[1], self.padding))), dim=2) # Right\n",
    "\t\tX2 = torch.cat((X2, torch.zeros((1, self.padding, X2.shape[2]))), dim=1) # Bottom\n",
    "\t\t\n",
    "\t\tprint(\"Image after pad: \", X.shape)\n",
    "\t\tprint(\"Output shape: \", output.shape)\n",
    "\n",
    "\t\tfor i in range(output.size(1)):\n",
    "\t\t\tfor j in range(output.size(2)):\n",
    "\t\t\t\tsub_img = X2[:, (i * self.stride):((i * self.stride) + self.p), (j * self.stride):((j * self.stride) + self.q)]\n",
    "\t\t\t\t#print(f\"sub image: ({i}:{i+self.p},{j}:{j+self.q})\")\n",
    "\t\t\t\toutput[:, i, j] = (sub_img*self.kern).sum(dim=(1,2))\n",
    "\n",
    "\t\treturn output"
   ]
  },
  {
   "cell_type": "markdown",
   "metadata": {},
   "source": [
    "# Define sobel kernels"
   ]
  },
  {
   "cell_type": "code",
   "execution_count": null,
   "metadata": {},
   "outputs": [],
   "source": [
    "positive_X_sobel = torch.tensor([[1, 0, -1],\n",
    "                                 [2, 0, -2],\n",
    "                                 [1, 0, -1]])\n",
    "\n",
    "negative_X_sobel = torch.tensor([[-1, 0, 1],\n",
    "                                 [-2, 0, 2],\n",
    "                                 [-1, 0, 1]])\n",
    "\n",
    "negative_Y_sobel = torch.tensor([[1, 2, 1],\n",
    "                                 [0, 0, 0],\n",
    "                                 [-1, -2, -1]])\n",
    "\n",
    "positive_Y_sobel = torch.tensor([[-1, -2, -1],\n",
    "                                 [0, 0, 0],\n",
    "                                 [1, 2, 1]])"
   ]
  },
  {
   "cell_type": "markdown",
   "metadata": {},
   "source": [
    "# Get sample image from Fashion MINST"
   ]
  },
  {
   "cell_type": "code",
   "execution_count": null,
   "metadata": {},
   "outputs": [],
   "source": [
    "train_data_transformed = torchvision.datasets.FashionMNIST(\n",
    "    root=\"/22961\", train=True, download=True,\n",
    "    transform=torchvision.transforms.ToTensor())\n",
    "\n",
    "train_dataloader = DataLoader(\n",
    "    train_data_transformed, batch_size=1)\n",
    "img, _ = next(iter(train_dataloader))"
   ]
  },
  {
   "cell_type": "markdown",
   "metadata": {},
   "source": [
    "# Regular conv"
   ]
  },
  {
   "cell_type": "code",
   "execution_count": null,
   "metadata": {},
   "outputs": [
    {
     "name": "stdout",
     "output_type": "stream",
     "text": [
      "Input shape:  torch.Size([1, 28, 28])\n",
      "Padding:  0\n",
      "Stride:  1\n",
      "Image after pad:  torch.Size([1, 28, 28])\n",
      "Output shape:  torch.Size([1, 26, 26])\n"
     ]
    },
    {
     "data": {
      "text/plain": [
       "<matplotlib.image.AxesImage at 0x2132b8bb4f0>"
      ]
     },
     "execution_count": 105,
     "metadata": {},
     "output_type": "execute_result"
    },
    {
     "data": {
      "image/png": "[encoded data removed]",
      "text/plain": [
       "<Figure size 432x288 with 1 Axes>"
      ]
     },
     "metadata": {
      "needs_background": "light"
     },
     "output_type": "display_data"
    }
   ],
   "source": [
    "myConvLayer = MyConvLayer(kernel_size=(3,3))\n",
    "myConvLayer.kern.requires_grad=False\n",
    "\n",
    "myConvLayer.kern[:] = positive_X_sobel\n",
    "img2= myConvLayer(img.reshape(1,28,28))\n",
    "plt.imshow(img2.detach().squeeze(),cmap='Greys')"
   ]
  },
  {
   "cell_type": "markdown",
   "metadata": {},
   "source": [
    "# Padding"
   ]
  },
  {
   "cell_type": "code",
   "execution_count": null,
   "metadata": {},
   "outputs": [
    {
     "name": "stdout",
     "output_type": "stream",
     "text": [
      "Input shape:  torch.Size([1, 28, 28])\n",
      "Padding:  14\n",
      "Stride:  1\n",
      "Image after pad:  torch.Size([1, 28, 28])\n",
      "Output shape:  torch.Size([1, 54, 54])\n"
     ]
    },
    {
     "data": {
      "text/plain": [
       "<matplotlib.image.AxesImage at 0x2132b94ed40>"
      ]
     },
     "execution_count": 106,
     "metadata": {},
     "output_type": "execute_result"
    },
    {
     "data": {
      "image/png": "[encoded data removed]",
      "text/plain": [
       "<Figure size 432x288 with 1 Axes>"
      ]
     },
     "metadata": {
      "needs_background": "light"
     },
     "output_type": "display_data"
    }
   ],
   "source": [
    "myConvLayer = MyConvLayer(kernel_size=(3,3), padding=14)\n",
    "myConvLayer.kern.requires_grad=False\n",
    "\n",
    "myConvLayer.kern[:] = positive_X_sobel\n",
    "img2= myConvLayer(img.reshape(1,28,28))\n",
    "plt.imshow(img2.detach().squeeze(),cmap='Greys')"
   ]
  },
  {
   "cell_type": "markdown",
   "metadata": {},
   "source": [
    "# Stride"
   ]
  },
  {
   "cell_type": "code",
   "execution_count": null,
   "metadata": {},
   "outputs": [
    {
     "name": "stdout",
     "output_type": "stream",
     "text": [
      "torch.Size([1, 1, 28, 28])\n",
      "Input shape:  torch.Size([1, 28, 28])\n",
      "Padding:  0\n",
      "Stride:  2\n",
      "Image after pad:  torch.Size([1, 28, 28])\n",
      "Output shape:  torch.Size([1, 13, 13])\n"
     ]
    },
    {
     "data": {
      "text/plain": [
       "<matplotlib.image.AxesImage at 0x2132b9b1c30>"
      ]
     },
     "execution_count": 107,
     "metadata": {},
     "output_type": "execute_result"
    },
    {
     "data": {
      "image/png": "[encoded data removed]",
      "text/plain": [
       "<Figure size 432x288 with 1 Axes>"
      ]
     },
     "metadata": {
      "needs_background": "light"
     },
     "output_type": "display_data"
    }
   ],
   "source": [
    "myConvLayer = MyConvLayer(kernel_size=(3,3), stride=2)\n",
    "myConvLayer.kern.requires_grad=False\n",
    "\n",
    "myConvLayer.kern[:] = positive_X_sobel\n",
    "print(img.shape)\n",
    "img2 = myConvLayer(img.reshape(1,28,28))\n",
    "plt.imshow(img2.detach().squeeze(),cmap='Greys')"
   ]
  },
  {
   "cell_type": "markdown",
   "metadata": {},
   "source": [
    "# Padding tensors example"
   ]
  },
  {
   "cell_type": "code",
   "execution_count": null,
   "metadata": {},
   "outputs": [
    {
     "name": "stdout",
     "output_type": "stream",
     "text": [
      "Top: tensor([[[0., 0., 0., 0., 0.],\n",
      "         [0., 0., 0., 0., 0.],\n",
      "         [1., 1., 1., 1., 1.],\n",
      "         [1., 1., 1., 1., 1.],\n",
      "         [1., 1., 1., 1., 1.],\n",
      "         [1., 1., 1., 1., 1.],\n",
      "         [1., 1., 1., 1., 1.]]])\n",
      "Left:  tensor([[[0., 0., 1., 1., 1., 1., 1.],\n",
      "         [0., 0., 1., 1., 1., 1., 1.],\n",
      "         [0., 0., 1., 1., 1., 1., 1.],\n",
      "         [0., 0., 1., 1., 1., 1., 1.],\n",
      "         [0., 0., 1., 1., 1., 1., 1.]]])\n",
      "Right:  tensor([[[1., 1., 1., 1., 1., 0., 0.],\n",
      "         [1., 1., 1., 1., 1., 0., 0.],\n",
      "         [1., 1., 1., 1., 1., 0., 0.],\n",
      "         [1., 1., 1., 1., 1., 0., 0.],\n",
      "         [1., 1., 1., 1., 1., 0., 0.]]])\n",
      "Bottom:  tensor([[[1., 1., 1., 1., 1.],\n",
      "         [1., 1., 1., 1., 1.],\n",
      "         [1., 1., 1., 1., 1.],\n",
      "         [1., 1., 1., 1., 1.],\n",
      "         [1., 1., 1., 1., 1.],\n",
      "         [0., 0., 0., 0., 0.],\n",
      "         [0., 0., 0., 0., 0.]]])\n"
     ]
    }
   ],
   "source": [
    "img = torch.ones((1, 5, 5))\n",
    "\n",
    "padding = 2\n",
    "\n",
    "print(\"Top:\", torch.cat((torch.zeros((1, padding, 5)), img), dim=1)) # Top\n",
    "\n",
    "print(\"Left: \", torch.cat((torch.zeros((1, 5, padding)), img), dim=2)) # Left\n",
    "\n",
    "print(\"Right: \", torch.cat((img, torch.zeros((1, 5, padding))), dim=2)) # Right\n",
    "\n",
    "print(\"Bottom: \", torch.cat((img, torch.zeros((1, padding, 5))), dim=1)) # Bottom\n"
   ]
  }
 ],
 "metadata": {
  "interpreter": {
   "hash": "15048e23eb58eade66c74c7a87fa0eb664674088afe506f1ed9c8002c2bf4c97"
  },
  "kernelspec": {
   "display_name": "Python 3.10.2 64-bit",
   "language": "python",
   "name": "python3"
  },
  "language_info": {
   "codemirror_mode": {
    "name": "ipython",
    "version": 3
   },
   "file_extension": ".py",
   "mimetype": "text/x-python",
   "name": "python",
   "nbconvert_exporter": "python",
   "pygments_lexer": "ipython3",
   "version": "3.10.2"
  },
  "orig_nbformat": 4
 },
 "nbformat": 4,
 "nbformat_minor": 2
}
