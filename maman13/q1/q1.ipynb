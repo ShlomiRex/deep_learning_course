{
 "cells": [
  {
   "cell_type": "code",
   "execution_count": 100,
   "metadata": {},
   "outputs": [],
   "source": [
    "import torch\n",
    "import torchvision\n",
    "from torch import nn\n",
    "import matplotlib.pyplot as plt\n",
    "from torch.utils.data import DataLoader"
   ]
  },
  {
   "cell_type": "code",
   "execution_count": 101,
   "metadata": {},
   "outputs": [],
   "source": [
    "class MyConvLayer(nn.Module):\n",
    "\tdef __init__(self, in_channels=1, out_channels=1, kernel_size=(1,1), stride=1, padding=0):\n",
    "\t\tsuper().__init__()\n",
    "\t\t#TODO: Deal with channels, stride, pading\n",
    "\t\tassert in_channels > 0 and out_channels > 0\n",
    "\t\tassert kernel_size[0] > 0 and kernel_size[1] > 0\n",
    "\t\tassert stride > 0\n",
    "\t\tassert padding >= 0\n",
    "\n",
    "\t\tself.kern = nn.Parameter(torch.rand(kernel_size))\n",
    "\t\tself.p , self.q = kernel_size\n",
    "\t\tself.stride = stride\n",
    "\t\tself.padding = padding\n",
    "\t\t\n",
    "\tdef forward(self, X):\n",
    "\t\tprint(\"Input shape: \", X.shape)\n",
    "\n",
    "\t\toutput = torch.empty(X.size(0),\n",
    "\t\t\t\tX.size(1) - self.p + 1 + (self.padding*2),\n",
    "\t\t\t\tX.size(2) - self.q + 1 + (self.padding*2))\n",
    "\n",
    "\t\t# Pad\n",
    "\t\tprint(\"Padding: \", self.padding)\n",
    "\t\tX = torch.cat((torch.zeros((1, self.padding, X.shape[2])), X), dim=1) # Top\n",
    "\t\tX = torch.cat((torch.zeros((1, X.shape[1], self.padding)), X), dim=2) # Left\n",
    "\t\tX = torch.cat((X, torch.zeros((1, X.shape[1], self.padding))), dim=2) # Right\n",
    "\t\tX = torch.cat((X, torch.zeros((1, self.padding, X.shape[2]))), dim=1) # Bottom\n",
    "\t\t\n",
    "\t\tprint(\"Shape after pad: \", X.shape)\n",
    "\n",
    "\t\t# Kernel calculation: Minus (self.p + 1)\n",
    "\t\t# Padding calculation: Plus (self.padding)\n",
    "\t\t# Stride calculation: Minus (self.stride)\n",
    "\t\t\n",
    "\n",
    "\t\t\n",
    "\t\tprint(\"Output shape: \", output.shape)\n",
    "\n",
    "\t\tfor i in range(output.size(1)):\n",
    "\t\t\tfor j in range(output.size(2)):\n",
    "\t\t\t\tsub_img = X[:, i:(i + self.p), j:(j + self.q)]\n",
    "\t\t\t\toutput[:, i, j] = (sub_img*self.kern).sum(dim=(1,2))\n",
    "\n",
    "\t\treturn output"
   ]
  },
  {
   "cell_type": "markdown",
   "metadata": {},
   "source": [
    "# Define sobel kernels"
   ]
  },
  {
   "cell_type": "code",
   "execution_count": 102,
   "metadata": {},
   "outputs": [],
   "source": [
    "positive_X_sobel = torch.tensor([[1, 0, -1],\n",
    "                                 [2, 0, -2],\n",
    "                                 [1, 0, -1]])\n",
    "\n",
    "negative_X_sobel = torch.tensor([[-1, 0, 1],\n",
    "                                 [-2, 0, 2],\n",
    "                                 [-1, 0, 1]])\n",
    "\n",
    "negative_Y_sobel = torch.tensor([[1, 2, 1],\n",
    "                                 [0, 0, 0],\n",
    "                                 [-1, -2, -1]])\n",
    "\n",
    "positive_Y_sobel = torch.tensor([[-1, -2, -1],\n",
    "                                 [0, 0, 0],\n",
    "                                 [1, 2, 1]])"
   ]
  },
  {
   "cell_type": "markdown",
   "metadata": {},
   "source": [
    "# Get sample image from Fashion MINST"
   ]
  },
  {
   "cell_type": "code",
   "execution_count": 103,
   "metadata": {},
   "outputs": [],
   "source": [
    "train_data_transformed = torchvision.datasets.FashionMNIST(\n",
    "    root=\"/22961\", train=True, download=True,\n",
    "    transform=torchvision.transforms.ToTensor())\n",
    "\n",
    "train_dataloader = DataLoader(\n",
    "    train_data_transformed, batch_size=1)\n",
    "img, _ = next(iter(train_dataloader))"
   ]
  },
  {
   "cell_type": "markdown",
   "metadata": {},
   "source": [
    "# Regular conv"
   ]
  },
  {
   "cell_type": "code",
   "execution_count": 104,
   "metadata": {},
   "outputs": [
    {
     "name": "stdout",
     "output_type": "stream",
     "text": [
      "Input shape:  torch.Size([1, 28, 28])\n",
      "Padding:  0\n",
      "Shape after pad:  torch.Size([1, 28, 28])\n",
      "Output shape:  torch.Size([1, 26, 26])\n"
     ]
    },
    {
     "data": {
      "text/plain": [
       "<matplotlib.image.AxesImage at 0x1c53f464df0>"
      ]
     },
     "execution_count": 104,
     "metadata": {},
     "output_type": "execute_result"
    },
    {
     "data": {
      "image/png": "[encoded data removed]",
      "text/plain": [
       "<Figure size 432x288 with 1 Axes>"
      ]
     },
     "metadata": {
      "needs_background": "light"
     },
     "output_type": "display_data"
    }
   ],
   "source": [
    "myConvLayer = MyConvLayer(kernel_size=(3,3))\n",
    "myConvLayer.kern.requires_grad=False\n",
    "\n",
    "myConvLayer.kern[:] = positive_X_sobel\n",
    "img2= myConvLayer(img.reshape(1,28,28))\n",
    "plt.imshow(img2.detach().squeeze(),cmap='Greys')"
   ]
  },
  {
   "cell_type": "markdown",
   "metadata": {},
   "source": [
    "# Padding"
   ]
  },
  {
   "cell_type": "code",
   "execution_count": 105,
   "metadata": {},
   "outputs": [
    {
     "name": "stdout",
     "output_type": "stream",
     "text": [
      "Input shape:  torch.Size([1, 28, 28])\n",
      "Padding:  14\n",
      "Shape after pad:  torch.Size([1, 56, 56])\n",
      "Output shape:  torch.Size([1, 54, 54])\n"
     ]
    },
    {
     "data": {
      "text/plain": [
       "<matplotlib.image.AxesImage at 0x1c53f4a7c10>"
      ]
     },
     "execution_count": 105,
     "metadata": {},
     "output_type": "execute_result"
    },
    {
     "data": {
      "image/png": "[encoded data removed]",
      "text/plain": [
       "<Figure size 432x288 with 1 Axes>"
      ]
     },
     "metadata": {
      "needs_background": "light"
     },
     "output_type": "display_data"
    }
   ],
   "source": [
    "myConvLayer = MyConvLayer(kernel_size=(3,3), padding=14)\n",
    "myConvLayer.kern.requires_grad=False\n",
    "\n",
    "myConvLayer.kern[:] = positive_X_sobel\n",
    "img2= myConvLayer(img.reshape(1,28,28))\n",
    "plt.imshow(img2.detach().squeeze(),cmap='Greys')"
   ]
  },
  {
   "cell_type": "markdown",
   "metadata": {},
   "source": [
    "# Stride"
   ]
  },
  {
   "cell_type": "code",
   "execution_count": 106,
   "metadata": {},
   "outputs": [
    {
     "name": "stdout",
     "output_type": "stream",
     "text": [
      "Input shape:  torch.Size([1, 28, 28])\n",
      "Padding:  0\n",
      "Shape after pad:  torch.Size([1, 28, 28])\n",
      "Output shape:  torch.Size([1, 26, 26])\n"
     ]
    },
    {
     "data": {
      "text/plain": [
       "<matplotlib.image.AxesImage at 0x1c53f512a10>"
      ]
     },
     "execution_count": 106,
     "metadata": {},
     "output_type": "execute_result"
    },
    {
     "data": {
      "image/png": "[encoded data removed]",
      "text/plain": [
       "<Figure size 432x288 with 1 Axes>"
      ]
     },
     "metadata": {
      "needs_background": "light"
     },
     "output_type": "display_data"
    }
   ],
   "source": [
    "myConvLayer = MyConvLayer(kernel_size=(3,3), stride=2)\n",
    "myConvLayer.kern.requires_grad=False\n",
    "\n",
    "myConvLayer.kern[:] = positive_X_sobel\n",
    "img2= myConvLayer(img.reshape(1,28,28))\n",
    "plt.imshow(img2.detach().squeeze(),cmap='Greys')"
   ]
  },
  {
   "cell_type": "markdown",
   "metadata": {},
   "source": [
    "## Define the conv layer size, stride and more"
   ]
  },
  {
   "cell_type": "code",
   "execution_count": 107,
   "metadata": {},
   "outputs": [],
   "source": [
    "# myConvLayer = MyConvLayer(kernel_size=(3,3))\n",
    "# myConvLayer.kern.requires_grad=False"
   ]
  },
  {
   "cell_type": "markdown",
   "metadata": {},
   "source": [
    "## Positive X sobel"
   ]
  },
  {
   "cell_type": "code",
   "execution_count": 108,
   "metadata": {},
   "outputs": [],
   "source": [
    "# myConvLayer.kern[:] = positive_X_sobel\n",
    "# img2= myConvLayer(img.reshape(1,28,28))\n",
    "# plt.imshow(img2.detach().squeeze(),cmap='Greys')"
   ]
  },
  {
   "cell_type": "markdown",
   "metadata": {},
   "source": [
    "## Negative X sobel"
   ]
  },
  {
   "cell_type": "code",
   "execution_count": 109,
   "metadata": {},
   "outputs": [],
   "source": [
    "# myConvLayer.kern[:] = negative_X_sobel\n",
    "# img2= myConvLayer(img.reshape(1,28,28))\n",
    "# plt.imshow(img2.detach().squeeze(),cmap='Greys')"
   ]
  },
  {
   "cell_type": "markdown",
   "metadata": {},
   "source": [
    "## Positive Y sobel"
   ]
  },
  {
   "cell_type": "code",
   "execution_count": 110,
   "metadata": {},
   "outputs": [],
   "source": [
    "# myConvLayer.kern[:] = positive_Y_sobel\n",
    "# img2= myConvLayer(img.reshape(1,28,28))\n",
    "# plt.imshow(img2.detach().squeeze(),cmap='Greys')"
   ]
  },
  {
   "cell_type": "markdown",
   "metadata": {},
   "source": [
    "## Negative Y sobel"
   ]
  },
  {
   "cell_type": "code",
   "execution_count": 111,
   "metadata": {},
   "outputs": [],
   "source": [
    "# myConvLayer.kern[:] = negative_Y_sobel\n",
    "# img2= myConvLayer(img.reshape(1,28,28))\n",
    "# plt.imshow(img2.detach().squeeze(),cmap='Greys')"
   ]
  },
  {
   "cell_type": "markdown",
   "metadata": {},
   "source": [
    "# Read only if you want to understand"
   ]
  },
  {
   "cell_type": "markdown",
   "metadata": {},
   "source": [
    "### Padding example"
   ]
  },
  {
   "cell_type": "code",
   "execution_count": 112,
   "metadata": {},
   "outputs": [
    {
     "name": "stdout",
     "output_type": "stream",
     "text": [
      "Top: tensor([[[0., 0., 0., 0., 0.],\n",
      "         [0., 0., 0., 0., 0.],\n",
      "         [1., 1., 1., 1., 1.],\n",
      "         [1., 1., 1., 1., 1.],\n",
      "         [1., 1., 1., 1., 1.],\n",
      "         [1., 1., 1., 1., 1.],\n",
      "         [1., 1., 1., 1., 1.]]])\n",
      "Left:  tensor([[[0., 0., 1., 1., 1., 1., 1.],\n",
      "         [0., 0., 1., 1., 1., 1., 1.],\n",
      "         [0., 0., 1., 1., 1., 1., 1.],\n",
      "         [0., 0., 1., 1., 1., 1., 1.],\n",
      "         [0., 0., 1., 1., 1., 1., 1.]]])\n",
      "Right:  tensor([[[1., 1., 1., 1., 1., 0., 0.],\n",
      "         [1., 1., 1., 1., 1., 0., 0.],\n",
      "         [1., 1., 1., 1., 1., 0., 0.],\n",
      "         [1., 1., 1., 1., 1., 0., 0.],\n",
      "         [1., 1., 1., 1., 1., 0., 0.]]])\n",
      "Bottom:  tensor([[[1., 1., 1., 1., 1.],\n",
      "         [1., 1., 1., 1., 1.],\n",
      "         [1., 1., 1., 1., 1.],\n",
      "         [1., 1., 1., 1., 1.],\n",
      "         [1., 1., 1., 1., 1.],\n",
      "         [0., 0., 0., 0., 0.],\n",
      "         [0., 0., 0., 0., 0.]]])\n"
     ]
    }
   ],
   "source": [
    "img = torch.ones((1, 5, 5))\n",
    "\n",
    "padding = 2\n",
    "\n",
    "print(\"Top:\", torch.cat((torch.zeros((1, padding, 5)), img), dim=1)) # Top\n",
    "\n",
    "print(\"Left: \", torch.cat((torch.zeros((1, 5, padding)), img), dim=2)) # Left\n",
    "\n",
    "print(\"Right: \", torch.cat((img, torch.zeros((1, 5, padding))), dim=2)) # Right\n",
    "\n",
    "print(\"Bottom: \", torch.cat((img, torch.zeros((1, padding, 5))), dim=1)) # Bottom\n"
   ]
  },
  {
   "cell_type": "code",
   "execution_count": null,
   "metadata": {},
   "outputs": [],
   "source": []
  }
 ],
 "metadata": {
  "interpreter": {
   "hash": "15048e23eb58eade66c74c7a87fa0eb664674088afe506f1ed9c8002c2bf4c97"
  },
  "kernelspec": {
   "display_name": "Python 3.10.2 64-bit",
   "language": "python",
   "name": "python3"
  },
  "language_info": {
   "codemirror_mode": {
    "name": "ipython",
    "version": 3
   },
   "file_extension": ".py",
   "mimetype": "text/x-python",
   "name": "python",
   "nbconvert_exporter": "python",
   "pygments_lexer": "ipython3",
   "version": "3.10.2"
  },
  "orig_nbformat": 4
 },
 "nbformat": 4,
 "nbformat_minor": 2
}
