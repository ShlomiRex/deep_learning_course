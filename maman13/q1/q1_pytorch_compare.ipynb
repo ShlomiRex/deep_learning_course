{
 "cells": [
  {
   "cell_type": "code",
   "execution_count": 1,
   "metadata": {},
   "outputs": [
    {
     "name": "stderr",
     "output_type": "stream",
     "text": [
      "c:\\Users\\Shlomi\\AppData\\Local\\Programs\\Python\\Python310\\lib\\site-packages\\tqdm\\auto.py:22: TqdmWarning: IProgress not found. Please update jupyter and ipywidgets. See https://ipywidgets.readthedocs.io/en/stable/user_install.html\n",
      "  from .autonotebook import tqdm as notebook_tqdm\n"
     ]
    }
   ],
   "source": [
    "import torch\n",
    "import torchvision\n",
    "from torch import nn\n",
    "import matplotlib.pyplot as plt\n",
    "from torch.utils.data import DataLoader"
   ]
  },
  {
   "cell_type": "markdown",
   "metadata": {},
   "source": [
    "# Define sobel kernels"
   ]
  },
  {
   "cell_type": "code",
   "execution_count": 2,
   "metadata": {},
   "outputs": [],
   "source": [
    "positive_X_sobel = torch.tensor([[1, 0, -1],\n",
    "                                 [2, 0, -2],\n",
    "                                 [1, 0, -1]])\n",
    "\n",
    "negative_X_sobel = torch.tensor([[-1, 0, 1],\n",
    "                                 [-2, 0, 2],\n",
    "                                 [-1, 0, 1]])\n",
    "\n",
    "negative_Y_sobel = torch.tensor([[1, 2, 1],\n",
    "                                 [0, 0, 0],\n",
    "                                 [-1, -2, -1]])\n",
    "\n",
    "positive_Y_sobel = torch.tensor([[-1, -2, -1],\n",
    "                                 [0, 0, 0],\n",
    "                                 [1, 2, 1]])"
   ]
  },
  {
   "cell_type": "markdown",
   "metadata": {},
   "source": [
    "# Get sample image from Fashion MINST"
   ]
  },
  {
   "cell_type": "code",
   "execution_count": 3,
   "metadata": {},
   "outputs": [],
   "source": [
    "train_data_transformed = torchvision.datasets.FashionMNIST(\n",
    "    root=\"/22961\", train=True, download=True,\n",
    "    transform=torchvision.transforms.ToTensor())\n",
    "\n",
    "train_dataloader = DataLoader(\n",
    "    train_data_transformed, batch_size=1)\n",
    "img, _ = next(iter(train_dataloader))"
   ]
  },
  {
   "cell_type": "markdown",
   "metadata": {},
   "source": [
    "# Regular conv"
   ]
  },
  {
   "cell_type": "code",
   "execution_count": 4,
   "metadata": {},
   "outputs": [
    {
     "data": {
      "text/plain": [
       "<matplotlib.image.AxesImage at 0x24727ab2950>"
      ]
     },
     "execution_count": 4,
     "metadata": {},
     "output_type": "execute_result"
    },
    {
     "data": {
      "image/png": "[encoded data removed]",
      "text/plain": [
       "<Figure size 432x288 with 1 Axes>"
      ]
     },
     "metadata": {
      "needs_background": "light"
     },
     "output_type": "display_data"
    }
   ],
   "source": [
    "\n",
    "myConvLayer = torch.nn.Conv2d(1, 1, (3,3))\n",
    "\n",
    "myConvLayer.weight=nn.Parameter(positive_X_sobel.reshape(1,1,3,3).float(), requires_grad=False)\n",
    "\n",
    "img2= myConvLayer(img.reshape(1,28,28))\n",
    "plt.imshow(img2.detach().squeeze(),cmap='Greys')"
   ]
  },
  {
   "cell_type": "markdown",
   "metadata": {},
   "source": [
    "# Padding"
   ]
  },
  {
   "cell_type": "code",
   "execution_count": 5,
   "metadata": {},
   "outputs": [
    {
     "data": {
      "text/plain": [
       "<matplotlib.image.AxesImage at 0x24729bb65c0>"
      ]
     },
     "execution_count": 5,
     "metadata": {},
     "output_type": "execute_result"
    },
    {
     "data": {
      "image/png": "[encoded data removed]",
      "text/plain": [
       "<Figure size 432x288 with 1 Axes>"
      ]
     },
     "metadata": {
      "needs_background": "light"
     },
     "output_type": "display_data"
    }
   ],
   "source": [
    "\n",
    "myConvLayer = torch.nn.Conv2d(1, 1, (3,3), padding=14)\n",
    "myConvLayer.weight=nn.Parameter(positive_X_sobel.reshape(1,1,3,3).float(), requires_grad=False)\n",
    "\n",
    "img2= myConvLayer(img.reshape(1,28,28))\n",
    "plt.imshow(img2.detach().squeeze(),cmap='Greys')"
   ]
  },
  {
   "cell_type": "markdown",
   "metadata": {},
   "source": [
    "# Stride"
   ]
  },
  {
   "cell_type": "code",
   "execution_count": 6,
   "metadata": {},
   "outputs": [
    {
     "data": {
      "text/plain": [
       "<matplotlib.image.AxesImage at 0x24729c2de70>"
      ]
     },
     "execution_count": 6,
     "metadata": {},
     "output_type": "execute_result"
    },
    {
     "data": {
      "image/png": "[encoded data removed]",
      "text/plain": [
       "<Figure size 432x288 with 1 Axes>"
      ]
     },
     "metadata": {
      "needs_background": "light"
     },
     "output_type": "display_data"
    }
   ],
   "source": [
    "myConvLayer = torch.nn.Conv2d(1, 1, (3,3), stride=2)\n",
    "myConvLayer.weight=nn.Parameter(positive_X_sobel.reshape(1,1,3,3).float(), requires_grad=False)\n",
    "\n",
    "img2= myConvLayer(img.reshape(1,28,28))\n",
    "plt.imshow(img2.detach().squeeze(),cmap='Greys')"
   ]
  }
 ],
 "metadata": {
  "interpreter": {
   "hash": "15048e23eb58eade66c74c7a87fa0eb664674088afe506f1ed9c8002c2bf4c97"
  },
  "kernelspec": {
   "display_name": "Python 3.10.2 64-bit",
   "language": "python",
   "name": "python3"
  },
  "language_info": {
   "codemirror_mode": {
    "name": "ipython",
    "version": 3
   },
   "file_extension": ".py",
   "mimetype": "text/x-python",
   "name": "python",
   "nbconvert_exporter": "python",
   "pygments_lexer": "ipython3",
   "version": "3.10.2"
  },
  "orig_nbformat": 4
 },
 "nbformat": 4,
 "nbformat_minor": 2
}
