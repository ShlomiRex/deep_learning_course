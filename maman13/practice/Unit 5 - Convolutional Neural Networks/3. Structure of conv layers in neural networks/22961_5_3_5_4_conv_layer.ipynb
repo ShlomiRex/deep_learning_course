{
  "nbformat": 4,
  "nbformat_minor": 0,
  "metadata": {
    "colab": {
      "name": "22961_5_3_5_4_Conv_Layer",
      "provenance": [],
      "collapsed_sections": [],
      "authorship_tag": "ABX9TyMC5fX+EPoOjRGvDA72V41h",
      "include_colab_link": true
    },
    "kernelspec": {
      "name": "python3",
      "display_name": "Python 3"
    },
    "language_info": {
      "name": "python"
    }
  },
  "cells": [
    {
      "cell_type": "markdown",
      "metadata": {
        "id": "view-in-github",
        "colab_type": "text"
      },
      "source": [
        "<a href=\"https://colab.research.google.com/gist/22961-Deep-learning/06cc7452c5c6f012e2977d95c153ca78/22961_5_3_5_4_conv_layer.ipynb\" target=\"_parent\"><img src=\"https://colab.research.google.com/assets/colab-badge.svg\" alt=\"Open In Colab\"/></a>"
      ]
    },
    {
      "cell_type": "code",
      "execution_count": 1,
      "metadata": {
        "id": "xRvZe-7xL6yT"
      },
      "outputs": [],
      "source": [
        "import torch\n",
        "import torchvision\n",
        "from torch import nn\n",
        "import matplotlib.pyplot as plt\n",
        "from torch.utils.data import DataLoader\n",
        "\n",
        "train_data_transformed = torchvision.datasets.FashionMNIST(\n",
        "    root=\"/22961\", train=True, download=True,\n",
        "    transform=torchvision.transforms.ToTensor())\n",
        "\n",
        "train_dataloader = DataLoader(\n",
        "    train_data_transformed, batch_size=1)\n",
        "img, _ = next(iter(train_dataloader))"
      ]
    },
    {
      "cell_type": "code",
      "source": [
        "class ConvLayer_1(nn.Module):\n",
        "    def __init__(self, kernel_size):\n",
        "        super().__init__()\n",
        "        self.kern = nn.Parameter(torch.rand(kernel_size))\n",
        "        self.p , self.q = kernel_size\n",
        "    def forward(self, X):\n",
        "      output = torch.empty(X.size(0),\n",
        "                           X.size(1)-self.p+1,\n",
        "                           X.size(2)-self.q+1)\n",
        "      for i in range(output.size(1)):\n",
        "        for j in range(output.size(2)):\n",
        "          sub_img=X[:,i:(i+self.p),j:(j+self.q)]\n",
        "          output[:,i,j]=(sub_img*self.kern).sum(dim=(1,2))\n",
        "      return output"
      ],
      "metadata": {
        "id": "dL3XNt6PSpHA"
      },
      "execution_count": 2,
      "outputs": []
    },
    {
      "cell_type": "code",
      "source": [
        "B=ConvLayer_1((3,3))\n",
        "B.kern.requires_grad=False\n",
        "B.kern[:]=torch.tensor([[1/16,1/8,1/16],\n",
        "                     [1/8,1/4,1/8],\n",
        "                     [1/16,1/8,1/16]])\n",
        "img2=B(img.reshape(1,28,28))\n",
        "plt.imshow(img2.detach().squeeze(),cmap='Greys');"
      ],
      "metadata": {
        "colab": {
          "base_uri": "https://localhost:8080/",
          "height": 265
        },
        "id": "yEXSkQboTo1Q",
        "outputId": "e92b62b3-e958-4ab7-9af1-c13233aa96b4"
      },
      "execution_count": 3,
      "outputs": [
        {
          "output_type": "display_data",
          "data": {
            "text/plain": [
              "<Figure size 432x288 with 1 Axes>"
            ],
            "image/png": "[encoded data removed]"
          },
          "metadata": {
            "needs_background": "light"
          }
        }
      ]
    },
    {
      "cell_type": "markdown",
      "source": [
        "#Finding a Kernel via SGD"
      ],
      "metadata": {
        "id": "MB_8QBzX2ysi"
      }
    },
    {
      "cell_type": "code",
      "source": [
        "edge_detector=ConvLayer_1((3,3))\n",
        "edge_detector.kern.requires_grad=False\n",
        "edge_detector.kern[:]=torch.tensor([[-1.,-1,-1],\n",
        "                                    [0,0,0],\n",
        "                                    [1,1,1]])"
      ],
      "metadata": {
        "id": "BFb1104M0UkE"
      },
      "execution_count": 4,
      "outputs": []
    },
    {
      "cell_type": "code",
      "source": [
        "img2=edge_detector(img.reshape(1,28,28))\n",
        "plt.imshow(img2.detach().squeeze(),cmap='Greys');\n",
        "plt.colorbar();"
      ],
      "metadata": {
        "colab": {
          "base_uri": "https://localhost:8080/",
          "height": 265
        },
        "id": "fJsZCyNz1jjm",
        "outputId": "1b2ac462-3fd0-47b8-846b-0bb11a4e8e68"
      },
      "execution_count": 5,
      "outputs": [
        {
          "output_type": "display_data",
          "data": {
            "text/plain": [
              "<Figure size 432x288 with 2 Axes>"
            ],
            "image/png": "[encoded data removed]"
          },
          "metadata": {
            "needs_background": "light"
          }
        }
      ]
    },
    {
      "cell_type": "code",
      "source": [
        "train_dataloader = DataLoader(\n",
        "    train_data_transformed, batch_size=512)\n",
        "\n",
        "my_conv=ConvLayer_1((3,3));\n",
        "optimizer = torch.optim.SGD(my_conv.parameters(), lr=0.1)\n",
        "\n",
        "def iterate_batch(imgs):\n",
        "  optimizer.zero_grad()\n",
        "  my_transformed_imgs = my_conv(imgs)\n",
        "  target_imgs = edge_detector(imgs)\n",
        "  loss = ((my_transformed_imgs-target_imgs)**2).mean()\n",
        "  loss.backward()\n",
        "  optimizer.step()\n",
        "  return loss\n",
        "\n"
      ],
      "metadata": {
        "id": "FmItCNat3_pY"
      },
      "execution_count": 6,
      "outputs": []
    },
    {
      "cell_type": "code",
      "source": [
        "from tqdm import tqdm\n",
        "batches=len(train_dataloader)\n",
        "\n",
        "batch_loss=torch.zeros(batches)\n",
        "for idx, (imgs, _) in tqdm(enumerate(train_dataloader),total=batches):\n",
        "  imgs=imgs.squeeze()\n",
        "  batch_loss[idx] = iterate_batch(imgs)"
      ],
      "metadata": {
        "colab": {
          "base_uri": "https://localhost:8080/"
        },
        "id": "EEKiVXsi4rKA",
        "outputId": "18154bd3-49e8-4f74-9dc8-6bd25709d0e5"
      },
      "execution_count": 7,
      "outputs": [
        {
          "output_type": "stream",
          "name": "stderr",
          "text": [
            "100%|██████████| 118/118 [00:32<00:00,  3.61it/s]\n"
          ]
        }
      ]
    },
    {
      "cell_type": "code",
      "source": [
        "plt.semilogy(batch_loss.detach());"
      ],
      "metadata": {
        "colab": {
          "base_uri": "https://localhost:8080/",
          "height": 265
        },
        "id": "qfRcJOpF5rE1",
        "outputId": "eca1ff0f-8bbe-42a8-d4f8-96247c548f44"
      },
      "execution_count": 8,
      "outputs": [
        {
          "output_type": "display_data",
          "data": {
            "text/plain": [
              "<Figure size 432x288 with 1 Axes>"
            ],
            "image/png": "[encoded data removed]"
          },
          "metadata": {
            "needs_background": "light"
          }
        }
      ]
    },
    {
      "cell_type": "code",
      "source": [
        "imgs, _ = next(iter(train_dataloader))\n",
        "imgs=imgs.squeeze()\n",
        "my_transformed_imgs = my_conv(imgs)\n",
        "target_imgs = edge_detector(imgs)\n",
        "\n",
        "fig,axes = plt.subplots(1,2)\n",
        "fig.set_figheight(6)\n",
        "fig.set_figwidth(10)\n",
        "axes[0].imshow(my_transformed_imgs[0,...].detach(),cmap='Greys')\n",
        "axes[0].set_title(\"my_conv\")\n",
        "axes[0].axes.get_xaxis().set_visible(False)\n",
        "axes[0].axes.get_yaxis().set_visible(False)\n",
        "\n",
        "\n",
        "axes[1].imshow(my_transformed_imgs[0,...].detach(),cmap='Greys')\n",
        "axes[1].set_title(\"edge_detector\")\n",
        "axes[1].axes.get_xaxis().set_visible(False)\n",
        "axes[1].axes.get_yaxis().set_visible(False)"
      ],
      "metadata": {
        "colab": {
          "base_uri": "https://localhost:8080/",
          "height": 304
        },
        "id": "dWdBOAPg7E-9",
        "outputId": "6d68ddcc-c801-4626-bb42-ea82ee7395ef"
      },
      "execution_count": 9,
      "outputs": [
        {
          "output_type": "display_data",
          "data": {
            "text/plain": [
              "<Figure size 720x432 with 2 Axes>"
            ],
            "image/png": "[encoded data removed]"
          },
          "metadata": {
            "needs_background": "light"
          }
        }
      ]
    },
    {
      "cell_type": "code",
      "source": [
        "print(my_conv.kern)"
      ],
      "metadata": {
        "colab": {
          "base_uri": "https://localhost:8080/"
        },
        "id": "a6rngvZjCLex",
        "outputId": "4abadea8-7105-443c-fe05-db19c28bf8dc"
      },
      "execution_count": 10,
      "outputs": [
        {
          "output_type": "stream",
          "name": "stdout",
          "text": [
            "Parameter containing:\n",
            "tensor([[-0.9739, -0.5325, -0.9386],\n",
            "        [ 0.3821, -0.1419,  0.1774],\n",
            "        [ 0.5991,  0.6170,  0.8060]], requires_grad=True)\n"
          ]
        }
      ]
    },
    {
      "cell_type": "markdown",
      "source": [
        "#5.4 Conv Layer Details"
      ],
      "metadata": {
        "id": "N2oZb43k3j4D"
      }
    },
    {
      "cell_type": "markdown",
      "source": [
        "Multiple Output Channels"
      ],
      "metadata": {
        "id": "qjsy4-c0PuH-"
      }
    },
    {
      "cell_type": "code",
      "source": [
        "class ConvLayer_2(nn.Module):\n",
        "    def __init__(self,out_channels=1, kernel_size=(1,1)):\n",
        "        super().__init__()\n",
        "        self.kern = nn.Parameter(\n",
        "            torch.rand((out_channels,*kernel_size)))\n",
        "        self.p , self.q = kernel_size\n",
        "        self.out_channels=out_channels\n",
        "    def forward(self, X):\n",
        "      output = torch.empty(X.size(0),\n",
        "                           self.out_channels,\n",
        "                           X.size(1)-self.p+1,\n",
        "                           X.size(2)-self.q+1)\n",
        "      for i in range(output.size(2)):\n",
        "        for j in range(output.size(3)):\n",
        "          sub_img=X[:,i:(i+self.p),j:(j+self.q)]\n",
        "          sub_img=sub_img.unsqueeze(1)\n",
        "          output[:,:,i,j]=(sub_img*self.kern).sum(dim=(2,3))\n",
        "      return output"
      ],
      "metadata": {
        "id": "aXhOozFlPt17"
      },
      "execution_count": 11,
      "outputs": []
    },
    {
      "cell_type": "code",
      "source": [
        "edge_detector2=ConvLayer_2(2,(3,3))\n",
        "filters=torch.tensor(\n",
        "    [[[-1.,-1,-1],\n",
        "      [0,0,0],\n",
        "      [1,1,1]],\n",
        "     \n",
        "     [[-1,0,1],\n",
        "      [-1,0,1],\n",
        "      [-1,0,1]]])\n",
        "print(filters.size())\n",
        "edge_detector2.kern.requires_grad=False\n",
        "edge_detector2.kern[:]=filters\n",
        "print(imgs.size())\n",
        "edges_detected=edge_detector2(imgs)\n",
        "print(edges_detected.size())"
      ],
      "metadata": {
        "colab": {
          "base_uri": "https://localhost:8080/"
        },
        "id": "3O1MmaubQxOb",
        "outputId": "0846d4f9-9304-4e23-bbc3-80ea5217fefb"
      },
      "execution_count": 12,
      "outputs": [
        {
          "output_type": "stream",
          "name": "stdout",
          "text": [
            "torch.Size([2, 3, 3])\n",
            "torch.Size([512, 28, 28])\n",
            "torch.Size([512, 2, 26, 26])\n"
          ]
        }
      ]
    },
    {
      "cell_type": "code",
      "source": [
        "\n",
        "fig,axes = plt.subplots(1,2)\n",
        "fig.set_figheight(6)\n",
        "fig.set_figwidth(10)\n",
        "\n",
        "axes[0].imshow(edges_detected[0,0,...].detach(),cmap='Greys')\n",
        "axes[0].set_title(\"Channel 0\")\n",
        "axes[0].axes.get_xaxis().set_visible(False)\n",
        "axes[0].axes.get_yaxis().set_visible(False)\n",
        "\n",
        "\n",
        "axes[1].imshow(edges_detected[0,1,...].detach(),cmap='Greys')\n",
        "axes[1].set_title(\"Channel 1\")\n",
        "axes[1].axes.get_xaxis().set_visible(False)\n",
        "axes[1].axes.get_yaxis().set_visible(False)"
      ],
      "metadata": {
        "colab": {
          "base_uri": "https://localhost:8080/",
          "height": 304
        },
        "id": "SAyGPCa4VkKw",
        "outputId": "112fb8a8-5f68-4a83-fe82-8c4bda424214"
      },
      "execution_count": 13,
      "outputs": [
        {
          "output_type": "display_data",
          "data": {
            "text/plain": [
              "<Figure size 720x432 with 2 Axes>"
            ],
            "image/png": "[encoded data removed]"
          },
          "metadata": {
            "needs_background": "light"
          }
        }
      ]
    },
    {
      "cell_type": "markdown",
      "source": [
        "Multiple input channels"
      ],
      "metadata": {
        "id": "oxNRWWUz63XF"
      }
    },
    {
      "cell_type": "code",
      "source": [
        "class ConvLayer_3(nn.Module):\n",
        "    def __init__(self,in_channels=1, kernel_size=(1,1)):\n",
        "        super().__init__()\n",
        "        self.kern = nn.Parameter(\n",
        "            torch.rand((in_channels,*kernel_size)))\n",
        "        self.p , self.q  = kernel_size\n",
        "        self.in_channels = in_channels\n",
        "    def forward(self, X):\n",
        "      output = torch.empty(X.size(0),\n",
        "                           X.size(2)-self.p+1,\n",
        "                           X.size(3)-self.q+1)\n",
        "      for i in range(output.size(1)):\n",
        "        for j in range(output.size(2)):\n",
        "          sub_img=X[:,:,i:(i+self.p),j:(j+self.q)]\n",
        "          output[:,i,j]=(sub_img*self.kern).sum(dim=(1,2,3))\n",
        "      return output"
      ],
      "metadata": {
        "id": "7s71NTzV65iI"
      },
      "execution_count": 14,
      "outputs": []
    },
    {
      "cell_type": "code",
      "source": [
        "aggregate=ConvLayer_3(2,(1,1))\n",
        "aggregate.kern = nn.Parameter(torch.tensor(0.5).expand(2,1,1))\n",
        "edges_aggregated=aggregate(edges_detected)\n",
        "\n",
        "print(aggregate.kern.size())\n",
        "print(edges_aggregated.size())\n",
        "plt.imshow(edges_aggregated[0,...].detach(),cmap='Greys');"
      ],
      "metadata": {
        "colab": {
          "base_uri": "https://localhost:8080/",
          "height": 299
        },
        "id": "WI2mXHze8Tk3",
        "outputId": "3917b424-724f-41f6-a562-782c107c3cb4"
      },
      "execution_count": 15,
      "outputs": [
        {
          "output_type": "stream",
          "name": "stdout",
          "text": [
            "torch.Size([2, 1, 1])\n",
            "torch.Size([512, 26, 26])\n"
          ]
        },
        {
          "output_type": "display_data",
          "data": {
            "text/plain": [
              "<Figure size 432x288 with 1 Axes>"
            ],
            "image/png": "[encoded data removed]"
          },
          "metadata": {
            "needs_background": "light"
          }
        }
      ]
    }
  ]
}