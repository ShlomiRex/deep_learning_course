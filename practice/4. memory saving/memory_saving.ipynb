{
 "cells": [
  {
   "cell_type": "code",
   "execution_count": 106,
   "metadata": {},
   "outputs": [],
   "source": [
    "import torch\n",
    "import numpy as np"
   ]
  },
  {
   "cell_type": "code",
   "execution_count": 107,
   "metadata": {},
   "outputs": [
    {
     "name": "stdout",
     "output_type": "stream",
     "text": [
      "tensor([[[ 0,  1,  2,  3,  4],\n",
      "         [ 5,  6,  7,  8,  9],\n",
      "         [10, 11, 12, 13, 14],\n",
      "         [15, 16, 17, 18, 19]],\n",
      "\n",
      "        [[20, 21, 22, 23, 24],\n",
      "         [25, 26, 27, 28, 29],\n",
      "         [30, 31, 32, 33, 34],\n",
      "         [35, 36, 37, 38, 39]]])\n",
      "tensor([[[ 2,  3],\n",
      "         [12, 13]],\n",
      "\n",
      "        [[22, 23],\n",
      "         [32, 33]]])\n"
     ]
    }
   ],
   "source": [
    "x = torch.arange(2*4*5).reshape(shape=(2,4,5))\n",
    "y = x[:,0::2,2:4]\n",
    "print(x,y,sep='\\n')"
   ]
  },
  {
   "cell_type": "markdown",
   "metadata": {},
   "source": [
    "# Changing one view (y) also changes the original tensor (x)!\n",
    "\n",
    "Here, `y` is slice of `x`.\n",
    "\n",
    "We change value of `y` to 100.\n",
    "\n",
    "Notice that `x` is also changed!"
   ]
  },
  {
   "cell_type": "code",
   "execution_count": 108,
   "metadata": {},
   "outputs": [
    {
     "name": "stdout",
     "output_type": "stream",
     "text": [
      "tensor([[[  2,   3],\n",
      "         [ 12,  13]],\n",
      "\n",
      "        [[100, 100],\n",
      "         [100, 100]]])\n",
      "tensor([[[  0,   1,   2,   3,   4],\n",
      "         [  5,   6,   7,   8,   9],\n",
      "         [ 10,  11,  12,  13,  14],\n",
      "         [ 15,  16,  17,  18,  19]],\n",
      "\n",
      "        [[ 20,  21, 100, 100,  24],\n",
      "         [ 25,  26,  27,  28,  29],\n",
      "         [ 30,  31, 100, 100,  34],\n",
      "         [ 35,  36,  37,  38,  39]]])\n"
     ]
    }
   ],
   "source": [
    "y[-1]=100\n",
    "print(y,x,sep='\\n')"
   ]
  },
  {
   "cell_type": "markdown",
   "metadata": {},
   "source": [
    "# If we don't want to change original tensor, we clone()"
   ]
  },
  {
   "cell_type": "code",
   "execution_count": 109,
   "metadata": {},
   "outputs": [
    {
     "data": {
      "text/plain": [
       "(tensor([[[  0,   0,   0],\n",
       "          [  0,   0,   0]],\n",
       " \n",
       "         [[100, 100,  24],\n",
       "          [100, 100,  34]]]),\n",
       " tensor([[[  0,   1,   2,   3,   4],\n",
       "          [  5,   6,   7,   8,   9],\n",
       "          [ 10,  11,  12,  13,  14],\n",
       "          [ 15,  16,  17,  18,  19]],\n",
       " \n",
       "         [[ 20,  21, 100, 100,  24],\n",
       "          [ 25,  26,  27,  28,  29],\n",
       "          [ 30,  31, 100, 100,  34],\n",
       "          [ 35,  36,  37,  38,  39]]]))"
      ]
     },
     "execution_count": 109,
     "metadata": {},
     "output_type": "execute_result"
    }
   ],
   "source": [
    "z = x[:,0::2,2:5].clone()\n",
    "z[0] = 0\n",
    "z, x"
   ]
  },
  {
   "cell_type": "markdown",
   "metadata": {},
   "source": [
    "# When we use index, this is not slice, not a view, and the tensor is copied"
   ]
  },
  {
   "cell_type": "code",
   "execution_count": 110,
   "metadata": {},
   "outputs": [
    {
     "name": "stdout",
     "output_type": "stream",
     "text": [
      "tensor([2, 3])\n",
      "tensor([0, 1, 2, 3, 4])\n",
      "tensor([False, False,  True,  True, False])\n",
      "tensor([2, 0])\n"
     ]
    }
   ],
   "source": [
    "x = torch.arange(5)\n",
    "index = (x>=2) & (x<4) # index = 2, 3\n",
    "y = x[index]\n",
    "print(y)\n",
    "y[-1]=0  # Here, X is not changed\n",
    "print(x,index,y,sep='\\n')"
   ]
  },
  {
   "cell_type": "markdown",
   "metadata": {},
   "source": [
    "# Wasted space when want in-place operation"
   ]
  },
  {
   "cell_type": "code",
   "execution_count": 111,
   "metadata": {},
   "outputs": [
    {
     "name": "stdout",
     "output_type": "stream",
     "text": [
      "False\n"
     ]
    }
   ],
   "source": [
    "x = torch.ones(5)\n",
    "address = id(x)\n",
    "x = torch.exp(x)  # Here, we want to do 'in place' operation (x equals operation on x)\n",
    "print(address == id(x))  # But, we can see that X has new ID, which indicating wasted space"
   ]
  },
  {
   "cell_type": "markdown",
   "metadata": {},
   "source": [
    "## How to fix wasted space - important\n",
    "Trust the operations of pytorch. \n",
    "\n",
    "Don't try to avoid it by messy code, trust the library."
   ]
  },
  {
   "cell_type": "code",
   "execution_count": 112,
   "metadata": {},
   "outputs": [
    {
     "name": "stdout",
     "output_type": "stream",
     "text": [
      "True\n"
     ]
    }
   ],
   "source": [
    "address = id(x)\n",
    "x[:] = torch.exp(x)  # Here, we do 'in place' operation, notice [:] at the beginning\n",
    "print(address == id(x))  # We can see that 'x' is the same memory address"
   ]
  },
  {
   "cell_type": "markdown",
   "metadata": {},
   "source": [
    "## Another way - using library '_' (underscore) functions"
   ]
  },
  {
   "cell_type": "code",
   "execution_count": 113,
   "metadata": {},
   "outputs": [
    {
     "name": "stdout",
     "output_type": "stream",
     "text": [
      "True\n"
     ]
    }
   ],
   "source": [
    "address = id(x)\n",
    "x = torch.exp_(x)  # Here, notice the '_' underscore at the function name - it's in place operations\n",
    "print(address == id(x))  # We can see that 'x' is the same memory address"
   ]
  },
  {
   "cell_type": "markdown",
   "metadata": {},
   "source": [
    "# Question 1"
   ]
  },
  {
   "cell_type": "markdown",
   "metadata": {},
   "source": [
    "## Way 1 - add two rows and return view"
   ]
  },
  {
   "cell_type": "code",
   "execution_count": 131,
   "metadata": {},
   "outputs": [
    {
     "name": "stdout",
     "output_type": "stream",
     "text": [
      "tensor([0, 1, 2, 3, 4]) torch.Size([5])\n",
      "tensor([0, 2, 4, 6, 8])\n",
      "True\n"
     ]
    }
   ],
   "source": [
    "x = torch.arange(5)\n",
    "address_before = id(x)\n",
    "print(x, x.size())\n",
    "\n",
    "x += x\n",
    "print(x)\n",
    "\n",
    "address_after = id(x)\n",
    "print(address_before == address_after)"
   ]
  },
  {
   "cell_type": "markdown",
   "metadata": {},
   "source": [
    "## Way 2 - convert to column and add `x` (the correct answer)"
   ]
  },
  {
   "cell_type": "code",
   "execution_count": 143,
   "metadata": {},
   "outputs": [
    {
     "name": "stdout",
     "output_type": "stream",
     "text": [
      "tensor([0, 1, 2, 3, 4]) torch.Size([5])\n",
      "tensor([0, 2, 4, 6, 8])\n",
      "True\n"
     ]
    }
   ],
   "source": [
    "x = torch.arange(5)\n",
    "address_before = id(x)\n",
    "print(x, x.size())\n",
    "\n",
    "y = x.view((5,1))  # Convert to column\n",
    "y += x.view((5, 1))\n",
    "print(x)\n",
    "\n",
    "address_after = id(x)\n",
    "print(address_before == address_after)"
   ]
  }
 ],
 "metadata": {
  "interpreter": {
   "hash": "491bb19b02bca4120e598d98c213a4bec2319d7b10161d80e88d4a71a12afc06"
  },
  "kernelspec": {
   "display_name": "Python 3.9.7 ('base')",
   "language": "python",
   "name": "python3"
  },
  "language_info": {
   "codemirror_mode": {
    "name": "ipython",
    "version": 3
   },
   "file_extension": ".py",
   "mimetype": "text/x-python",
   "name": "python",
   "nbconvert_exporter": "python",
   "pygments_lexer": "ipython3",
   "version": "3.9.7"
  },
  "orig_nbformat": 4
 },
 "nbformat": 4,
 "nbformat_minor": 2
}
