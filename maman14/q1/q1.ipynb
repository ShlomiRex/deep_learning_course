{
 "cells": [
  {
   "cell_type": "code",
   "execution_count": null,
   "metadata": {},
   "outputs": [],
   "source": [
    "import torch\n",
    "from torch import nn\n",
    "import datasets as ds\n",
    "from pprint import pprint\n",
    "from tqdm import tqdm\n",
    "from torchtext.vocab import build_vocab_from_iterator\n"
   ]
  },
  {
   "cell_type": "code",
   "execution_count": null,
   "metadata": {},
   "outputs": [],
   "source": [
    "# Load dataset\n",
    "dataset = ds.load_dataset(\"glue\", \"sst2\")\n",
    "\n",
    "# Get sentences (the data) and labels (the target)\n",
    "sentence_list = dataset[\"train\"][\"sentence\"]\n",
    "labels_list = dataset[\"train\"][\"label\"]\n",
    "\n",
    "# Tokenize the sentences\n",
    "tokenize = lambda x: x.split()\n",
    "tokenized = list(map(tokenize,sentence_list))"
   ]
  }
 ],
 "metadata": {
  "language_info": {
   "name": "python"
  },
  "orig_nbformat": 4
 },
 "nbformat": 4,
 "nbformat_minor": 2
}
