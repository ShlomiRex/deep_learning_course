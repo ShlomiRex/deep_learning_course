{
 "cells": [
  {
   "cell_type": "code",
   "execution_count": 14,
   "metadata": {},
   "outputs": [],
   "source": [
    "import torch\n",
    "from torch import nn\n",
    "import datasets as ds\n",
    "from pprint import pprint\n",
    "from tqdm import tqdm\n",
    "from torchtext.vocab import build_vocab_from_iterator\n",
    "from matplotlib import pyplot as plt"
   ]
  },
  {
   "cell_type": "markdown",
   "metadata": {},
   "source": [
    "# Documentation\n",
    "\n",
    "https://pytorch.org/docs/stable/generated/torch.nn.RNNCell.html\n",
    "\n",
    "https://pytorch.org/docs/stable/generated/torch.nn.GRU.html\n",
    "\n",
    "https://blog.floydhub.com/gru-with-pytorch/\n"
   ]
  },
  {
   "cell_type": "markdown",
   "metadata": {},
   "source": [
    "# Basic cell - to compare"
   ]
  },
  {
   "cell_type": "code",
   "execution_count": 15,
   "metadata": {},
   "outputs": [],
   "source": [
    "class BasicRNNCell(nn.Module):\n",
    "    def __init__(self, embed_dim, hidden_dim):\n",
    "        super().__init__()\n",
    "        self.hidden_state = torch.zeros(hidden_dim)\n",
    "        self.hidden_linear= nn.Linear(in_features = hidden_dim,\n",
    "                                     out_features = hidden_dim)\n",
    "        self.input_linear = nn.Linear(in_features = embed_dim,\n",
    "                                     out_features = hidden_dim)\n",
    "        self.activation   = nn.Tanh()\n",
    "    def forward(self, one_embedded_token):\n",
    "        Z1        = self.input_linear(one_embedded_token)\n",
    "        Z2        = self.hidden_linear(self.hidden_state)\n",
    "        Y         = Z1+Z2\n",
    "        new_state = self.activation(Y)\n",
    "        self.hidden_state = new_state\n",
    "        #return"
   ]
  },
  {
   "cell_type": "markdown",
   "metadata": {},
   "source": [
    "# Modified cell\n",
    "\n",
    "## Why I chose this activation\n",
    "\n",
    "I chose Sigmoid activation because it allows 'forgetting' some information about the tensor / token.\n",
    "\n",
    "One of the main reason to even have reset gate, is to forget the previous context.\n",
    "\n",
    "For example:\n",
    "\n",
    "'Shlomi is a good boy. Dr Idan did not like him.'\n",
    "\n",
    "The first sentence is positive, the second is negative. The ML learning the first sentence, but then comes the second sentence. The first sentence affects the computation of the probability of positive/negative sentiment of the model. So, to fix this, we can allow reset gate to foret the previous information gathered (about 'Shlomi is a good boy.') and continue with fresh context about the second sentence."
   ]
  },
  {
   "cell_type": "code",
   "execution_count": 16,
   "metadata": {},
   "outputs": [],
   "source": [
    "class ModifiedRNNCell(nn.Module):\n",
    "\tdef __init__(self, embed_dim, hidden_dim):\n",
    "\t\tsuper().__init__()\n",
    "\t\tself.hidden_state = torch.zeros(hidden_dim)\n",
    "\t\tself.hidden_state_reset = torch.zeros(hidden_dim)\n",
    "\n",
    "\t\tself.hidden_linear= nn.Linear(in_features = hidden_dim, out_features = hidden_dim)\n",
    "\t\tself.input_linear = nn.Linear(in_features = embed_dim, out_features = hidden_dim)\n",
    "\n",
    "\t\tself.reset_linear = nn.Linear(in_features = embed_dim, out_features = hidden_dim)\n",
    "\n",
    "\t\tself.tanh_activation   = nn.Tanh()\n",
    "\t\tself.sigmoid_activation = nn.Sigmoid()\n",
    "\tdef forward(self, one_embedded_token):\n",
    "\t\tinput        = self.input_linear(one_embedded_token)  # X_t - current input\n",
    "\t\thidden_state = self.hidden_linear(self.hidden_state)  # H_(t-1) - previous hidden state\n",
    "\t\tH_hat = self.tanh_activation(input + hidden_state)\n",
    "\n",
    "\t\t# https://blog.floydhub.com/gru-with-pytorch/\n",
    "\n",
    "\t\t# Reset gate\n",
    "\t\tR_t = self.reset_linear(one_embedded_token)  # Depends on input at timestep t only\n",
    "\t\tnew_H_t = H_hat * R_t\n",
    "\t\tself.hidden_state = self.sigmoid_activation(new_H_t)  # H_t - new hidden state. Sigmoid because output is between 0 and 1."
   ]
  },
  {
   "cell_type": "markdown",
   "metadata": {},
   "source": [
    "# Compare"
   ]
  },
  {
   "cell_type": "code",
   "execution_count": 17,
   "metadata": {},
   "outputs": [
    {
     "name": "stderr",
     "output_type": "stream",
     "text": [
      "Reusing dataset glue (C:\\Users\\Shlomi\\.cache\\huggingface\\datasets\\glue\\sst2\\1.0.0\\dacbe3125aa31d7f70367a07a8a9e72a5a0bfeb5fc42e75c9db75b96da6053ad)\n",
      "100%|██████████| 3/3 [00:00<00:00, 749.56it/s]\n"
     ]
    }
   ],
   "source": [
    "dataset = ds.load_dataset(\"glue\", \"sst2\")\n",
    "\n",
    "sentence_list=dataset[\"train\"][\"sentence\"]\n",
    "labels_list=dataset[\"train\"][\"label\"]\n",
    "tokenize = lambda x: x.split()\n",
    "tokenized=list(map(tokenize,sentence_list))\n",
    "\n",
    "vocab=build_vocab_from_iterator(tokenized, specials=[\"<UNK>\"],min_freq=5)\n",
    "vocab.set_default_index(0)\n",
    "\n",
    "func = lambda x: torch.tensor(vocab(x))\n",
    "integer_tokens=list(map(func,tokenized))\n",
    "label_tensors=list(map(torch.tensor,labels_list))\n",
    "\n",
    "test_split=len(integer_tokens)*8//10\n",
    "train_tokens=integer_tokens[:test_split]\n",
    "train_labels=label_tensors[:test_split]\n",
    "test_tokens=integer_tokens[test_split:]\n",
    "test_labels=label_tensors[test_split:]"
   ]
  },
  {
   "cell_type": "code",
   "execution_count": 18,
   "metadata": {},
   "outputs": [],
   "source": [
    "class BaseRNNClassifier(nn.Module):\n",
    "\tdef __init__(self, embed_dim, hidden_dim, is_basic_rnn: True):\n",
    "\t\tsuper().__init__()\n",
    "\t\tself.hidden_dim = hidden_dim\n",
    "\t\tself.embedding  = nn.Embedding(len(vocab),embed_dim)\n",
    "\n",
    "\t\tif is_basic_rnn:\n",
    "\t\t\tself.rnn = BasicRNNCell(embed_dim, hidden_dim)\n",
    "\t\telse:\n",
    "\t\t\tself.rnn = ModifiedRNNCell(embed_dim, hidden_dim)\n",
    "\t\t\n",
    "\t\tself.linear     = nn.Linear(hidden_dim, 2)\n",
    "\t\tself.logsoftmax = nn.LogSoftmax(dim=0)\n",
    "\n",
    "\tdef forward(self, sentence_tokens):\n",
    "\t\tself.rnn.hidden_state = torch.zeros(self.hidden_dim)\n",
    "\t\tfor one_token in sentence_tokens:\n",
    "\t\t\tone_embedded_token = self.embedding(one_token)\n",
    "\t\t\tself.rnn(one_embedded_token)\n",
    "\n",
    "\t\tfeature_extractor_output = self.rnn.hidden_state\n",
    "\t\tclass_scores       = self.linear(feature_extractor_output)\n",
    "\t\tlogprobs           = self.logsoftmax(class_scores)\n",
    "\t\treturn logprobs\n",
    "\n",
    "class BasicRNNClassifier(BaseRNNClassifier):\n",
    "\tdef __init__(self, embed_dim, hidden_dim):\n",
    "\t\tsuper().__init__(embed_dim, hidden_dim, is_basic_rnn=True)\n",
    "\n",
    "class ModifiedRNNClassifier(BaseRNNClassifier):\n",
    "\tdef __init__(self, embed_dim, hidden_dim):\n",
    "\t\tsuper().__init__(embed_dim, hidden_dim, is_basic_rnn=False)\n",
    "\n",
    "def iterate_one_sentence(model, optimizer, tokens,label,train_flag):\n",
    "\tif train_flag:\n",
    "\t\tmodel.train()  \n",
    "\t\toptimizer.zero_grad()\n",
    "\t\ty_model=model(tokens)\n",
    "\t\tloss= -y_model[label] #Cross Entropy\n",
    "\t\tloss.backward()\n",
    "\t\toptimizer.step()\n",
    "\telse:\n",
    "\t\tmodel.eval()\n",
    "\t\ty_model=model(tokens)\n",
    "\t\tmodel.train()\n",
    "\twith torch.no_grad():\n",
    "\t\tpredicted_labels = y_model.argmax()\n",
    "\t\tsuccess = (predicted_labels == label)\n",
    "\treturn success"
   ]
  },
  {
   "cell_type": "code",
   "execution_count": 19,
   "metadata": {},
   "outputs": [],
   "source": [
    "BATCH_SIZE, EPOCHES = 200, 50"
   ]
  },
  {
   "cell_type": "code",
   "execution_count": 20,
   "metadata": {},
   "outputs": [],
   "source": [
    "def train_model(model, optimizer):\n",
    "\tepoch_acc = []\n",
    "\n",
    "\tparameters = list(model.parameters())\n",
    "\tavg_grad_norms=torch.zeros(EPOCHES)\n",
    "\tfor epoch in tqdm(range(EPOCHES)):\n",
    "\t\tcorrect_predictions=torch.tensor([0.])\n",
    "\t\tgrad_norm_temp=torch.zeros(BATCH_SIZE)\n",
    "\t\tfor idx in range(BATCH_SIZE):\n",
    "\t\t\tsentence = sentence_list[idx]\n",
    "\t\t\tcorrect_predictions += iterate_one_sentence(model, optimizer, train_tokens[idx],train_labels[idx],train_flag=True)\n",
    "\t\t\tnorms = [p.grad.detach().abs().max() for p in parameters if p.grad is not None]\n",
    "\t\t\tgrad_norm_temp[idx] = torch.max(torch.stack(norms))\n",
    "\t\tavg_grad_norms[epoch] = grad_norm_temp.mean()\n",
    "\t\t\n",
    "\t\tacc=correct_predictions/BATCH_SIZE\n",
    "\t\tepoch_acc.append(acc)\n",
    "\t\t# if epoch%3==0:\n",
    "\t\t# \tprint(\"Epoch\",epoch,\" acc:\",acc.item())\n",
    "\treturn epoch_acc, grad_norm_temp"
   ]
  },
  {
   "cell_type": "code",
   "execution_count": 21,
   "metadata": {},
   "outputs": [],
   "source": [
    "basic_model=BasicRNNClassifier(10,10)\n",
    "basic_model_optimizer = torch.optim.AdamW(basic_model.parameters())\n",
    "\n",
    "modified_model = ModifiedRNNClassifier(10,10)\n",
    "modified_model_optimizer = torch.optim.AdamW(modified_model.parameters())"
   ]
  },
  {
   "cell_type": "code",
   "execution_count": 22,
   "metadata": {},
   "outputs": [
    {
     "name": "stderr",
     "output_type": "stream",
     "text": [
      "100%|██████████| 20/20 [00:21<00:00,  1.06s/it]\n",
      "100%|██████████| 20/20 [00:26<00:00,  1.31s/it]\n"
     ]
    }
   ],
   "source": [
    "basic_acc, basic_grad_norm_temp = train_model(basic_model, basic_model_optimizer)\n",
    "modified_acc, modified_grad_norm_temp = train_model(modified_model, modified_model_optimizer)"
   ]
  },
  {
   "cell_type": "markdown",
   "metadata": {},
   "source": [
    "# Train accuracy"
   ]
  },
  {
   "cell_type": "code",
   "execution_count": 23,
   "metadata": {},
   "outputs": [
    {
     "name": "stderr",
     "output_type": "stream",
     "text": [
      "c:\\Users\\Shlomi\\AppData\\Local\\Programs\\Python\\Python310\\lib\\site-packages\\numpy\\core\\shape_base.py:65: FutureWarning: The input object of type 'Tensor' is an array-like implementing one of the corresponding protocols (`__array__`, `__array_interface__` or `__array_struct__`); but not a sequence (or 0-D). In the future, this object will be coerced as if it was first converted using `np.array(obj)`. To retain the old behaviour, you have to either modify the type 'Tensor', or assign to an empty array created with `np.empty(correct_shape, dtype=object)`.\n",
      "  ary = asanyarray(ary)\n",
      "c:\\Users\\Shlomi\\AppData\\Local\\Programs\\Python\\Python310\\lib\\site-packages\\numpy\\core\\shape_base.py:65: VisibleDeprecationWarning: Creating an ndarray from ragged nested sequences (which is a list-or-tuple of lists-or-tuples-or ndarrays with different lengths or shapes) is deprecated. If you meant to do this, you must specify 'dtype=object' when creating the ndarray.\n",
      "  ary = asanyarray(ary)\n"
     ]
    },
    {
     "data": {
      "text/plain": [
       "Text(0.5, 1.0, 'Train accuracy')"
      ]
     },
     "execution_count": 23,
     "metadata": {},
     "output_type": "execute_result"
    },
    {
     "data": {
      "image/png": "[encoded data removed]",
      "text/plain": [
       "<Figure size 432x288 with 1 Axes>"
      ]
     },
     "metadata": {
      "needs_background": "light"
     },
     "output_type": "display_data"
    }
   ],
   "source": [
    "plt.plot(basic_acc, label=\"Basic RNN accuracy\")\n",
    "plt.plot(modified_acc, label=\"Modified RNN accuracy\")\n",
    "plt.legend()\n",
    "plt.xlabel(\"Epoch\")\n",
    "plt.title(\"Train accuracy\")"
   ]
  },
  {
   "cell_type": "markdown",
   "metadata": {},
   "source": [
    "# Average Inf Norm\n",
    "\n",
    "We can see that our modified cell deals with explodnig gradients!"
   ]
  },
  {
   "cell_type": "code",
   "execution_count": 24,
   "metadata": {},
   "outputs": [
    {
     "data": {
      "image/png": "[encoded data removed]",
      "text/plain": [
       "<Figure size 432x288 with 1 Axes>"
      ]
     },
     "metadata": {
      "needs_background": "light"
     },
     "output_type": "display_data"
    }
   ],
   "source": [
    "plt.plot(basic_grad_norm_temp, label=\"Basic RNN cell\")\n",
    "plt.plot(modified_grad_norm_temp, label=\"Modified RNN cell\")\n",
    "plt.legend()\n",
    "plt.xlabel(\"Epoch\")\n",
    "plt.title(\"Average Inf Norm\");"
   ]
  },
  {
   "cell_type": "markdown",
   "metadata": {},
   "source": [
    "# Test accuracy"
   ]
  },
  {
   "cell_type": "code",
   "execution_count": 25,
   "metadata": {},
   "outputs": [
    {
     "name": "stderr",
     "output_type": "stream",
     "text": [
      "100%|██████████| 13470/13470 [00:12<00:00, 1036.98it/s]\n",
      "100%|██████████| 13470/13470 [00:18<00:00, 724.81it/s]\n"
     ]
    }
   ],
   "source": [
    "# Basic RNN cell\n",
    "basic_test_correct_predictions=torch.tensor([0.])\n",
    "for tokens,label in tqdm(zip(test_tokens,test_labels),total=len(test_tokens)):\n",
    "\tbasic_test_correct_predictions += iterate_one_sentence(basic_model, basic_model_optimizer, tokens,label,train_flag=False)\n",
    "basic_test_acc=basic_test_correct_predictions/len(test_tokens)\n",
    "\n",
    "# Modified RNN cell\n",
    "modified_test_correct_predictions=torch.tensor([0.])\n",
    "for tokens,label in tqdm(zip(test_tokens,test_labels),total=len(test_tokens)):\n",
    "\tmodified_test_correct_predictions += iterate_one_sentence(modified_model, modified_model_optimizer, tokens,label,train_flag=False)\n",
    "modified_test_acc=modified_test_correct_predictions/len(test_tokens)"
   ]
  },
  {
   "cell_type": "code",
   "execution_count": 26,
   "metadata": {},
   "outputs": [
    {
     "data": {
      "text/plain": [
       "(tensor([0.5081]), tensor([0.5076]))"
      ]
     },
     "execution_count": 26,
     "metadata": {},
     "output_type": "execute_result"
    }
   ],
   "source": [
    "basic_test_acc, modified_test_acc"
   ]
  }
 ],
 "metadata": {
  "interpreter": {
   "hash": "15048e23eb58eade66c74c7a87fa0eb664674088afe506f1ed9c8002c2bf4c97"
  },
  "kernelspec": {
   "display_name": "Python 3.10.2 64-bit",
   "language": "python",
   "name": "python3"
  },
  "language_info": {
   "codemirror_mode": {
    "name": "ipython",
    "version": 3
   },
   "file_extension": ".py",
   "mimetype": "text/x-python",
   "name": "python",
   "nbconvert_exporter": "python",
   "pygments_lexer": "ipython3",
   "version": "3.10.2"
  },
  "orig_nbformat": 4
 },
 "nbformat": 4,
 "nbformat_minor": 2
}
