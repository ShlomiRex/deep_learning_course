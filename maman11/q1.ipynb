{
 "cells": [
  {
   "cell_type": "code",
   "execution_count": 346,
   "metadata": {},
   "outputs": [],
   "source": [
    "import torch\n",
    "from torch import tensor\n",
    "import matplotlib.pyplot as plt"
   ]
  },
  {
   "cell_type": "code",
   "execution_count": 347,
   "metadata": {},
   "outputs": [],
   "source": [
    "def my_sampler(size: int, dist: torch.Tensor, requires_grad = False) -> torch.Tensor:\t\n",
    "\tassert type(dist) == torch.Tensor\n",
    "\tassert dist is not None\n",
    "\tassert dist.sum() == 1\n",
    "\tassert torch.all(dist > 0).item()\n",
    "\n",
    "\tdist = dist.cumsum(dim=0)\n",
    "\n",
    "\trand = torch.rand(size)\n",
    "\tres = torch.zeros(size)\n",
    "\t#print(\"rand\", rand)\n",
    "\n",
    "\tlow = 0\n",
    "\n",
    "\tfor i in range(dist.numel()):\n",
    "\t\thigh = dist[i]\n",
    "\t\t#print(\"low\", low, \"high\", high)\n",
    "\n",
    "\t\tmask = (rand > low) & (rand <= high)\n",
    "\t\tres = res + mask * i\n",
    "\t\t\n",
    "\t\t# print(\"dist = \", dist[i])\n",
    "\t\t# print(\"mask = \", mask)\n",
    "\t\t# print(\"res = \", res)\n",
    "\n",
    "\t\tlow = dist[i]\n",
    "\n",
    "\treturn res"
   ]
  },
  {
   "cell_type": "code",
   "execution_count": 348,
   "metadata": {},
   "outputs": [
    {
     "data": {
      "text/plain": [
       "tensor([2., 2., 2., 2., 2., 2., 2., 1., 2., 2., 2., 2., 0., 2., 2., 2., 1., 2.,\n",
       "        2., 1., 2., 2., 2., 1., 2., 1., 0., 2., 2., 0., 2., 2., 2., 2., 2., 2.,\n",
       "        1., 2., 2., 2., 2., 2., 0., 2., 2., 2., 2., 2., 2., 2., 0., 2., 2., 1.,\n",
       "        1., 2., 2., 0., 1., 2., 2., 2., 2., 2., 2., 2., 2., 2., 1., 2., 2., 0.,\n",
       "        2., 2., 1., 2., 2., 2., 2., 2., 1., 1., 2., 2., 2., 0., 2., 0., 2., 2.,\n",
       "        2., 2., 2., 2., 1., 2., 2., 2., 1., 2.])"
      ]
     },
     "execution_count": 348,
     "metadata": {},
     "output_type": "execute_result"
    }
   ],
   "source": [
    "dist = tensor([0.1, 0.2, 0.7])\n",
    "res = my_sampler(100, dist)\n",
    "res"
   ]
  },
  {
   "cell_type": "code",
   "execution_count": 349,
   "metadata": {},
   "outputs": [
    {
     "name": "stdout",
     "output_type": "stream",
     "text": [
      "tensor([1008, 2070, 6922], dtype=torch.int32)\n"
     ]
    },
    {
     "data": {
      "image/png": "[encoded data removed]",
      "text/plain": [
       "<Figure size 432x288 with 1 Axes>"
      ]
     },
     "metadata": {
      "needs_background": "light"
     },
     "output_type": "display_data"
    }
   ],
   "source": [
    "dist = tensor([0.1, 0.2, 0.7])\n",
    "res = my_sampler(10000, dist)\n",
    "dist_count = torch.zeros(dist.numel(), dtype=torch.int)\n",
    "for i in range(dist.numel()):\n",
    "\tdist_count[i] = torch.sum(res == i)\n",
    "print(dist_count)\n",
    "\n",
    "plt.bar(range(dist.numel()), dist_count)\n",
    "plt.show()"
   ]
  }
 ],
 "metadata": {
  "interpreter": {
   "hash": "491bb19b02bca4120e598d98c213a4bec2319d7b10161d80e88d4a71a12afc06"
  },
  "kernelspec": {
   "display_name": "Python 3.9.7 ('base')",
   "language": "python",
   "name": "python3"
  },
  "language_info": {
   "codemirror_mode": {
    "name": "ipython",
    "version": 3
   },
   "file_extension": ".py",
   "mimetype": "text/x-python",
   "name": "python",
   "nbconvert_exporter": "python",
   "pygments_lexer": "ipython3",
   "version": "3.9.7"
  },
  "orig_nbformat": 4
 },
 "nbformat": 4,
 "nbformat_minor": 2
}
