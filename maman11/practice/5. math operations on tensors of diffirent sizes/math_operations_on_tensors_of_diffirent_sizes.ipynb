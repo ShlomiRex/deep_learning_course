{
 "cells": [
  {
   "cell_type": "code",
   "execution_count": 2,
   "metadata": {},
   "outputs": [],
   "source": [
    "import torch\n",
    "import numpy as np"
   ]
  },
  {
   "cell_type": "markdown",
   "metadata": {},
   "source": [
    "# Broadcasting\n"
   ]
  },
  {
   "cell_type": "code",
   "execution_count": 23,
   "metadata": {},
   "outputs": [
    {
     "name": "stdout",
     "output_type": "stream",
     "text": [
      "tensor([ True, False, False, False])\n"
     ]
    }
   ],
   "source": [
    "x = torch.tensor([1, 2, 3, 4])\n",
    "print(x==1)"
   ]
  },
  {
   "cell_type": "markdown",
   "metadata": {},
   "source": [
    "The above code is equivilent to the next code:"
   ]
  },
  {
   "cell_type": "code",
   "execution_count": 24,
   "metadata": {},
   "outputs": [
    {
     "name": "stdout",
     "output_type": "stream",
     "text": [
      "tensor([1, 2, 3, 4])\n",
      "tensor([1, 1, 1, 1])\n",
      "tensor([ True, False, False, False])\n"
     ]
    }
   ],
   "source": [
    "y = torch.tensor([1]*x.numel())  # Broadcasting here\n",
    "print(x, y, x==y, sep='\\n')"
   ]
  },
  {
   "cell_type": "markdown",
   "metadata": {},
   "source": [
    "Why is it called broadcasting?\n",
    "\n",
    "Becuase comparing tensor `x` to scalar `1` mathematically is not really interesting, because in all cases it reutnrs False. So, instead pytorch returns tensor mask, of boolean, which is compared cell by cell, with tensor `y` which is tensor of same dimension as `x` and has values filled with the scalar `1`.\n",
    "\n",
    "כאשר ננסה להפעיל אופרטורים על טנסורים בעלי מימדים שונים, קודם לביצוע הפעולה אחד מהם(או שניהם) יעבור שידור, מימדיו יגדלו והפעולה תבוצע רק לאחר ששני הטנזורים בעלי אותו מימד."
   ]
  },
  {
   "cell_type": "markdown",
   "metadata": {},
   "source": [
    "## Broadcasting - example 1"
   ]
  },
  {
   "cell_type": "code",
   "execution_count": 25,
   "metadata": {},
   "outputs": [
    {
     "name": "stdout",
     "output_type": "stream",
     "text": [
      "tensor([[0, 1, 2],\n",
      "        [3, 4, 5],\n",
      "        [6, 7, 8]])\n",
      "tensor([0, 1, 2])\n",
      "tensor([[ 0,  2,  4],\n",
      "        [ 3,  5,  7],\n",
      "        [ 6,  8, 10]])\n"
     ]
    }
   ],
   "source": [
    "A=torch.arange(9).reshape(3,3)\n",
    "B=torch.arange(3)\n",
    "print(A, B, A+B, sep='\\n') # Add A+B"
   ]
  },
  {
   "cell_type": "markdown",
   "metadata": {},
   "source": [
    "### Explanation - `expand_as()`\n",
    "\n",
    "The tensor `B` is converted (<b>broadcasted</b>) to higher dimension:"
   ]
  },
  {
   "cell_type": "code",
   "execution_count": 26,
   "metadata": {},
   "outputs": [
    {
     "data": {
      "text/plain": [
       "tensor([[0, 1, 2],\n",
       "        [0, 1, 2],\n",
       "        [0, 1, 2]])"
      ]
     },
     "execution_count": 26,
     "metadata": {},
     "output_type": "execute_result"
    }
   ],
   "source": [
    "B.expand_as(A)"
   ]
  },
  {
   "cell_type": "markdown",
   "metadata": {},
   "source": [
    "and only then, pytorch adds `A` and `B`, only after broadcasting!"
   ]
  },
  {
   "cell_type": "code",
   "execution_count": 27,
   "metadata": {},
   "outputs": [
    {
     "data": {
      "text/plain": [
       "tensor([[ 0,  2,  4],\n",
       "        [ 3,  5,  7],\n",
       "        [ 6,  8, 10]])"
      ]
     },
     "execution_count": 27,
     "metadata": {},
     "output_type": "execute_result"
    }
   ],
   "source": [
    "A + B.expand_as(A) # Equivilent to: A+B"
   ]
  },
  {
   "cell_type": "markdown",
   "metadata": {},
   "source": [
    "But, why is the broadcasting converted to [0, 1, 2] in the rows, and not [0, 0, 0], [1, 1, 1], [2, 2, 2] in the rows? (transposed)\n",
    "\n",
    "Won't the answer change? Yes, it will"
   ]
  },
  {
   "cell_type": "code",
   "execution_count": 28,
   "metadata": {},
   "outputs": [
    {
     "data": {
      "text/plain": [
       "tensor([[0, 0, 0],\n",
       "        [1, 1, 1],\n",
       "        [2, 2, 2]])"
      ]
     },
     "execution_count": 28,
     "metadata": {},
     "output_type": "execute_result"
    }
   ],
   "source": [
    "B.reshape(3,1).expand_as(A)"
   ]
  },
  {
   "cell_type": "markdown",
   "metadata": {},
   "source": [
    "## Broadcasting - example 2\n",
    "\n",
    "Notice: `A` is one column, `B` is one row, but the `A+B` output is tensor of 2D"
   ]
  },
  {
   "cell_type": "code",
   "execution_count": 29,
   "metadata": {},
   "outputs": [
    {
     "name": "stdout",
     "output_type": "stream",
     "text": [
      "tensor([[0],\n",
      "        [1],\n",
      "        [2]])\n",
      "tensor([[0, 1, 2, 3]])\n",
      "tensor([[0, 1, 2, 3],\n",
      "        [1, 2, 3, 4],\n",
      "        [2, 3, 4, 5]])\n"
     ]
    }
   ],
   "source": [
    "A=torch.arange(3).reshape(3,1)\n",
    "B=torch.arange(4).reshape(1,4)\n",
    "print(A,B,A+B,sep='\\n')"
   ]
  },
  {
   "cell_type": "markdown",
   "metadata": {},
   "source": [
    "## Broadcasting - example 3 - can't add diffirent sizes\n",
    "\n",
    "You can't just add any 2 tensors. Unlike previous example, where we can add column and row, here we can't add dimension 1 (2 for A, 5 for B)"
   ]
  },
  {
   "cell_type": "code",
   "execution_count": 30,
   "metadata": {},
   "outputs": [
    {
     "name": "stdout",
     "output_type": "stream",
     "text": [
      "tensor([[0, 1],\n",
      "        [2, 3],\n",
      "        [4, 5]])\n",
      "tensor([[0, 1, 2, 3, 4]])\n"
     ]
    },
    {
     "ename": "RuntimeError",
     "evalue": "The size of tensor a (2) must match the size of tensor b (5) at non-singleton dimension 1",
     "output_type": "error",
     "traceback": [
      "\u001b[1;31m---------------------------------------------------------------------------\u001b[0m",
      "\u001b[1;31mRuntimeError\u001b[0m                              Traceback (most recent call last)",
      "\u001b[1;32m~\\AppData\\Local\\Temp/ipykernel_7128/1600365293.py\u001b[0m in \u001b[0;36m<module>\u001b[1;34m\u001b[0m\n\u001b[0;32m      2\u001b[0m \u001b[0mB\u001b[0m\u001b[1;33m=\u001b[0m\u001b[0mtorch\u001b[0m\u001b[1;33m.\u001b[0m\u001b[0marange\u001b[0m\u001b[1;33m(\u001b[0m\u001b[1;36m5\u001b[0m\u001b[1;33m)\u001b[0m\u001b[1;33m.\u001b[0m\u001b[0mreshape\u001b[0m\u001b[1;33m(\u001b[0m\u001b[1;36m1\u001b[0m\u001b[1;33m,\u001b[0m\u001b[1;36m5\u001b[0m\u001b[1;33m)\u001b[0m\u001b[1;33m\u001b[0m\u001b[1;33m\u001b[0m\u001b[0m\n\u001b[0;32m      3\u001b[0m \u001b[0mprint\u001b[0m\u001b[1;33m(\u001b[0m\u001b[0mA\u001b[0m\u001b[1;33m,\u001b[0m\u001b[0mB\u001b[0m\u001b[1;33m,\u001b[0m\u001b[0msep\u001b[0m\u001b[1;33m=\u001b[0m\u001b[1;34m'\\n'\u001b[0m\u001b[1;33m)\u001b[0m\u001b[1;33m\u001b[0m\u001b[1;33m\u001b[0m\u001b[0m\n\u001b[1;32m----> 4\u001b[1;33m \u001b[0mA\u001b[0m\u001b[1;33m+\u001b[0m\u001b[0mB\u001b[0m\u001b[1;33m\u001b[0m\u001b[1;33m\u001b[0m\u001b[0m\n\u001b[0m",
      "\u001b[1;31mRuntimeError\u001b[0m: The size of tensor a (2) must match the size of tensor b (5) at non-singleton dimension 1"
     ]
    }
   ],
   "source": [
    "A=torch.arange(6).reshape(3,2)\n",
    "B=torch.arange(5).reshape(1,5)\n",
    "print(A,B,sep='\\n')\n",
    "A+B"
   ]
  },
  {
   "cell_type": "markdown",
   "metadata": {},
   "source": [
    "# Rules for broadcasting\n",
    "\n",
    "![](img/rules.png)"
   ]
  },
  {
   "cell_type": "markdown",
   "metadata": {},
   "source": [
    "## Broadcasting - example 4 - summary\n"
   ]
  },
  {
   "cell_type": "code",
   "execution_count": 6,
   "metadata": {},
   "outputs": [
    {
     "name": "stdout",
     "output_type": "stream",
     "text": [
      "A\n",
      "torch.Size([2, 3, 4])\n",
      "tensor([[[ 0,  1,  2,  3],\n",
      "         [ 4,  5,  6,  7],\n",
      "         [ 8,  9, 10, 11]],\n",
      "\n",
      "        [[12, 13, 14, 15],\n",
      "         [16, 17, 18, 19],\n",
      "         [20, 21, 22, 23]]])\n",
      "B\n",
      "torch.Size([4])\n",
      "tensor([0, 1, 2, 3])\n",
      "C\n",
      "torch.Size([2, 3, 4])\n",
      "tensor([[[0, 1, 2, 3],\n",
      "         [0, 1, 2, 3],\n",
      "         [0, 1, 2, 3]],\n",
      "\n",
      "        [[0, 1, 2, 3],\n",
      "         [0, 1, 2, 3],\n",
      "         [0, 1, 2, 3]]])\n",
      "D\n",
      "torch.Size([2, 3, 4])\n",
      "tensor([[[ 0,  2,  4,  6],\n",
      "         [ 4,  6,  8, 10],\n",
      "         [ 8, 10, 12, 14]],\n",
      "\n",
      "        [[12, 14, 16, 18],\n",
      "         [16, 18, 20, 22],\n",
      "         [20, 22, 24, 26]]])\n"
     ]
    }
   ],
   "source": [
    "A=torch.arange(24).reshape(2,3,4)\n",
    "B=torch.tensor([0,1,2,3])\n",
    "print(\"A\", A.size(), A,sep='\\n')\n",
    "print(\"B\", B.size(), B, sep='\\n')\n",
    "\n",
    "C=B.expand_as(A)\n",
    "print(\"C\", C.size(), C, sep='\\n')\n",
    "\n",
    "D=A+B\n",
    "print(\"D\", D.size(), D, sep='\\n')"
   ]
  },
  {
   "cell_type": "markdown",
   "metadata": {},
   "source": [
    "Notice: The last dimension of `A` is equal to last dimension of `B` (which is 4).\n",
    "\n",
    "So, `A+B` is valid broadcasting.\n",
    "\n",
    "Then, we call `expand_as`, which converts `B` size (4) to size of `A` (2x3x4) which is also the size of `C`.\n",
    "\n",
    "*Notice: For each i,j,k we can say that: `C[i,j,k] == B[k]` (last index = last dimension) is always True, because of `expand_as`*"
   ]
  },
  {
   "cell_type": "markdown",
   "metadata": {},
   "source": [
    "# Question 1\n",
    "\n",
    "![](img/q1.png)"
   ]
  },
  {
   "cell_type": "markdown",
   "metadata": {},
   "source": [
    "## Answer 1.a.\n",
    "\n",
    "We check `A` first:\n",
    "- A,B can't be broadcasted, because last dimension of A is 2, and last dimension of B is 3, and not equal.\n",
    "- A,C can be broadcasted:\n",
    "  - 2,1 is OK because one of them is 1\n",
    "  - Move left dimension\n",
    "  - 1,5 is OK because one on them is 1\n",
    "  - Move left dimension\n",
    "  - 2,Nan is OK because we can always say Nan is 1: `C = 1x5x1` is equal to `C = 5x1`\n",
    "- A,D can't be broadcasted, last dimension mismatch\n",
    "- A,E can be broadcasted:\n",
    "  - We can say dimension of E is `1x1x1`\n",
    "  - Because all of them is 1, is match with `2x1x2`\n",
    "- A,F can't be broadcasted, last dimension mismatch\n",
    "Now we check starting with `B`:\n",
    "- B, C can be broadcasted:\n",
    "  - `B = 2x1x1x3`\n",
    "  - `C = 5x1` but also `C = 1x1x5x1`\n",
    "  - `2x1x1x3` is match with `1x1x5x1`\n",
    "- B, D can't be broadcasted, last dimension mismatch\n",
    "- B, E can be broadcasted:\n",
    "  - E is 1\n",
    "- B, F can be broadcasted:\n",
    "  - `B = 2x1x1x3`, `F = 1x1x5x3`\n",
    "Now we check startig with `C`:\n",
    "- C, D can be broadcasted:\n",
    "  - `C = 5x1`, `D = 1x5`\n",
    "- C, E can be broadcasted:\n",
    "  - `C = 5x1`, `E = 1x1`\n",
    "- C, F can be broadcasted:\n",
    "  - `C = 5x1`, `F = 5x3`\n",
    "  - Notice, 3x1 is ok, and also 5x5\n",
    "\n",
    "\n",
    "We continue like this."
   ]
  },
  {
   "cell_type": "code",
   "execution_count": 4,
   "metadata": {},
   "outputs": [],
   "source": [
    "A = torch.arange(4).reshape(2,1,2)\n",
    "B = torch.arange(6).reshape(2,1,1,3)\n",
    "C = torch.arange(5).reshape(5,1)\n",
    "D = torch.arange(5).reshape(1,5)\n",
    "E = torch.arange(1)\n",
    "F = torch.arange(15).reshape(5,3)"
   ]
  },
  {
   "cell_type": "code",
   "execution_count": 18,
   "metadata": {},
   "outputs": [
    {
     "data": {
      "text/plain": [
       "tensor([[ 0,  1,  2],\n",
       "        [ 4,  5,  6],\n",
       "        [ 8,  9, 10],\n",
       "        [12, 13, 14],\n",
       "        [16, 17, 18]])"
      ]
     },
     "execution_count": 18,
     "metadata": {},
     "output_type": "execute_result"
    }
   ],
   "source": [
    "C + F"
   ]
  },
  {
   "cell_type": "markdown",
   "metadata": {},
   "source": [
    "## Answer 1.b."
   ]
  },
  {
   "cell_type": "markdown",
   "metadata": {},
   "source": [
    "<b>We take the biggest dimension of each dimension</b>\n",
    "- `A+C = 2x5x2`\n",
    "  - `A = 2x1x2`\n",
    "  - `C = 1x5x1`\n",
    "- `A+E = 2x1x2`\n",
    "  - `A = 2x1x2`\n",
    "  - `E = 1x1x1`\n",
    "- `B+C = 2x1x5x3`\n",
    "  - `B = 2x1x1x3`\n",
    "  - `C = 1x1x5x1`\n",
    "\n",
    "And so on"
   ]
  },
  {
   "cell_type": "code",
   "execution_count": 22,
   "metadata": {},
   "outputs": [
    {
     "data": {
      "text/plain": [
       "torch.Size([2, 1, 5, 3])"
      ]
     },
     "execution_count": 22,
     "metadata": {},
     "output_type": "execute_result"
    }
   ],
   "source": [
    "Z = B+C\n",
    "Z.size()"
   ]
  }
 ],
 "metadata": {
  "interpreter": {
   "hash": "491bb19b02bca4120e598d98c213a4bec2319d7b10161d80e88d4a71a12afc06"
  },
  "kernelspec": {
   "display_name": "Python 3.9.7 ('base')",
   "language": "python",
   "name": "python3"
  },
  "language_info": {
   "codemirror_mode": {
    "name": "ipython",
    "version": 3
   },
   "file_extension": ".py",
   "mimetype": "text/x-python",
   "name": "python",
   "nbconvert_exporter": "python",
   "pygments_lexer": "ipython3",
   "version": "3.9.7"
  },
  "orig_nbformat": 4
 },
 "nbformat": 4,
 "nbformat_minor": 2
}
