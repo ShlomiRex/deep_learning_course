{
 "cells": [
  {
   "cell_type": "code",
   "execution_count": 74,
   "metadata": {},
   "outputs": [],
   "source": [
    "import torch\n",
    "import numpy as np"
   ]
  },
  {
   "cell_type": "code",
   "execution_count": 75,
   "metadata": {},
   "outputs": [
    {
     "name": "stdout",
     "output_type": "stream",
     "text": [
      "tensor([0, 1, 2, 3, 4, 5, 6, 7, 8, 9])\n"
     ]
    }
   ],
   "source": [
    "x = torch.arange(10)\n",
    "print(x)"
   ]
  },
  {
   "cell_type": "markdown",
   "metadata": {},
   "source": [
    "### Access values like array"
   ]
  },
  {
   "cell_type": "code",
   "execution_count": 76,
   "metadata": {},
   "outputs": [
    {
     "name": "stdout",
     "output_type": "stream",
     "text": [
      "tensor(0)\n",
      "tensor(9)\n"
     ]
    }
   ],
   "source": [
    "print(x[0])\n",
    "print(x[-1])"
   ]
  },
  {
   "cell_type": "markdown",
   "metadata": {},
   "source": [
    "### Access matrix"
   ]
  },
  {
   "cell_type": "code",
   "execution_count": 77,
   "metadata": {},
   "outputs": [
    {
     "name": "stdout",
     "output_type": "stream",
     "text": [
      "tensor([[0, 1, 2, 3, 4],\n",
      "        [5, 6, 7, 8, 9]])\n"
     ]
    }
   ],
   "source": [
    "x = torch.arange(10).reshape(2,5)\n",
    "print(x)"
   ]
  },
  {
   "cell_type": "code",
   "execution_count": 78,
   "metadata": {},
   "outputs": [
    {
     "name": "stdout",
     "output_type": "stream",
     "text": [
      "tensor(7)\n",
      "tensor(4)\n"
     ]
    }
   ],
   "source": [
    "print(x[1,2],x[0,-1],sep='\\n')"
   ]
  },
  {
   "cell_type": "markdown",
   "metadata": {},
   "source": [
    "### Set value of spesific cells in 3D tensors"
   ]
  },
  {
   "cell_type": "code",
   "execution_count": 79,
   "metadata": {},
   "outputs": [
    {
     "name": "stdout",
     "output_type": "stream",
     "text": [
      "tensor([[[ 0.,  0.,  0.,  0.],\n",
      "         [ 0.,  0.,  0.,  0.],\n",
      "         [ 0.,  0.,  0.,  0.]],\n",
      "\n",
      "        [[-2.,  0.,  0.,  0.],\n",
      "         [ 0.,  0.,  0.,  0.],\n",
      "         [ 0.,  0.,  0.,  1.]]])\n"
     ]
    }
   ],
   "source": [
    "y = torch.zeros(size=(2,3,4))\n",
    "y[1,0,0] = -2  # 3D tensor\n",
    "y[-1,-1,-1] = 1\n",
    "print(y)"
   ]
  },
  {
   "cell_type": "markdown",
   "metadata": {},
   "source": [
    "### Slice tensor\n",
    "\n",
    "Here, we set value of 100 for cells that their index is 1, index of the second dimension is 1 or 2, and index of the third dimension is 0,1,2,3, with jumps of 2. "
   ]
  },
  {
   "cell_type": "code",
   "execution_count": 80,
   "metadata": {},
   "outputs": [
    {
     "name": "stdout",
     "output_type": "stream",
     "text": [
      "tensor([[[  0.,   0.,   0.,   0.],\n",
      "         [  0.,   0.,   0.,   0.],\n",
      "         [  0.,   0.,   0.,   0.]],\n",
      "\n",
      "        [[ -2.,   0.,   0.,   0.],\n",
      "         [100.,   0., 100.,   0.],\n",
      "         [  0.,   0.,   0.,   1.]]])\n"
     ]
    }
   ],
   "source": [
    "y[1,1:2,0:4:2]=100\n",
    "print(y)"
   ]
  },
  {
   "cell_type": "markdown",
   "metadata": {},
   "source": [
    "### Masks (boolean indexes)\n",
    "\n",
    "Print cells that match predicate - <b>it will always return one dimension tensor!</b>"
   ]
  },
  {
   "cell_type": "code",
   "execution_count": 81,
   "metadata": {},
   "outputs": [
    {
     "name": "stdout",
     "output_type": "stream",
     "text": [
      "tensor([[0, 1, 2, 3, 4],\n",
      "        [5, 6, 7, 8, 9]])\n",
      "tensor([[False, False, False, False, False],\n",
      "        [False,  True,  True,  True,  True]])\n",
      "Values: tensor([3, 4, 5, 6, 7, 8, 9])\n"
     ]
    }
   ],
   "source": [
    "x = torch.arange(10).reshape(2,5)\n",
    "print(x)\n",
    "print(x>5)\n",
    "print(\"Values:\", x[x>2])"
   ]
  },
  {
   "cell_type": "markdown",
   "metadata": {},
   "source": [
    "# Question 1\n",
    "\n",
    "Create uniform variable X\n",
    "\n",
    "Create filled inf variable Y\n",
    "\n"
   ]
  },
  {
   "cell_type": "code",
   "execution_count": 82,
   "metadata": {},
   "outputs": [
    {
     "name": "stdout",
     "output_type": "stream",
     "text": [
      "tensor([[ 1.,  0., -1.,  2., -1.,  3., -1., -1.,  3.,  1.],\n",
      "        [ 1., -4., -2.,  0.,  1.,  3.,  3.,  4., -1., -4.],\n",
      "        [ 3., -2., -2., -2.,  4.,  4., -3., -2.,  4., -2.],\n",
      "        [ 2., -4., -1., -1.,  2.,  3., -1.,  3.,  3., -5.],\n",
      "        [-2.,  1.,  4.,  2., -1., -1., -1., -2., -3., -4.],\n",
      "        [-3., -1., -2., -1.,  2., -1.,  2., -1.,  0., -2.],\n",
      "        [-2., -3., -4.,  1., -3.,  3.,  4.,  2.,  0.,  0.],\n",
      "        [ 1.,  3., -4.,  3.,  2.,  3.,  4., -5., -3.,  0.],\n",
      "        [ 3., -1.,  4., -2.,  4.,  4.,  2.,  2., -4.,  4.],\n",
      "        [-5., -4., -5., -1.,  1., -5.,  0.,  3.,  3.,  3.]])\n",
      "tensor([[1., inf, inf, 2., inf, 3., inf, inf, 3., 1.],\n",
      "        [1., inf, inf, inf, 1., 3., 3., 4., inf, inf],\n",
      "        [3., inf, inf, inf, 4., 4., inf, inf, 4., inf],\n",
      "        [2., inf, inf, inf, 2., 3., inf, 3., 3., inf],\n",
      "        [inf, 1., 4., 2., inf, inf, inf, inf, inf, inf],\n",
      "        [inf, inf, inf, inf, 2., inf, 2., inf, inf, inf],\n",
      "        [inf, inf, inf, 1., inf, 3., 4., 2., inf, inf],\n",
      "        [1., 3., inf, 3., 2., 3., 4., inf, inf, inf],\n",
      "        [3., inf, 4., inf, 4., 4., 2., 2., inf, 4.],\n",
      "        [inf, inf, inf, inf, 1., inf, inf, 3., 3., 3.]])\n"
     ]
    }
   ],
   "source": [
    "X = torch.randint(-5, 5, (10, 10), dtype=torch.float)\n",
    "Y = torch.full((10, 10), float('inf'))\n",
    "print(X)\n",
    "print(torch.where(X>0, X, Y))"
   ]
  },
  {
   "cell_type": "markdown",
   "metadata": {},
   "source": [
    "Another way, without creating 'Y'"
   ]
  },
  {
   "cell_type": "code",
   "execution_count": 83,
   "metadata": {},
   "outputs": [
    {
     "name": "stdout",
     "output_type": "stream",
     "text": [
      "tensor([[ 0.,  4.,  3.,  0., -1.,  4.,  3., -3., -5., -1.],\n",
      "        [-4., -4.,  4.,  3., -1.,  1.,  1., -3.,  2.,  2.],\n",
      "        [-1., -1., -4., -2.,  3., -5., -2.,  3.,  1., -3.],\n",
      "        [-5., -2.,  0.,  3., -5., -4., -5., -2.,  0.,  0.],\n",
      "        [ 2., -5.,  0.,  0., -3.,  3., -1.,  3., -4., -5.],\n",
      "        [-5.,  2.,  1.,  1., -1., -3.,  4.,  1.,  4.,  0.],\n",
      "        [ 1.,  0.,  2.,  4.,  0.,  0., -3.,  4.,  0., -4.],\n",
      "        [-2.,  0., -2.,  4.,  2., -4., -5., -5., -1.,  2.],\n",
      "        [-4., -2., -1.,  2.,  0., -1.,  1., -2., -3.,  0.],\n",
      "        [-3., -3.,  2.,  3.,  2., -1.,  1., -2.,  2., -4.]],\n",
      "       dtype=torch.float64)\n",
      "tensor([[inf, 4., 3., inf, inf, 4., 3., inf, inf, inf],\n",
      "        [inf, inf, 4., 3., inf, 1., 1., inf, 2., 2.],\n",
      "        [inf, inf, inf, inf, 3., inf, inf, 3., 1., inf],\n",
      "        [inf, inf, inf, 3., inf, inf, inf, inf, inf, inf],\n",
      "        [2., inf, inf, inf, inf, 3., inf, 3., inf, inf],\n",
      "        [inf, 2., 1., 1., inf, inf, 4., 1., 4., inf],\n",
      "        [1., inf, 2., 4., inf, inf, inf, 4., inf, inf],\n",
      "        [inf, inf, inf, 4., 2., inf, inf, inf, inf, 2.],\n",
      "        [inf, inf, inf, 2., inf, inf, 1., inf, inf, inf],\n",
      "        [inf, inf, 2., 3., 2., inf, 1., inf, 2., inf]], dtype=torch.float64)\n"
     ]
    }
   ],
   "source": [
    "X = torch.randint(-5, 5, (10, 10), dtype=torch.double)\n",
    "print(X)\n",
    "print(torch.where(X>0, X, float('inf')))"
   ]
  },
  {
   "cell_type": "markdown",
   "metadata": {},
   "source": [
    "# Question 2"
   ]
  },
  {
   "cell_type": "code",
   "execution_count": 84,
   "metadata": {},
   "outputs": [
    {
     "name": "stdout",
     "output_type": "stream",
     "text": [
      "tensor([[[ 0.,  4.],\n",
      "         [ 3.,  0.],\n",
      "         [-1.,  4.],\n",
      "         [ 3., -3.],\n",
      "         [-5., -1.]],\n",
      "\n",
      "        [[-4., -4.],\n",
      "         [ 4.,  3.],\n",
      "         [-1.,  1.],\n",
      "         [ 1., -3.],\n",
      "         [ 2.,  2.]],\n",
      "\n",
      "        [[-1., -1.],\n",
      "         [-4., -2.],\n",
      "         [ 3., -5.],\n",
      "         [-2.,  3.],\n",
      "         [ 1., -3.]],\n",
      "\n",
      "        [[-5., -2.],\n",
      "         [ 0.,  3.],\n",
      "         [-5., -4.],\n",
      "         [-5., -2.],\n",
      "         [ 0.,  0.]],\n",
      "\n",
      "        [[ 2., -5.],\n",
      "         [ 0.,  0.],\n",
      "         [-3.,  3.],\n",
      "         [-1.,  3.],\n",
      "         [-4., -5.]],\n",
      "\n",
      "        [[-5.,  2.],\n",
      "         [ 1.,  1.],\n",
      "         [-1., -3.],\n",
      "         [ 4.,  1.],\n",
      "         [ 4.,  0.]],\n",
      "\n",
      "        [[ 1.,  0.],\n",
      "         [ 2.,  4.],\n",
      "         [ 0.,  0.],\n",
      "         [-3.,  4.],\n",
      "         [ 0., -4.]],\n",
      "\n",
      "        [[-2.,  0.],\n",
      "         [-2.,  4.],\n",
      "         [ 2., -4.],\n",
      "         [-5., -5.],\n",
      "         [-1.,  2.]],\n",
      "\n",
      "        [[-4., -2.],\n",
      "         [-1.,  2.],\n",
      "         [ 0., -1.],\n",
      "         [ 1., -2.],\n",
      "         [-3.,  0.]],\n",
      "\n",
      "        [[-3., -3.],\n",
      "         [ 2.,  3.],\n",
      "         [ 2., -1.],\n",
      "         [ 1., -2.],\n",
      "         [ 2., -4.]]], dtype=torch.float64)\n",
      "slice:  tensor([[[ 3.],\n",
      "         [-3.]],\n",
      "\n",
      "        [[ 3.],\n",
      "         [-2.]],\n",
      "\n",
      "        [[ 1.],\n",
      "         [ 1.]],\n",
      "\n",
      "        [[ 4.],\n",
      "         [-5.]],\n",
      "\n",
      "        [[ 3.],\n",
      "         [-2.]]], dtype=torch.float64)\n"
     ]
    }
   ],
   "source": [
    "X = X.reshape((10, 5, 2))\n",
    "print(X)\n",
    "print(\"slice: \", X[1::2, 1::2, 1::2])"
   ]
  }
 ],
 "metadata": {
  "interpreter": {
   "hash": "491bb19b02bca4120e598d98c213a4bec2319d7b10161d80e88d4a71a12afc06"
  },
  "kernelspec": {
   "display_name": "Python 3.9.7 ('base')",
   "language": "python",
   "name": "python3"
  },
  "language_info": {
   "codemirror_mode": {
    "name": "ipython",
    "version": 3
   },
   "file_extension": ".py",
   "mimetype": "text/x-python",
   "name": "python",
   "nbconvert_exporter": "python",
   "pygments_lexer": "ipython3",
   "version": "3.9.7"
  },
  "orig_nbformat": 4
 },
 "nbformat": 4,
 "nbformat_minor": 2
}
