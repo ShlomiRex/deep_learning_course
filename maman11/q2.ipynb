{
 "cells": [
  {
   "cell_type": "code",
   "execution_count": 702,
   "metadata": {},
   "outputs": [],
   "source": [
    "import torch\n",
    "from torch import tensor\n",
    "from typing import List, Optional"
   ]
  },
  {
   "cell_type": "markdown",
   "metadata": {},
   "source": [
    "# Check is broadcastable"
   ]
  },
  {
   "cell_type": "code",
   "execution_count": 703,
   "metadata": {},
   "outputs": [],
   "source": [
    "def is_broadcastable(A:tensor, B:tensor) -> bool:\n",
    "\t\"\"\"\n",
    "\tA tensor can't be broadcasted if:\n",
    "\n",
    "\t(dimA[i] != dimB[i]) and (dimA[i] != 1 and dimB[i] != 1)\n",
    "\n",
    "\tThe dimension of A can be longer than B, or vice versa.\n",
    "\tTo deal with this, we extend the shorter tensor with 1's.\n",
    "\n",
    "\tWe also check if A.size()[i] < B.size()[i] because we can't expand from higher dimension to lower dimension.\n",
    "\t\"\"\"\n",
    "\n",
    "\tminDim = min(A.dim(), B.dim())\n",
    "\ti = -1\n",
    "\t# Check latest size, after loop, everything is expanded as '1' so we dont need to check\n",
    "\tfor _ in range(minDim):\n",
    "\t\tsA = A.size()[i]\n",
    "\t\tsB = B.size()[i]\n",
    "\t\ti = i - 1\n",
    "\t\tif sA != sB and sA != 1 and sB != 1:\n",
    "\t\t\tprint(sA, sB, \" mismatch\")\n",
    "\t\t\treturn False\n",
    "\t\telif sA > sB:\n",
    "\t\t\tprint(f\"Dim {sA} in A is longer than {sB} in B, mismatch\")\n",
    "\t\t\treturn False\n",
    "\t\telse:\n",
    "\t\t\tprint(sA, sB, \" match\")\n",
    "\tprint(\"Broadcastable\")\n",
    "\treturn True"
   ]
  },
  {
   "cell_type": "markdown",
   "metadata": {},
   "source": [
    "# Broadcast function"
   ]
  },
  {
   "cell_type": "code",
   "execution_count": 704,
   "metadata": {},
   "outputs": [],
   "source": [
    "def my_expand_as(A: torch.Tensor, B: torch.Tensor) -> torch.Tensor:\n",
    "\tassert is_broadcastable(A, B)\n",
    "\n",
    "\t\"\"\"\n",
    "\tAlgorithm to broadcast\n",
    "\n",
    "\tdimensions:\n",
    "\tA = |2|1|1|\n",
    "\tB = |3|2|2|3|9|\n",
    "\n",
    "\tbroadcast to:\n",
    "\tA = |1|1|2|1|1|\n",
    "\tB = |3|2|2|3|9|\n",
    "\n",
    "\texpands to:\n",
    "\tC = |3|2|2|3|9|\n",
    "\t\n",
    "\t\"\"\"\n",
    "\t# We want to save B to the 'skeleton' of A\n",
    "\tres = torch.clone(A)\n",
    "\tdiff = B.dim() - A.dim()\n",
    "\n",
    "\tfor i in range(A.dim()):\n",
    "\t\tif A.shape[i] != B.shape[diff+i]: \n",
    "\t\t\tlst = [res] * B.shape[diff+i]  # like repeat\n",
    "\t\t\tres = torch.stack(lst, i+1)\n",
    "\t\t\tres.squeeze_(i)\n",
    "\n",
    "\tfor i in range(diff, 0, -1):\n",
    "\t\tlst = [res] * B.shape[i]\n",
    "\t\tres = torch.stack(lst, 0)\n",
    "\n",
    "\treturn res\n"
   ]
  },
  {
   "cell_type": "markdown",
   "metadata": {},
   "source": [
    "# Test is broadcastable"
   ]
  },
  {
   "cell_type": "code",
   "execution_count": 719,
   "metadata": {},
   "outputs": [
    {
     "name": "stdout",
     "output_type": "stream",
     "text": [
      "A =  torch.Size([2, 1, 2])\n",
      "B =  torch.Size([2, 1, 1, 3])\n",
      "2 3  mismatch\n",
      "A and B are not broadcastable\n"
     ]
    }
   ],
   "source": [
    "# A = 2x1x2\n",
    "# B = 2x1x1x3\n",
    "A = torch.arange(4).reshape(2,1,2)\n",
    "B = torch.arange(6).reshape(2,1,1,3)\n",
    "print(\"A = \", A.size())\n",
    "print(\"B = \", B.size())\n",
    "try:\t\n",
    "\tC = my_expand_as(A,B)\n",
    "\tprint(C)\n",
    "\traise \"ERROR: A,B are not broadcastable, yet my_expand_as() returned a tensor\"\n",
    "except AssertionError:\n",
    "\tprint(\"A and B are not broadcastable\")"
   ]
  },
  {
   "cell_type": "code",
   "execution_count": 720,
   "metadata": {},
   "outputs": [
    {
     "name": "stdout",
     "output_type": "stream",
     "text": [
      "A =  torch.Size([2, 1, 2])\n",
      "B =  torch.Size([5, 1])\n",
      "Dim 2 in A is longer than 1 in B, mismatch\n",
      "A and B are not broadcastable\n"
     ]
    }
   ],
   "source": [
    "# A = 2x1x2\n",
    "# B = 5x1\n",
    "A = torch.arange(4).reshape(2,1,2)\n",
    "B = torch.arange(5).reshape(5,1)\n",
    "print(\"A = \", A.size())\n",
    "print(\"B = \", B.size())\n",
    "try:\n",
    "\tC = my_expand_as(A,B)\n",
    "\tprint(C)\n",
    "\traise \"ERROR: A,B are not broadcastable, yet my_expand_as() returned a tensor\"\n",
    "except AssertionError:\n",
    "\tprint(\"A and B are not broadcastable\")"
   ]
  },
  {
   "cell_type": "code",
   "execution_count": 721,
   "metadata": {},
   "outputs": [
    {
     "name": "stdout",
     "output_type": "stream",
     "text": [
      "A =  torch.Size([2, 1, 1, 3])\n",
      "B =  torch.Size([5, 1])\n",
      "Dim 3 in A is longer than 1 in B, mismatch\n",
      "A and B are not broadcastable\n"
     ]
    }
   ],
   "source": [
    "# A = 2x1x1x3\n",
    "# B = 5x1\n",
    "A = torch.arange(6).reshape(2,1,1,3)\n",
    "B = torch.arange(5).reshape(5,1)\n",
    "print(\"A = \", A.size())\n",
    "print(\"B = \", B.size())\n",
    "try:\n",
    "\tC = my_expand_as(A,B)\n",
    "\tprint(C)\n",
    "\tprint(\"A and B are broadcastable\")\n",
    "\traise \"ERROR: A,B are not broadcastable, yet my_expand_as() returned a tensor\"\n",
    "except AssertionError:\n",
    "\tprint(\"A and B are not broadcastable\")"
   ]
  },
  {
   "cell_type": "code",
   "execution_count": 708,
   "metadata": {},
   "outputs": [
    {
     "name": "stdout",
     "output_type": "stream",
     "text": [
      "A =  torch.Size([2, 1, 2])\n",
      "B =  torch.Size([2, 1, 1, 3])\n",
      "2 3  mismatch\n",
      "A and B are not broadcastable\n"
     ]
    }
   ],
   "source": [
    "# A = 2x1x2\n",
    "# B = 1x3x1x2\n",
    "A = torch.arange(4).reshape(2,1,2)\n",
    "B = torch.arange(6).reshape(2,1,1,3)\n",
    "print(\"A = \", A.size())\n",
    "print(\"B = \", B.size())\n",
    "try:\t\n",
    "\tC = my_expand_as(A,B)\n",
    "\tprint(C)\n",
    "\traise \"ERROR: A,B are not broadcastable, yet my_expand_as() returned a tensor\"\n",
    "except AssertionError:\n",
    "\tprint(\"A and B are not broadcastable\")"
   ]
  },
  {
   "cell_type": "code",
   "execution_count": 722,
   "metadata": {},
   "outputs": [
    {
     "name": "stdout",
     "output_type": "stream",
     "text": [
      "A =  torch.Size([1, 1, 1, 1])\n",
      "B =  torch.Size([5, 5, 5, 1])\n",
      "1 1  match\n",
      "1 5  match\n",
      "1 5  match\n",
      "1 5  match\n",
      "Broadcastable\n",
      "tensor([[[[0],\n",
      "          [0],\n",
      "          [0],\n",
      "          [0],\n",
      "          [0]],\n",
      "\n",
      "         [[0],\n",
      "          [0],\n",
      "          [0],\n",
      "          [0],\n",
      "          [0]],\n",
      "\n",
      "         [[0],\n",
      "          [0],\n",
      "          [0],\n",
      "          [0],\n",
      "          [0]],\n",
      "\n",
      "         [[0],\n",
      "          [0],\n",
      "          [0],\n",
      "          [0],\n",
      "          [0]],\n",
      "\n",
      "         [[0],\n",
      "          [0],\n",
      "          [0],\n",
      "          [0],\n",
      "          [0]]],\n",
      "\n",
      "\n",
      "        [[[0],\n",
      "          [0],\n",
      "          [0],\n",
      "          [0],\n",
      "          [0]],\n",
      "\n",
      "         [[0],\n",
      "          [0],\n",
      "          [0],\n",
      "          [0],\n",
      "          [0]],\n",
      "\n",
      "         [[0],\n",
      "          [0],\n",
      "          [0],\n",
      "          [0],\n",
      "          [0]],\n",
      "\n",
      "         [[0],\n",
      "          [0],\n",
      "          [0],\n",
      "          [0],\n",
      "          [0]],\n",
      "\n",
      "         [[0],\n",
      "          [0],\n",
      "          [0],\n",
      "          [0],\n",
      "          [0]]],\n",
      "\n",
      "\n",
      "        [[[0],\n",
      "          [0],\n",
      "          [0],\n",
      "          [0],\n",
      "          [0]],\n",
      "\n",
      "         [[0],\n",
      "          [0],\n",
      "          [0],\n",
      "          [0],\n",
      "          [0]],\n",
      "\n",
      "         [[0],\n",
      "          [0],\n",
      "          [0],\n",
      "          [0],\n",
      "          [0]],\n",
      "\n",
      "         [[0],\n",
      "          [0],\n",
      "          [0],\n",
      "          [0],\n",
      "          [0]],\n",
      "\n",
      "         [[0],\n",
      "          [0],\n",
      "          [0],\n",
      "          [0],\n",
      "          [0]]],\n",
      "\n",
      "\n",
      "        [[[0],\n",
      "          [0],\n",
      "          [0],\n",
      "          [0],\n",
      "          [0]],\n",
      "\n",
      "         [[0],\n",
      "          [0],\n",
      "          [0],\n",
      "          [0],\n",
      "          [0]],\n",
      "\n",
      "         [[0],\n",
      "          [0],\n",
      "          [0],\n",
      "          [0],\n",
      "          [0]],\n",
      "\n",
      "         [[0],\n",
      "          [0],\n",
      "          [0],\n",
      "          [0],\n",
      "          [0]],\n",
      "\n",
      "         [[0],\n",
      "          [0],\n",
      "          [0],\n",
      "          [0],\n",
      "          [0]]],\n",
      "\n",
      "\n",
      "        [[[0],\n",
      "          [0],\n",
      "          [0],\n",
      "          [0],\n",
      "          [0]],\n",
      "\n",
      "         [[0],\n",
      "          [0],\n",
      "          [0],\n",
      "          [0],\n",
      "          [0]],\n",
      "\n",
      "         [[0],\n",
      "          [0],\n",
      "          [0],\n",
      "          [0],\n",
      "          [0]],\n",
      "\n",
      "         [[0],\n",
      "          [0],\n",
      "          [0],\n",
      "          [0],\n",
      "          [0]],\n",
      "\n",
      "         [[0],\n",
      "          [0],\n",
      "          [0],\n",
      "          [0],\n",
      "          [0]]]])\n",
      "A and B are broadcastable\n"
     ]
    }
   ],
   "source": [
    "# A = 1x1x1x1\n",
    "# B = 5x5x5x1\n",
    "A = torch.arange(1).reshape(1,1,1,1)\n",
    "B = torch.arange(125).reshape(5,5,5,1)\n",
    "print(\"A = \", A.size())\n",
    "print(\"B = \", B.size())\n",
    "C = my_expand_as(A,B)\n",
    "print(C)\n",
    "print(\"A and B are broadcastable\")"
   ]
  },
  {
   "cell_type": "code",
   "execution_count": 710,
   "metadata": {},
   "outputs": [
    {
     "name": "stdout",
     "output_type": "stream",
     "text": [
      "A =  torch.Size([6])\n",
      "B =  torch.Size([6, 6])\n",
      "6 6  match\n",
      "Broadcastable\n",
      "tensor([[0, 1, 2, 3, 4, 5],\n",
      "        [0, 1, 2, 3, 4, 5],\n",
      "        [0, 1, 2, 3, 4, 5],\n",
      "        [0, 1, 2, 3, 4, 5],\n",
      "        [0, 1, 2, 3, 4, 5],\n",
      "        [0, 1, 2, 3, 4, 5]])\n",
      "A and B are broadcastable\n"
     ]
    }
   ],
   "source": [
    "# A = 6\n",
    "# B = 6x6\n",
    "A = torch.arange(6)\n",
    "B = torch.arange(36).reshape(6,6)\n",
    "print(\"A = \", A.size())\n",
    "print(\"B = \", B.size())\n",
    "C = my_expand_as(A,B)\n",
    "print(C)\n",
    "print(\"A and B are broadcastable\")"
   ]
  },
  {
   "cell_type": "markdown",
   "metadata": {},
   "source": [
    "# Test my_expand_as function correctness"
   ]
  },
  {
   "cell_type": "code",
   "execution_count": 711,
   "metadata": {},
   "outputs": [
    {
     "name": "stdout",
     "output_type": "stream",
     "text": [
      "A =  tensor([[0, 1, 2],\n",
      "        [3, 4, 5],\n",
      "        [6, 7, 8]])\n",
      "B =  tensor([0, 1, 2])\n",
      "A + B =  tensor([[ 0,  2,  4],\n",
      "        [ 3,  5,  7],\n",
      "        [ 6,  8, 10]])\n",
      "torch.Size([3, 3]) torch.Size([3])\n",
      "tensor([[0, 1, 2],\n",
      "        [0, 1, 2],\n",
      "        [0, 1, 2]])\n",
      "3 3  match\n",
      "Broadcastable\n",
      "tensor([[0, 1, 2],\n",
      "        [0, 1, 2],\n",
      "        [0, 1, 2]])\n",
      "3 3  match\n",
      "Broadcastable\n"
     ]
    }
   ],
   "source": [
    "A=torch.arange(9).reshape(3,3)  # 3x3\n",
    "B=torch.arange(3)  # 1x3\n",
    "print(\"A = \", A)\n",
    "print(\"B = \",B)\n",
    "print(\"A + B = \", A+B)\n",
    "print(A.size(), B.size())\n",
    "\n",
    "print(B.expand_as(A))\n",
    "print(my_expand_as(B,A))\n",
    "assert torch.all(B.expand_as(A) == my_expand_as(B,A))"
   ]
  },
  {
   "cell_type": "code",
   "execution_count": 712,
   "metadata": {},
   "outputs": [
    {
     "name": "stdout",
     "output_type": "stream",
     "text": [
      "3 3  match\n",
      "2 2  match\n",
      "Broadcastable\n"
     ]
    }
   ],
   "source": [
    "A = torch.rand(6).reshape(2,3)\n",
    "B = torch.rand(6).reshape(1,2,3)\n",
    "\n",
    "my_res = my_expand_as(A,B)\n",
    "torch_res = A.expand_as(B)\n",
    "\n",
    "assert torch.all(my_res == torch_res).item()"
   ]
  },
  {
   "cell_type": "code",
   "execution_count": 713,
   "metadata": {},
   "outputs": [],
   "source": [
    "# def broadcast_dim(src: torch.Tensor, dst: torch.Tensor) -> tuple:\n",
    "# \t\"\"\"\n",
    "# \tReturn list of new size of broadcasted dimensions\n",
    "# \t\"\"\"\n",
    "# \tdimSrc = list(src.size())\n",
    "# \tdimDst = list(dst.size())\n",
    "# \tprint(dimSrc, dimDst)\n",
    "\n",
    "# \tif len(dimSrc) != len(dimDst):\n",
    "# \t\tdiff = abs(len(dimSrc) - len(dimDst))\n",
    "# \t\t# add ones to the smaller dimension\n",
    "# \t\tif len(dimSrc) < len(dimDst):\n",
    "# \t\t\tfor _ in range(diff):\n",
    "# \t\t\t\tdimSrc.insert(0, 1)\n",
    "# \t\telse:\n",
    "# \t\t\tfor _ in range(diff):\n",
    "# \t\t\t\tdimDst.insert(0, 1)\n",
    "\n",
    "# \tprint(dimSrc, dimDst)\n",
    "# \tnew_size = []\n",
    "# \tfor dimA, dimB in zip(dimSrc, dimDst):\n",
    "# \t\tnew_size.append(max(dimA, dimB))\n",
    "\n",
    "# \treturn new_size\n",
    "\n",
    "# def my_expand_as_two(A: tensor, B: tensor) -> torch.Tensor:\n",
    "# \tassert is_broadcastable(A, B)\n",
    "\n",
    "# \tnew_size = broadcast_dim(A,B)\n",
    "# \tprint(\"new_size: \", new_size)\n",
    "# \treturn torch.zeros(new_size).squeeze()\n",
    "\n",
    "# a = torch.rand(3).reshape(3)\n",
    "# b = torch.rand(9).reshape(3,3) \n",
    "# my_expand_as_two(a,b).size()\n",
    "\n",
    "# a = torch.rand(9).reshape(1,1,1,3,3)\n",
    "# b = torch.rand(9).reshape(3,3) \n",
    "# my_expand_as_two(a,b).size()"
   ]
  },
  {
   "cell_type": "markdown",
   "metadata": {},
   "source": [
    "# Check parallel broadcasting"
   ]
  },
  {
   "cell_type": "code",
   "execution_count": 714,
   "metadata": {},
   "outputs": [],
   "source": [
    "def is_broadcastable_parallel_tensors(A:torch.Tensor, B:torch.Tensor) -> tuple[bool, List[int]]:\n",
    "\t# For semantics purpose, we order the tensors by dim\n",
    "\t(a,b) = (A,B)\n",
    "\tif A.dim() > B.dim():\n",
    "\t\t(a,b) = (B,A)\n",
    "\t\t\n",
    "\t# We squeeze 'a' so that it has the same number of dimensions as 'b'\n",
    "\tfor i in range(B.dim()-A.dim()):\n",
    "\t\ta = torch.unsqueeze(a, 0)\n",
    "\tprint(\"shapeA: \", a.dim())\n",
    "\tprint(\"shapeB: \", b.dim())\n",
    "\n",
    "\tnew_size = []\n",
    "\tfor i in range(a.dim()):\n",
    "\t\t# The rules in PDF 5\n",
    "\t\tif a.shape[i] != 1 and b.shape[i] != 1 and a.shape[i] != b.shape[i]:\n",
    "\t\t\treturn False, None\n",
    "\t\t\n",
    "\t\t# Keep storing the dimensions\n",
    "\t\tif a.shape[i]>=b.shape[i]:\n",
    "\t\t\tnew_size.append(a.shape[i])\n",
    "\t\telse:\n",
    "\t\t\tnew_size.append(b.shape[i])\n",
    "\n",
    "\treturn True, new_size"
   ]
  },
  {
   "cell_type": "markdown",
   "metadata": {},
   "source": [
    "# Broadcast two tensors in parallel"
   ]
  },
  {
   "cell_type": "code",
   "execution_count": 715,
   "metadata": {},
   "outputs": [],
   "source": [
    "def my_broadcast_tensors(A:torch.Tensor, B:torch.Tensor) -> tuple[torch.Tensor, torch.Tensor]:\n",
    "\tis_parallel_broadcastable, desired_sizes = is_broadcastable_parallel_tensors(A, B)\n",
    "\tassert is_parallel_broadcastable\n",
    "\tassert desired_sizes is not None\n",
    "\n",
    "\tcontainer = torch.empty(desired_sizes)  # Sekeleton tensor\n",
    "\treturn my_expand_as(A, container), my_expand_as(B, container)"
   ]
  },
  {
   "cell_type": "markdown",
   "metadata": {},
   "source": [
    "# Test my_broadcast_tensors"
   ]
  },
  {
   "cell_type": "code",
   "execution_count": 723,
   "metadata": {},
   "outputs": [
    {
     "name": "stdout",
     "output_type": "stream",
     "text": [
      "shapeA:  3\n",
      "shapeB:  3\n",
      "3 3  match\n",
      "Broadcastable\n",
      "3 3  match\n",
      "3 3  match\n",
      "1 1  match\n",
      "Broadcastable\n",
      "torch_res =  tensor([[[0, 1, 2],\n",
      "         [0, 1, 2],\n",
      "         [0, 1, 2]]])\n",
      "my_res =  tensor([[[0, 1, 2],\n",
      "         [0, 1, 2],\n",
      "         [0, 1, 2]],\n",
      "\n",
      "        [[0, 1, 2],\n",
      "         [0, 1, 2],\n",
      "         [0, 1, 2]],\n",
      "\n",
      "        [[0, 1, 2],\n",
      "         [0, 1, 2],\n",
      "         [0, 1, 2]]])\n"
     ]
    }
   ],
   "source": [
    "a=torch.arange(3).reshape(3)\n",
    "b=torch.arange(9).reshape(1,3,3)\n",
    "\n",
    "torch_resA, torch_resB = torch.broadcast_tensors(a,b)\n",
    "my_resA, my_resB = my_broadcast_tensors(a,b)\n",
    "\n",
    "print(\"torch_res = \", torch_resA)\n",
    "print(\"my_res = \", my_resA)\n",
    "\n",
    "assert (torch.all(torch_resA == my_resA) and torch.all(torch_resB == my_resB)).item()"
   ]
  },
  {
   "cell_type": "code",
   "execution_count": 717,
   "metadata": {},
   "outputs": [
    {
     "name": "stdout",
     "output_type": "stream",
     "text": [
      "shapeA:  2\n",
      "shapeB:  2\n"
     ]
    }
   ],
   "source": [
    "a=torch.arange(9).reshape(1,9)\n",
    "b=torch.arange(3).reshape(1,3)\n",
    "\n",
    "try:\n",
    "\ttorch_resA, torch_resB = torch.broadcast_tensors(a,b)\n",
    "\traise \"ERROR: Something went wrong\"\n",
    "except:\n",
    "\tpass\n",
    "\n",
    "try:\n",
    "\tmy_resA, my_resB = my_broadcast_tensors(a,b)\n",
    "\traise \"ERROR: Something went wrong, shouldn;t be able to broadcast\"\n",
    "except:\n",
    "\tpass"
   ]
  }
 ],
 "metadata": {
  "interpreter": {
   "hash": "491bb19b02bca4120e598d98c213a4bec2319d7b10161d80e88d4a71a12afc06"
  },
  "kernelspec": {
   "display_name": "Python 3.9.7 ('base')",
   "language": "python",
   "name": "python3"
  },
  "language_info": {
   "codemirror_mode": {
    "name": "ipython",
    "version": 3
   },
   "file_extension": ".py",
   "mimetype": "text/x-python",
   "name": "python",
   "nbconvert_exporter": "python",
   "pygments_lexer": "ipython3",
   "version": "3.9.7"
  },
  "orig_nbformat": 4
 },
 "nbformat": 4,
 "nbformat_minor": 2
}
