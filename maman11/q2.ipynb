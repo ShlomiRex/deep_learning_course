{
 "cells": [
  {
   "cell_type": "code",
   "execution_count": 131,
   "metadata": {},
   "outputs": [],
   "source": [
    "import torch\n",
    "from torch import tensor"
   ]
  },
  {
   "cell_type": "markdown",
   "metadata": {},
   "source": [
    "# Check is broadcastable"
   ]
  },
  {
   "cell_type": "code",
   "execution_count": 132,
   "metadata": {},
   "outputs": [],
   "source": [
    "def is_broadcastable(A:tensor, B:tensor):\n",
    "\t\"\"\"\n",
    "\tA tensor can't be broadcasted if:\n",
    "\n",
    "\t(dimA[i] != dimB[i]) and (dimA[i] != 1 and dimB[i] != 1)\n",
    "\n",
    "\tThe dimension of A can be longer than B, or vice versa.\n",
    "\tTo deal with this, we extend the shorter tensor with 1's.\n",
    "\t\"\"\"\n",
    "\n",
    "\tminDim = min(A.dim(), B.dim())\n",
    "\ti = -1\n",
    "\t# Check latest size, after loop, everything is expanded as '1' so we dont need to check\n",
    "\tfor _ in range(minDim):\n",
    "\t\tsA = A.size()[i]\n",
    "\t\tsB = B.size()[i]\n",
    "\t\ti = i - 1\n",
    "\t\tif sA != sB and sA != 1 and sB != 1:\n",
    "\t\t\tprint(sA, sB, \" mismatch\")\n",
    "\t\t\treturn False\n",
    "\t\telse:\n",
    "\t\t\tprint(sA, sB, \" match\")\n",
    "\n",
    "\treturn True"
   ]
  },
  {
   "cell_type": "code",
   "execution_count": 133,
   "metadata": {},
   "outputs": [],
   "source": [
    "def my_expand_as(A:tensor, B:tensor) -> tensor:\n",
    "\tassert is_broadcastable(A, B)\n",
    "\tpass"
   ]
  },
  {
   "cell_type": "markdown",
   "metadata": {},
   "source": [
    "# Test is broadcastable"
   ]
  },
  {
   "cell_type": "code",
   "execution_count": 134,
   "metadata": {},
   "outputs": [
    {
     "name": "stdout",
     "output_type": "stream",
     "text": [
      "A =  torch.Size([2, 1, 2])\n",
      "B =  torch.Size([2, 1, 1, 3])\n",
      "2 3  mismatch\n",
      "A and B are not broadcastable\n"
     ]
    }
   ],
   "source": [
    "# A = 2x1x2\n",
    "# B = 2x1x1x3\n",
    "A = torch.arange(4).reshape(2,1,2)\n",
    "B = torch.arange(6).reshape(2,1,1,3)\n",
    "print(\"A = \", A.size())\n",
    "print(\"B = \", B.size())\n",
    "try:\t\n",
    "\tC = my_expand_as(A,B)\n",
    "\tprint(C)\n",
    "\traise \"ERROR: A,B are not broadcastable, yet my_expand_as() returned a tensor\"\n",
    "except AssertionError:\n",
    "\tprint(\"A and B are not broadcastable\")"
   ]
  },
  {
   "cell_type": "code",
   "execution_count": 135,
   "metadata": {},
   "outputs": [
    {
     "name": "stdout",
     "output_type": "stream",
     "text": [
      "A =  torch.Size([2, 1, 2])\n",
      "B =  torch.Size([5, 1])\n",
      "2 1  match\n",
      "1 5  match\n",
      "None\n",
      "A and B are broadcastable\n"
     ]
    }
   ],
   "source": [
    "# A = 2x1x2\n",
    "# B = 5x1\n",
    "A = torch.arange(4).reshape(2,1,2)\n",
    "B = torch.arange(5).reshape(5,1)\n",
    "print(\"A = \", A.size())\n",
    "print(\"B = \", B.size())\n",
    "C = my_expand_as(A,B)\n",
    "print(C)\n",
    "print(\"A and B are broadcastable\")"
   ]
  },
  {
   "cell_type": "code",
   "execution_count": 136,
   "metadata": {},
   "outputs": [
    {
     "name": "stdout",
     "output_type": "stream",
     "text": [
      "A =  torch.Size([2, 1, 1, 3])\n",
      "B =  torch.Size([5, 1])\n",
      "3 1  match\n",
      "1 5  match\n",
      "None\n",
      "A and B are broadcastable\n"
     ]
    }
   ],
   "source": [
    "# A = 2x1x1x3\n",
    "# B = 5x1\n",
    "A = torch.arange(6).reshape(2,1,1,3)\n",
    "B = torch.arange(5).reshape(5,1)\n",
    "print(\"A = \", A.size())\n",
    "print(\"B = \", B.size())\n",
    "C = my_expand_as(A,B)\n",
    "print(C)\n",
    "print(\"A and B are broadcastable\")"
   ]
  },
  {
   "cell_type": "code",
   "execution_count": 137,
   "metadata": {},
   "outputs": [
    {
     "name": "stdout",
     "output_type": "stream",
     "text": [
      "A =  torch.Size([2, 1, 2])\n",
      "B =  torch.Size([2, 1, 1, 3])\n",
      "2 3  mismatch\n",
      "A and B are not broadcastable\n"
     ]
    }
   ],
   "source": [
    "# A = 2x1x2\n",
    "# B = 1x3x1x2\n",
    "A = torch.arange(4).reshape(2,1,2)\n",
    "B = torch.arange(6).reshape(2,1,1,3)\n",
    "print(\"A = \", A.size())\n",
    "print(\"B = \", B.size())\n",
    "try:\t\n",
    "\tC = my_expand_as(A,B)\n",
    "\tprint(C)\n",
    "\traise \"ERROR: A,B are not broadcastable, yet my_expand_as() returned a tensor\"\n",
    "except AssertionError:\n",
    "\tprint(\"A and B are not broadcastable\")"
   ]
  }
 ],
 "metadata": {
  "interpreter": {
   "hash": "491bb19b02bca4120e598d98c213a4bec2319d7b10161d80e88d4a71a12afc06"
  },
  "kernelspec": {
   "display_name": "Python 3.9.7 ('base')",
   "language": "python",
   "name": "python3"
  },
  "language_info": {
   "codemirror_mode": {
    "name": "ipython",
    "version": 3
   },
   "file_extension": ".py",
   "mimetype": "text/x-python",
   "name": "python",
   "nbconvert_exporter": "python",
   "pygments_lexer": "ipython3",
   "version": "3.9.7"
  },
  "orig_nbformat": 4
 },
 "nbformat": 4,
 "nbformat_minor": 2
}
