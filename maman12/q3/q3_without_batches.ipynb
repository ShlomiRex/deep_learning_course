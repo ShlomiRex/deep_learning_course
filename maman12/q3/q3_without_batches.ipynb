{
 "cells": [
  {
   "cell_type": "code",
   "execution_count": 613,
   "metadata": {},
   "outputs": [],
   "source": [
    "import torch\n",
    "import sklearn.datasets as skds\n",
    "import matplotlib.pyplot as plt\n",
    "import torch\n",
    "from torch.utils.data import DataLoader\n",
    "import torchvision\n",
    "from torch import nn\n",
    "import numpy\n",
    "import pandas\n",
    "from typing import Optional\n",
    "from tqdm import tqdm\n",
    "import torch.utils.data as data_utils\n",
    "from torch.nn.functional import normalize\n"
   ]
  },
  {
   "cell_type": "markdown",
   "metadata": {},
   "source": [
    "# Creating custom dataset from CSV file"
   ]
  },
  {
   "cell_type": "code",
   "execution_count": 614,
   "metadata": {},
   "outputs": [
    {
     "name": "stdout",
     "output_type": "stream",
     "text": [
      "(tensor([ 59.0000,   2.0000,  32.1000, 101.0000, 157.0000,  93.2000,  38.0000,\n",
      "          4.0000,   4.8598,  87.0000]), tensor(151.)) <class 'tuple'>\n"
     ]
    },
    {
     "name": "stderr",
     "output_type": "stream",
     "text": [
      "C:\\Users\\Shlomi\\AppData\\Local\\Temp/ipykernel_23724/57682996.py:16: UserWarning: To copy construct from a tensor, it is recommended to use sourceTensor.clone().detach() or sourceTensor.clone().detach().requires_grad_(True), rather than torch.tensor(sourceTensor).\n",
      "  target = torch.tensor(target, dtype=torch.float32)\n"
     ]
    },
    {
     "data": {
      "text/html": [
       "<div>\n",
       "<style scoped>\n",
       "    .dataframe tbody tr th:only-of-type {\n",
       "        vertical-align: middle;\n",
       "    }\n",
       "\n",
       "    .dataframe tbody tr th {\n",
       "        vertical-align: top;\n",
       "    }\n",
       "\n",
       "    .dataframe thead th {\n",
       "        text-align: right;\n",
       "    }\n",
       "</style>\n",
       "<table border=\"1\" class=\"dataframe\">\n",
       "  <thead>\n",
       "    <tr style=\"text-align: right;\">\n",
       "      <th></th>\n",
       "      <th>AGE</th>\n",
       "      <th>SEX</th>\n",
       "      <th>BMI</th>\n",
       "      <th>BP</th>\n",
       "      <th>S1</th>\n",
       "      <th>S2</th>\n",
       "      <th>S3</th>\n",
       "      <th>S4</th>\n",
       "      <th>S5</th>\n",
       "      <th>S6</th>\n",
       "      <th>Y</th>\n",
       "    </tr>\n",
       "  </thead>\n",
       "  <tbody>\n",
       "    <tr>\n",
       "      <th>0</th>\n",
       "      <td>59</td>\n",
       "      <td>2</td>\n",
       "      <td>32.1</td>\n",
       "      <td>101.00</td>\n",
       "      <td>157</td>\n",
       "      <td>93.2</td>\n",
       "      <td>38.0</td>\n",
       "      <td>4.00</td>\n",
       "      <td>4.8598</td>\n",
       "      <td>87</td>\n",
       "      <td>151</td>\n",
       "    </tr>\n",
       "    <tr>\n",
       "      <th>1</th>\n",
       "      <td>48</td>\n",
       "      <td>1</td>\n",
       "      <td>21.6</td>\n",
       "      <td>87.00</td>\n",
       "      <td>183</td>\n",
       "      <td>103.2</td>\n",
       "      <td>70.0</td>\n",
       "      <td>3.00</td>\n",
       "      <td>3.8918</td>\n",
       "      <td>69</td>\n",
       "      <td>75</td>\n",
       "    </tr>\n",
       "    <tr>\n",
       "      <th>2</th>\n",
       "      <td>72</td>\n",
       "      <td>2</td>\n",
       "      <td>30.5</td>\n",
       "      <td>93.00</td>\n",
       "      <td>156</td>\n",
       "      <td>93.6</td>\n",
       "      <td>41.0</td>\n",
       "      <td>4.00</td>\n",
       "      <td>4.6728</td>\n",
       "      <td>85</td>\n",
       "      <td>141</td>\n",
       "    </tr>\n",
       "    <tr>\n",
       "      <th>3</th>\n",
       "      <td>24</td>\n",
       "      <td>1</td>\n",
       "      <td>25.3</td>\n",
       "      <td>84.00</td>\n",
       "      <td>198</td>\n",
       "      <td>131.4</td>\n",
       "      <td>40.0</td>\n",
       "      <td>5.00</td>\n",
       "      <td>4.8903</td>\n",
       "      <td>89</td>\n",
       "      <td>206</td>\n",
       "    </tr>\n",
       "    <tr>\n",
       "      <th>4</th>\n",
       "      <td>50</td>\n",
       "      <td>1</td>\n",
       "      <td>23.0</td>\n",
       "      <td>101.00</td>\n",
       "      <td>192</td>\n",
       "      <td>125.4</td>\n",
       "      <td>52.0</td>\n",
       "      <td>4.00</td>\n",
       "      <td>4.2905</td>\n",
       "      <td>80</td>\n",
       "      <td>135</td>\n",
       "    </tr>\n",
       "    <tr>\n",
       "      <th>...</th>\n",
       "      <td>...</td>\n",
       "      <td>...</td>\n",
       "      <td>...</td>\n",
       "      <td>...</td>\n",
       "      <td>...</td>\n",
       "      <td>...</td>\n",
       "      <td>...</td>\n",
       "      <td>...</td>\n",
       "      <td>...</td>\n",
       "      <td>...</td>\n",
       "      <td>...</td>\n",
       "    </tr>\n",
       "    <tr>\n",
       "      <th>437</th>\n",
       "      <td>60</td>\n",
       "      <td>2</td>\n",
       "      <td>28.2</td>\n",
       "      <td>112.00</td>\n",
       "      <td>185</td>\n",
       "      <td>113.8</td>\n",
       "      <td>42.0</td>\n",
       "      <td>4.00</td>\n",
       "      <td>4.9836</td>\n",
       "      <td>93</td>\n",
       "      <td>178</td>\n",
       "    </tr>\n",
       "    <tr>\n",
       "      <th>438</th>\n",
       "      <td>47</td>\n",
       "      <td>2</td>\n",
       "      <td>24.9</td>\n",
       "      <td>75.00</td>\n",
       "      <td>225</td>\n",
       "      <td>166.0</td>\n",
       "      <td>42.0</td>\n",
       "      <td>5.00</td>\n",
       "      <td>4.4427</td>\n",
       "      <td>102</td>\n",
       "      <td>104</td>\n",
       "    </tr>\n",
       "    <tr>\n",
       "      <th>439</th>\n",
       "      <td>60</td>\n",
       "      <td>2</td>\n",
       "      <td>24.9</td>\n",
       "      <td>99.67</td>\n",
       "      <td>162</td>\n",
       "      <td>106.6</td>\n",
       "      <td>43.0</td>\n",
       "      <td>3.77</td>\n",
       "      <td>4.1271</td>\n",
       "      <td>95</td>\n",
       "      <td>132</td>\n",
       "    </tr>\n",
       "    <tr>\n",
       "      <th>440</th>\n",
       "      <td>36</td>\n",
       "      <td>1</td>\n",
       "      <td>30.0</td>\n",
       "      <td>95.00</td>\n",
       "      <td>201</td>\n",
       "      <td>125.2</td>\n",
       "      <td>42.0</td>\n",
       "      <td>4.79</td>\n",
       "      <td>5.1299</td>\n",
       "      <td>85</td>\n",
       "      <td>220</td>\n",
       "    </tr>\n",
       "    <tr>\n",
       "      <th>441</th>\n",
       "      <td>36</td>\n",
       "      <td>1</td>\n",
       "      <td>19.6</td>\n",
       "      <td>71.00</td>\n",
       "      <td>250</td>\n",
       "      <td>133.2</td>\n",
       "      <td>97.0</td>\n",
       "      <td>3.00</td>\n",
       "      <td>4.5951</td>\n",
       "      <td>92</td>\n",
       "      <td>57</td>\n",
       "    </tr>\n",
       "  </tbody>\n",
       "</table>\n",
       "<p>442 rows × 11 columns</p>\n",
       "</div>"
      ],
      "text/plain": [
       "     AGE  SEX   BMI      BP   S1     S2    S3    S4      S5   S6    Y\n",
       "0     59    2  32.1  101.00  157   93.2  38.0  4.00  4.8598   87  151\n",
       "1     48    1  21.6   87.00  183  103.2  70.0  3.00  3.8918   69   75\n",
       "2     72    2  30.5   93.00  156   93.6  41.0  4.00  4.6728   85  141\n",
       "3     24    1  25.3   84.00  198  131.4  40.0  5.00  4.8903   89  206\n",
       "4     50    1  23.0  101.00  192  125.4  52.0  4.00  4.2905   80  135\n",
       "..   ...  ...   ...     ...  ...    ...   ...   ...     ...  ...  ...\n",
       "437   60    2  28.2  112.00  185  113.8  42.0  4.00  4.9836   93  178\n",
       "438   47    2  24.9   75.00  225  166.0  42.0  5.00  4.4427  102  104\n",
       "439   60    2  24.9   99.67  162  106.6  43.0  3.77  4.1271   95  132\n",
       "440   36    1  30.0   95.00  201  125.2  42.0  4.79  5.1299   85  220\n",
       "441   36    1  19.6   71.00  250  133.2  97.0  3.00  4.5951   92   57\n",
       "\n",
       "[442 rows x 11 columns]"
      ]
     },
     "execution_count": 614,
     "metadata": {},
     "output_type": "execute_result"
    }
   ],
   "source": [
    "class MyDiabetesDataset(torch.utils.data.Dataset):\n",
    "\tdef __init__(self, csv_file):\n",
    "\t\tself.data = pandas.read_csv(csv_file, sep=\"\\t\")\n",
    "\tdef __len__(self):\n",
    "\t\treturn len(self.data)\n",
    "\n",
    "\tdef __getitem__(self, index):\n",
    "\t\t#print(\"Returning sample at index {}\".format(index))\n",
    "\t\tdata = self.data.iloc[index]\n",
    "\t\t#data = data.to_numpy().astype(numpy.float32)\n",
    "\t\tdata = torch.tensor(data, dtype=torch.float32)\n",
    "\n",
    "\t\tsample = data[0:10]  # other columns are the features to train on\n",
    "\t\ttarget = data[10]  # column Y is the target\n",
    "\t\t\n",
    "\t\ttarget = torch.tensor(target, dtype=torch.float32)\n",
    "\n",
    "\t\treturn sample , target\n",
    "\n",
    "dataset = MyDiabetesDataset(\"diabetes.csv\")\n",
    "print(dataset[0], type(dataset[0]))\n",
    "dataloader = DataLoader(dataset)\n",
    "dataset.data"
   ]
  },
  {
   "cell_type": "markdown",
   "metadata": {},
   "source": [
    "# Creating custom loader for our custom dataset\n",
    "\n",
    "This allows:\n",
    "- Batching\n",
    "- Shuffling the data\n",
    "- Load the data in parallel using `multiprocess` workers"
   ]
  },
  {
   "cell_type": "markdown",
   "metadata": {},
   "source": [
    "# Creating model"
   ]
  },
  {
   "cell_type": "code",
   "execution_count": 615,
   "metadata": {},
   "outputs": [],
   "source": [
    "model = nn.Sequential(\n",
    "\t#nn.BatchNorm1d(10), # We use batch normalization because this dataset contains many unique numbers, its hard to train. Normalization sets the values between 0 and 1 so its easier to train.\n",
    "\n",
    "\tnn.Linear(10, 100),\n",
    "\tnn.ReLU(),\n",
    "\n",
    "\t# nn.BatchNorm1d(100),\n",
    "\tnn.Linear(100, 100),\n",
    "\tnn.ReLU(),\n",
    "\n",
    "\t# nn.BatchNorm1d(100),\n",
    "\tnn.Linear(100, 1024),\n",
    "\tnn.ReLU(),\n",
    "\n",
    "\tnn.BatchNorm1d(1024),\n",
    "\tnn.Linear(1024, 1),\n",
    "\tnn.ReLU(),\n",
    "\n",
    "\t# nn.Dropout(0.2),\n",
    "\t# nn.LogSoftmax()\n",
    ")"
   ]
  },
  {
   "cell_type": "markdown",
   "metadata": {},
   "source": [
    "# Train\n",
    "\n",
    "Target is last column (column 11 is measure of diabetes, is a number, not classical linear regression!)"
   ]
  },
  {
   "cell_type": "markdown",
   "metadata": {},
   "source": [
    "### Set cost function, optimizer function"
   ]
  },
  {
   "cell_type": "code",
   "execution_count": 616,
   "metadata": {},
   "outputs": [],
   "source": [
    "#loss_func = nn.MSELoss()  # This is a regression problem, not a classification problem! Took me a while to figure this out.\n",
    "loss_func = nn.HuberLoss()\n",
    "#optimizer = torch.optim.SGD(model.parameters(), lr=300)  # Stochistic Gradient Descent - classic\n",
    "optimizer = torch.optim.Adamax(model.parameters(), lr = 0.0001)  # Adamax - faster than SGD"
   ]
  },
  {
   "cell_type": "markdown",
   "metadata": {},
   "source": [
    "### Set batch processing function"
   ]
  },
  {
   "cell_type": "markdown",
   "metadata": {},
   "source": [
    "# Train"
   ]
  },
  {
   "cell_type": "code",
   "execution_count": 617,
   "metadata": {},
   "outputs": [
    {
     "name": "stdout",
     "output_type": "stream",
     "text": [
      "Target mean, std: 152.13348388671875 77.09300231933594 \n",
      "Target mean, std: 0.04243827238678932 0.021505415439605713 \n"
     ]
    },
    {
     "name": "stderr",
     "output_type": "stream",
     "text": [
      "  0%|          | 0/50 [00:00<?, ?it/s]c:\\Users\\Shlomi\\anaconda3\\lib\\site-packages\\torch\\nn\\modules\\loss.py:972: UserWarning: Using a target size (torch.Size([442])) that is different to the input size (torch.Size([442, 1])). This will likely lead to incorrect results due to broadcasting. Please ensure they have the same size.\n",
      "  return F.huber_loss(input, target, reduction=self.reduction, delta=self.delta)\n",
      "100%|██████████| 50/50 [00:00<00:00, 75.87it/s]\n"
     ]
    }
   ],
   "source": [
    "epochs = 50\n",
    "\n",
    "loss_train=torch.zeros(epochs)\n",
    "acc_train=torch.zeros(epochs)\n",
    "loss_test=torch.zeros(epochs)\n",
    "acc_test=torch.zeros(epochs)\n",
    "\n",
    "dataset_numpy = dataset.data.to_numpy()\n",
    "dataset_tensor = torch.tensor(dataset_numpy, dtype=torch.float32)\n",
    "\n",
    "train_samples_tensors = dataset_tensor[:, 0:10]\n",
    "train_samples_targets = dataset_tensor[:, 10]\n",
    "\n",
    "print(\"Target mean, std: {} {} \".format(train_samples_targets.mean(), train_samples_targets.std()))\n",
    "\n",
    "train_samples_targets = torch.nn.functional.normalize(train_samples_targets, dim=0)\n",
    "train_samples_tensors = torch.nn.functional.normalize(train_samples_tensors)\n",
    "\n",
    "# train_samples_targets -= train_samples_targets.min()\n",
    "# train_samples_targets /= train_samples_targets.max()\n",
    "\n",
    "#model[0].reset_parameters() # TODO: What is this shit\n",
    "model[0].reset_parameters()\n",
    "\n",
    "print(\"Target mean, std: {} {} \".format(train_samples_targets.mean(), train_samples_targets.std()))\n",
    "\n",
    "\n",
    "for epoch_idx in tqdm(range(epochs)):\n",
    "\toptimizer.zero_grad() # Zero gradient before every batch\n",
    "\n",
    "\ty_model = model(train_samples_tensors)  # Predict the output of the model\n",
    "\n",
    "\tloss = loss_func(y_model, train_samples_targets)  # Calculate loss\n",
    "\n",
    "\tloss.backward()  # Calculate gradients\n",
    "\toptimizer.step()  # Update weights\n",
    "\n",
    "\tgood_predict = torch.abs(train_samples_targets - y_model) < (train_samples_targets * 0.1)\n",
    "\tacc = good_predict.sum() / len(good_predict) * 100\n",
    "\n",
    "\n",
    "\t# acc = torch.abs(train_samples_targets - y_model)\n",
    "\n",
    "\tloss_train[epoch_idx] = loss.item()\n",
    "\tacc_train[epoch_idx] = acc.item()\n"
   ]
  },
  {
   "cell_type": "code",
   "execution_count": 618,
   "metadata": {},
   "outputs": [
    {
     "data": {
      "text/plain": [
       "Text(0.5, 0, 'Epoch Number')"
      ]
     },
     "execution_count": 618,
     "metadata": {},
     "output_type": "execute_result"
    },
    {
     "data": {
      "image/png": "[encoded data removed]",
      "text/plain": [
       "<Figure size 864x288 with 2 Axes>"
      ]
     },
     "metadata": {
      "needs_background": "light"
     },
     "output_type": "display_data"
    }
   ],
   "source": [
    "plt.figure(figsize=(12,4))\n",
    "\n",
    "plt.subplot(1,2,1)\n",
    "plt.plot(range(1,epochs+1),loss_train,label=\"Train Loss\")\n",
    "plt.title(\"CE loss\")\n",
    "plt.legend()\n",
    "plt.xlabel(\"Epoch Number\")\n",
    "\n",
    "plt.subplot(1,2,2)\n",
    "plt.plot(range(1,epochs+1),acc_train,label=\"Train Acc\")\n",
    "#plt.plot(range(1,epochs+1),acc_test,label=\"Test Acc\")\n",
    "plt.title(\"Accuracy\")\n",
    "plt.legend()\n",
    "plt.xlabel(\"Epoch Number\")"
   ]
  },
  {
   "cell_type": "markdown",
   "metadata": {},
   "source": [
    "# Predict something"
   ]
  }
 ],
 "metadata": {
  "interpreter": {
   "hash": "bf879a411aebe39b4058fa858b0b44b05480a906f645312f900a603c4f6baa26"
  },
  "kernelspec": {
   "display_name": "Python 3.9.7 ('base')",
   "language": "python",
   "name": "python3"
  },
  "language_info": {
   "codemirror_mode": {
    "name": "ipython",
    "version": 3
   },
   "file_extension": ".py",
   "mimetype": "text/x-python",
   "name": "python",
   "nbconvert_exporter": "python",
   "pygments_lexer": "ipython3",
   "version": "3.9.7"
  },
  "orig_nbformat": 4
 },
 "nbformat": 4,
 "nbformat_minor": 2
}
