{
  "cells": [
    {
      "cell_type": "markdown",
      "metadata": {
        "colab_type": "text",
        "id": "view-in-github"
      },
      "source": [
        "<a href=\"https://colab.research.google.com/gist/22961-Deep-learning/ba52a5fe649a2eb272196d9b584dc2b1/22961_2_2_3_sgd.ipynb\" target=\"_parent\"><img src=\"https://colab.research.google.com/assets/colab-badge.svg\" alt=\"Open In Colab\"/></a>"
      ]
    },
    {
      "cell_type": "code",
      "execution_count": 1,
      "metadata": {
        "id": "nHOVfP2lG8r_"
      },
      "outputs": [],
      "source": [
        "import torch\n",
        "import torchvision\n",
        "trans=torchvision.transforms.Compose(\n",
        "    [torchvision.transforms.PILToTensor(),\n",
        "     torchvision.transforms.ConvertImageDtype(torch.float)])\n",
        "train_data_transformed = torchvision.datasets.FashionMNIST(\n",
        "    root=\"/22961\", train=True, download=True,\n",
        "    transform=trans)"
      ]
    },
    {
      "cell_type": "code",
      "execution_count": 2,
      "metadata": {
        "id": "p118V7xRKIks"
      },
      "outputs": [],
      "source": [
        "from torch.utils.data import DataLoader\n",
        "train_dataloader = DataLoader(\n",
        "    train_data_transformed, batch_size=60000)\n",
        "imgs, labels = next(iter(train_dataloader))"
      ]
    },
    {
      "cell_type": "code",
      "execution_count": 3,
      "metadata": {
        "colab": {
          "base_uri": "https://localhost:8080/"
        },
        "id": "cjQp_o5nQ0W1",
        "outputId": "acbf98bf-670f-4458-9b22-66e958d7bab9"
      },
      "outputs": [
        {
          "name": "stdout",
          "output_type": "stream",
          "text": [
            "torch.Size([60000, 1, 28, 28])\n",
            "torch.Size([60000, 784])\n",
            "torch.Size([60000, 10])\n"
          ]
        }
      ],
      "source": [
        "print(imgs.size())\n",
        "imgs=imgs.flatten(start_dim=1)\n",
        "y_true=torch.nn.functional.one_hot(labels,num_classes=10)\n",
        "print(imgs.size())\n",
        "print(y_true.size())"
      ]
    },
    {
      "cell_type": "code",
      "execution_count": 4,
      "metadata": {
        "colab": {
          "base_uri": "https://localhost:8080/"
        },
        "id": "UhgtIWfyHr7N",
        "outputId": "7c93fc3d-7ed9-4e74-921e-28a5d30bf555"
      },
      "outputs": [
        {
          "name": "stdout",
          "output_type": "stream",
          "text": [
            "Linear(in_features=784, out_features=10, bias=True)\n"
          ]
        }
      ],
      "source": [
        "from torch import nn\n",
        "z=nn.Linear(784,10)\n",
        "y=nn.Softmax(dim=1)\n",
        "print(z)"
      ]
    },
    {
      "cell_type": "markdown",
      "metadata": {
        "id": "nPL4SjttWp6U"
      },
      "source": [
        "#True Gradient"
      ]
    },
    {
      "cell_type": "code",
      "execution_count": 5,
      "metadata": {
        "colab": {
          "base_uri": "https://localhost:8080/"
        },
        "id": "8LDJFKtoJoID",
        "outputId": "e3cf2dd9-30c4-4f90-98f7-2568e8c30ad7"
      },
      "outputs": [
        {
          "name": "stdout",
          "output_type": "stream",
          "text": [
            "97.5 ms ± 1.64 ms per loop (mean ± std. dev. of 7 runs, 10 loops each)\n"
          ]
        }
      ],
      "source": [
        "%%timeit\n",
        "y_model=y(z(imgs))\n",
        "H = -torch.sum(y_true*torch.log(y_model),dim=1)\n",
        "CE_loss = torch.mean(H)\n",
        "CE_loss.backward()"
      ]
    },
    {
      "cell_type": "markdown",
      "metadata": {
        "id": "XieinjKtWuIl"
      },
      "source": [
        "#Stochastic Gradient"
      ]
    },
    {
      "cell_type": "code",
      "execution_count": 6,
      "metadata": {
        "id": "pJZSGzuwUyNk"
      },
      "outputs": [],
      "source": [
        "train_dataloader_mini = DataLoader(\n",
        "    train_data_transformed, batch_size=16, shuffle=True)\n",
        "minibatch_imgs, minibatch_labels = next(iter(train_dataloader_mini))\n",
        "minibatch_imgs = minibatch_imgs.flatten(start_dim=1)\n",
        "minibatch_y_true = torch.nn.functional.one_hot(minibatch_labels,num_classes=10)"
      ]
    },
    {
      "cell_type": "code",
      "execution_count": 7,
      "metadata": {
        "colab": {
          "base_uri": "https://localhost:8080/"
        },
        "id": "ONhEK7keUaXB",
        "outputId": "f59f904d-f766-4872-d21e-16253ce0c6d5"
      },
      "outputs": [
        {
          "name": "stdout",
          "output_type": "stream",
          "text": [
            "227 µs ± 5.72 µs per loop (mean ± std. dev. of 7 runs, 1000 loops each)\n"
          ]
        }
      ],
      "source": [
        "%%timeit\n",
        "minibatch_y_model=y(z(minibatch_imgs))\n",
        "H = -torch.sum(minibatch_y_true*torch.log(minibatch_y_model),dim=1)\n",
        "CE_loss = torch.mean(H)\n",
        "CE_loss.backward()"
      ]
    },
    {
      "cell_type": "markdown",
      "metadata": {
        "id": "-1HTXsq4eroU"
      },
      "source": [
        "# SGD Iteration"
      ]
    },
    {
      "cell_type": "code",
      "execution_count": 8,
      "metadata": {
        "id": "vr-fomkJbhdE"
      },
      "outputs": [],
      "source": [
        "alpha=0.1\n",
        "z.zero_grad()\n",
        "minibatch_y_model=y(z(minibatch_imgs))\n",
        "H = -torch.sum(minibatch_y_true*torch.log(minibatch_y_model),dim=1)\n",
        "CE_loss = torch.mean(H)\n",
        "CE_loss.backward()\n",
        "with torch.no_grad():\n",
        "  z.weight -= alpha*z.weight.grad\n",
        "  z.bias   -= alpha*z.bias.grad "
      ]
    }
  ],
  "metadata": {
    "colab": {
      "authorship_tag": "ABX9TyNKXjWlZF/91OFtRitd90dX",
      "include_colab_link": true,
      "name": "22961_2_2_3_SGD",
      "provenance": []
    },
    "kernelspec": {
      "display_name": "Python 3",
      "name": "python3"
    },
    "language_info": {
      "codemirror_mode": {
        "name": "ipython",
        "version": 3
      },
      "file_extension": ".py",
      "mimetype": "text/x-python",
      "name": "python",
      "nbconvert_exporter": "python",
      "pygments_lexer": "ipython3",
      "version": "3.9.7"
    }
  },
  "nbformat": 4,
  "nbformat_minor": 0
}
