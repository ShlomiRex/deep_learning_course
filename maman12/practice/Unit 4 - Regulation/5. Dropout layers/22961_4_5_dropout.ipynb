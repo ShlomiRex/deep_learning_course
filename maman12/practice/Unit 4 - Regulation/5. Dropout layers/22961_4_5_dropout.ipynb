{
  "nbformat": 4,
  "nbformat_minor": 0,
  "metadata": {
    "colab": {
      "name": "22961_4_5_Dropout",
      "provenance": [],
      "collapsed_sections": [],
      "authorship_tag": "ABX9TyP3uvk3idkYFjSyME/dcyzD",
      "include_colab_link": true
    },
    "kernelspec": {
      "name": "python3",
      "display_name": "Python 3"
    },
    "language_info": {
      "name": "python"
    }
  },
  "cells": [
    {
      "cell_type": "markdown",
      "metadata": {
        "id": "view-in-github",
        "colab_type": "text"
      },
      "source": [
        "<a href=\"https://colab.research.google.com/gist/22961-Deep-learning/55db2e8ac7261e75bf40635e48871323/22961_4_5_dropout.ipynb\" target=\"_parent\"><img src=\"https://colab.research.google.com/assets/colab-badge.svg\" alt=\"Open In Colab\"/></a>"
      ]
    },
    {
      "cell_type": "code",
      "source": [
        "import torch\n",
        "from torch import nn\n",
        "class Dropout(nn.Module):\n",
        "  def __init__(self,drop_rate=0.5):\n",
        "    super().__init__()\n",
        "    assert(0 < drop_rate < 1)\n",
        "    self.drop_rate = drop_rate\n",
        "  def forward(self,X):\n",
        "    mask = torch.rand(X.shape) > self.drop_rate\n",
        "    return X*mask"
      ],
      "metadata": {
        "id": "7yLe1dL758Pl"
      },
      "execution_count": 1,
      "outputs": []
    },
    {
      "cell_type": "code",
      "source": [
        "model = nn.Sequential(nn.Flatten(),\n",
        "          nn.Linear(784,100),nn.ReLU(),\n",
        "          nn.Linear(100,10),nn.ReLU(),\n",
        "          nn.Linear(10,10),\n",
        "          nn.LogSoftmax(dim=1) \n",
        "          )"
      ],
      "metadata": {
        "id": "35au3MbFIL9z"
      },
      "execution_count": 2,
      "outputs": []
    },
    {
      "cell_type": "code",
      "source": [
        "model = nn.Sequential(nn.Flatten(),\n",
        "          nn.Linear(784,100),nn.ReLU(),\n",
        "          Dropout(),\n",
        "          nn.Linear(100,10),nn.ReLU(),\n",
        "          Dropout(),\n",
        "          nn.Linear(10,10),\n",
        "          nn.LogSoftmax(dim=1) \n",
        "          )"
      ],
      "metadata": {
        "id": "NpeZBvf9L-tk"
      },
      "execution_count": 3,
      "outputs": []
    },
    {
      "cell_type": "code",
      "source": [
        "class Dropout2(nn.Module):\n",
        "  def __init__(self,drop_rate=0.5):\n",
        "    super().__init__()\n",
        "    assert(0 < drop_rate < 1)\n",
        "    self.drop_rate = drop_rate\n",
        "  def forward(self,X):\n",
        "    if self.training:\n",
        "      mask = torch.rand(X.shape) > self.drop_rate\n",
        "      return X*mask\n",
        "    else:\n",
        "      return X"
      ],
      "metadata": {
        "id": "XGDt8j_IPRaJ"
      },
      "execution_count": 4,
      "outputs": []
    },
    {
      "cell_type": "code",
      "source": [
        "class DropoutFinal(nn.Module):\n",
        "  def __init__(self,drop_rate=0.5):\n",
        "    super().__init__()\n",
        "    assert(0 < drop_rate < 1)\n",
        "    self.drop_rate = drop_rate\n",
        "  def forward(self,X):\n",
        "    if self.training:\n",
        "      mask = torch.rand(X.shape) > self.drop_rate\n",
        "      return X*mask\n",
        "    else:\n",
        "      return (1-self.drop_rate)*X"
      ],
      "metadata": {
        "id": "mKyMrLsYQHw_"
      },
      "execution_count": 5,
      "outputs": []
    }
  ]
}