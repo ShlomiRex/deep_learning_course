{
 "cells": [
  {
   "cell_type": "code",
   "execution_count": 22,
   "metadata": {},
   "outputs": [],
   "source": [
    "import torch\n",
    "import matplotlib.pyplot as plt\n",
    "import torch\n",
    "from torch.utils.data import DataLoader\n",
    "import torchvision\n",
    "from torch import nn\n",
    "from tqdm import tqdm\n",
    "from torch.utils.data import random_split"
   ]
  },
  {
   "cell_type": "code",
   "execution_count": 23,
   "metadata": {},
   "outputs": [],
   "source": [
    "class DropNorm(nn.Module):\n",
    "\tdef __init__(self, size_in, size_out):\n",
    "\t\tsuper().__init__()\n",
    "\n",
    "\t\tself.size_in, self.size_out = size_in, size_out\n",
    "\n",
    "\t\tself.weights = nn.Parameter(torch.Tensor(size_out, size_in))  # nn.Parameter is a Tensor that's a module parameter.\n",
    "\t\tself.bias = nn.Parameter(torch.Tensor(size_out))\n",
    "\n",
    "\t\tself.linear1 = nn.Linear(size_in, size_out)\n",
    "\t\tself.activation = nn.ReLU(inplace=True) # inplace = don't use extra memory\n",
    "\n",
    "\t\tself.drop_probability = 0.5  # We can take as argument but this question doesn't requires it.\n",
    "\t\t\n",
    "\t\n",
    "\tdef forward(self, batch):\n",
    "\t\t# First dim = batch size\n",
    "\t\t# Second dim = sample\n",
    "\n",
    "\t\tmu = batch.mean(dim=1) # Mean\n",
    "\t\tsigma = batch.std(dim=1) # Standard deviation\n",
    "\t\tepsilon = .00001 # To avoid division by zero\n",
    "\t\tA = torch.sqrt((sigma ** 2) + epsilon)\n",
    "\n",
    "\t\t# batch: [600, 2049]\n",
    "\t\t# mu: [600]\n",
    "\t\t# We need to substract mu from each dimension of batch.\n",
    "\n",
    "\t\t# (batch[0] - mu[0]) is like: [2049] - [1]\n",
    "\n",
    "\t\t#batch[0] = batch[0] - mu[0]\n",
    "\t\t#batch[1] = batch[1] - mu[1]\n",
    "\t\t# ...\n",
    "\t\tmu = torch.unsqueeze(mu, 1)\n",
    "\t\tB = batch - mu\n",
    "\n",
    "\t\tA = torch.unsqueeze(A, 1)\n",
    "\t\tnew_x = B / A\n",
    "\n",
    "\t\tmask = torch.bernoulli(batch, self.drop_probability)\n",
    "\n",
    "\t\tnew_x = new_x * mask\n",
    "\n",
    "\t\treturn new_x\n"
   ]
  },
  {
   "cell_type": "markdown",
   "metadata": {},
   "source": [
    "# Defining the model"
   ]
  },
  {
   "cell_type": "code",
   "execution_count": 24,
   "metadata": {},
   "outputs": [],
   "source": [
    "model = nn.Sequential(\n",
    "\tnn.Linear(784, 1024),\n",
    "\tnn.ReLU(),\n",
    "\n",
    "\tnn.Linear(1024, 512),\n",
    "\tnn.ReLU(),\n",
    "\n",
    "\tDropNorm(512, 512),\n",
    "\tnn.ReLU(),\n",
    "\n",
    "\tnn.Linear(512, 128),\n",
    "\tnn.ReLU(),\n",
    "\n",
    "\tDropNorm(128, 128),\n",
    "\tnn.ReLU(),\n",
    "\n",
    "\tnn.Linear(128, 10),\n",
    "\tnn.Softmax(dim=1)\n",
    ")"
   ]
  },
  {
   "cell_type": "code",
   "execution_count": 25,
   "metadata": {},
   "outputs": [],
   "source": [
    "BATCH_SIZE = 800\n",
    "EPOCHS = 20\n",
    "LR = 0.000001  # Learning rate, less = more epochs needed and more accuracy, more = less epochs needed but less accuracy\n",
    "WEIGHT_DECAY = 0.001  # Should reduce overfitting"
   ]
  },
  {
   "cell_type": "code",
   "execution_count": 43,
   "metadata": {},
   "outputs": [
    {
     "name": "stdout",
     "output_type": "stream",
     "text": [
      "Using device: cuda\n"
     ]
    },
    {
     "data": {
      "text/plain": [
       "Sequential(\n",
       "  (0): Linear(in_features=784, out_features=1024, bias=True)\n",
       "  (1): ReLU()\n",
       "  (2): Linear(in_features=1024, out_features=512, bias=True)\n",
       "  (3): ReLU()\n",
       "  (4): DropNorm(\n",
       "    (linear1): Linear(in_features=512, out_features=512, bias=True)\n",
       "    (activation): ReLU(inplace=True)\n",
       "  )\n",
       "  (5): ReLU()\n",
       "  (6): Linear(in_features=512, out_features=128, bias=True)\n",
       "  (7): ReLU()\n",
       "  (8): DropNorm(\n",
       "    (linear1): Linear(in_features=128, out_features=128, bias=True)\n",
       "    (activation): ReLU(inplace=True)\n",
       "  )\n",
       "  (9): ReLU()\n",
       "  (10): Linear(in_features=128, out_features=10, bias=True)\n",
       "  (11): Softmax(dim=1)\n",
       ")"
      ]
     },
     "execution_count": 43,
     "metadata": {},
     "output_type": "execute_result"
    }
   ],
   "source": [
    "DEVICE = \"cuda\" if torch.cuda.is_available() else \"cpu\"\n",
    "print(\"Using device: \" + DEVICE)\n",
    "\n",
    "model.cuda()"
   ]
  },
  {
   "cell_type": "code",
   "execution_count": 27,
   "metadata": {},
   "outputs": [
    {
     "name": "stdout",
     "output_type": "stream",
     "text": [
      "Labels:  ['T-shirt/top', 'Trouser', 'Pullover', 'Dress', 'Coat', 'Sandal', 'Shirt', 'Sneaker', 'Bag', 'Ankle boot']\n"
     ]
    }
   ],
   "source": [
    "dataset = torchvision.datasets.FashionMNIST(root=\"~/22961\", train=True, download=True, transform=torchvision.transforms.PILToTensor())\n",
    "\n",
    "train_dataset, test_dataset = random_split(dataset, [45000, 15000])\n",
    "train_dataset, test_dataset = train_dataset.dataset, test_dataset.dataset\n",
    "\n",
    "train_dataloader = DataLoader(train_dataset, batch_size=BATCH_SIZE)\n",
    "test_dataloader = DataLoader(test_dataset, batch_size=BATCH_SIZE)\n",
    "\n",
    "labels = train_dataset.classes\n",
    "\n",
    "print(\"Labels: \", labels)\n",
    "\n",
    "num_batches=len(train_dataloader)"
   ]
  },
  {
   "cell_type": "markdown",
   "metadata": {},
   "source": [
    "# Loss, optimizer"
   ]
  },
  {
   "cell_type": "code",
   "execution_count": 28,
   "metadata": {},
   "outputs": [],
   "source": [
    "loss_func=torch.nn.NLLLoss()\n",
    "optimizer = torch.optim.Adam(model.parameters(), lr=LR, weight_decay=WEIGHT_DECAY)"
   ]
  },
  {
   "cell_type": "code",
   "execution_count": 29,
   "metadata": {},
   "outputs": [
    {
     "data": {
      "text/plain": [
       "True"
      ]
     },
     "execution_count": 29,
     "metadata": {},
     "output_type": "execute_result"
    }
   ],
   "source": [
    "next(model.parameters()).is_cuda # returns a boolean"
   ]
  },
  {
   "cell_type": "code",
   "execution_count": 30,
   "metadata": {},
   "outputs": [],
   "source": [
    "def iterate_batch():\n",
    "\timgs, labels = next(iter(train_dataloader))\n",
    "\tlabels = labels.cuda() # GPU\n",
    "\n",
    "\timgs = imgs.flatten(start_dim=1)\n",
    "\timgs = imgs.float().cuda() # GPU\n",
    "\n",
    "\toptimizer.zero_grad()\n",
    "\ty_model=model(imgs)\n",
    "\n",
    "\tloss=loss_func(y_model,labels)\n",
    "\tloss.backward()\n",
    "\toptimizer.step()\n",
    "\n",
    "\tpredicted_labels = y_model.argmax(dim=1)\n",
    "\tacc = (predicted_labels == labels).sum()/len(labels)\n",
    "\treturn loss.detach(), acc.detach()"
   ]
  },
  {
   "cell_type": "code",
   "execution_count": 31,
   "metadata": {},
   "outputs": [],
   "source": [
    "def iterate_epoch():\n",
    "\trunning_loss=0.\n",
    "\trunning_acc=0.\n",
    "\tfor _ in range(num_batches):\n",
    "\t\tbatch_loss, batch_acc = iterate_batch()\n",
    "\t\trunning_loss += batch_loss\n",
    "\t\trunning_acc +=  batch_acc\n",
    "\tloss=running_loss/num_batches\n",
    "\tacc=running_acc/num_batches\n",
    "\treturn loss, acc"
   ]
  },
  {
   "cell_type": "code",
   "execution_count": 32,
   "metadata": {},
   "outputs": [],
   "source": [
    "def eval_model_test():\n",
    "\tloss=0.\n",
    "\tacc=0.\n",
    "\tfor imgs, labels in test_dataloader:\n",
    "\t\timgs = imgs.flatten(start_dim=1)\n",
    "\t\timgs = imgs.float().cuda() # GPU\n",
    "\t\tlabels = labels.cuda()\n",
    "\t\twith torch.no_grad():\n",
    "\t\t\ty_model=model(imgs)\n",
    "\t\t\tloss += loss_func(y_model,labels)\n",
    "\t\t\tpredicted_labels = y_model.argmax(dim=1)\n",
    "\t\t\tacc += (predicted_labels == labels).sum()/len(labels)\n",
    "\treturn loss/num_batches, acc/num_batches"
   ]
  },
  {
   "cell_type": "markdown",
   "metadata": {},
   "source": [
    "# Train and test the model"
   ]
  },
  {
   "cell_type": "code",
   "execution_count": 33,
   "metadata": {},
   "outputs": [
    {
     "name": "stderr",
     "output_type": "stream",
     "text": [
      "100%|██████████| 20/20 [02:36<00:00,  7.81s/it]\n"
     ]
    }
   ],
   "source": [
    "loss_train=torch.zeros(EPOCHS)\n",
    "acc_train=torch.zeros(EPOCHS)\n",
    "loss_test=torch.zeros(EPOCHS)\n",
    "acc_test=torch.zeros(EPOCHS)\n",
    "\n",
    "model[0].reset_parameters()\n",
    "for epoch_idx in tqdm(range(EPOCHS)):\n",
    "\tloss_train[epoch_idx], acc_train[epoch_idx] = iterate_epoch()\n",
    "\tloss_test[epoch_idx], acc_test[epoch_idx] = eval_model_test()"
   ]
  },
  {
   "cell_type": "code",
   "execution_count": 34,
   "metadata": {},
   "outputs": [
    {
     "data": {
      "text/plain": [
       "Text(0.5, 0, 'Epoch Number')"
      ]
     },
     "execution_count": 34,
     "metadata": {},
     "output_type": "execute_result"
    },
    {
     "data": {
      "image/png": "[encoded data removed]",
      "text/plain": [
       "<Figure size 864x288 with 2 Axes>"
      ]
     },
     "metadata": {
      "needs_background": "light"
     },
     "output_type": "display_data"
    }
   ],
   "source": [
    "plt.figure(figsize=(12,4))\n",
    "plt.subplot(1,2,1)\n",
    "plt.plot(range(1,EPOCHS+1),loss_train,label=\"Train Loss\")\n",
    "plt.plot(range(1,EPOCHS+1),loss_test,label=\"Test Loss\")\n",
    "plt.title(\"CE loss\")\n",
    "plt.legend()\n",
    "plt.xlabel(\"Epoch Number\")\n",
    "plt.subplot(1,2,2)\n",
    "plt.plot(range(1,EPOCHS+1),acc_train,label=\"Train Acc\")\n",
    "plt.plot(range(1,EPOCHS+1),acc_test,label=\"Test Acc\")\n",
    "plt.title(\"Accuracy\")\n",
    "plt.legend()\n",
    "plt.xlabel(\"Epoch Number\")"
   ]
  },
  {
   "cell_type": "code",
   "execution_count": 35,
   "metadata": {},
   "outputs": [
    {
     "name": "stdout",
     "output_type": "stream",
     "text": [
      "Test accuracy:  tensor(0.5726)\n"
     ]
    }
   ],
   "source": [
    "print(\"Test accuracy: \", acc_test[-1])"
   ]
  },
  {
   "cell_type": "markdown",
   "metadata": {},
   "source": [
    "# Compared to built in dropout"
   ]
  },
  {
   "cell_type": "code",
   "execution_count": 36,
   "metadata": {},
   "outputs": [],
   "source": [
    "pytorch_model = nn.Sequential(\n",
    "\tnn.Linear(784, 1024),\n",
    "\tnn.ReLU(),\n",
    "\n",
    "\tnn.Linear(1024, 512),\n",
    "\tnn.ReLU(),\n",
    "\n",
    "\t#DropNorm(512, 512),\n",
    "\tnn.Dropout(p=0.5),\n",
    "\tnn.ReLU(),\n",
    "\n",
    "\tnn.Linear(512, 128),\n",
    "\tnn.ReLU(),\n",
    "\n",
    "\tDropNorm(128, 128),\n",
    "\tnn.ReLU(),\n",
    "\n",
    "\tnn.Linear(128, 10),\n",
    "\tnn.Softmax(dim=1)\n",
    ")"
   ]
  },
  {
   "cell_type": "code",
   "execution_count": 37,
   "metadata": {},
   "outputs": [],
   "source": [
    "def pytorch_iterate_batch():\n",
    "\timgs, labels = next(iter(train_dataloader))\n",
    "\timgs = imgs.flatten(start_dim=1)\n",
    "\n",
    "\toptimizer.zero_grad()\n",
    "\ty_model=pytorch_model(imgs.float())\n",
    "\n",
    "\tloss=loss_func(y_model,labels)\n",
    "\tloss.backward()\n",
    "\toptimizer.step()\n",
    "\n",
    "\tpredicted_labels = y_model.argmax(dim=1)\n",
    "\tacc = (predicted_labels == labels).sum()/len(labels)\n",
    "\treturn loss.detach(), acc.detach()"
   ]
  },
  {
   "cell_type": "code",
   "execution_count": 38,
   "metadata": {},
   "outputs": [],
   "source": [
    "def pytorch_iterate_epoch():\n",
    "\trunning_loss=0.\n",
    "\trunning_acc=0.\n",
    "\tfor _ in range(num_batches):\n",
    "\t\tbatch_loss, batch_acc = pytorch_iterate_batch()\n",
    "\t\trunning_loss += batch_loss\n",
    "\t\trunning_acc +=  batch_acc\n",
    "\tloss=running_loss/num_batches\n",
    "\tacc=running_acc/num_batches\n",
    "\treturn loss, acc"
   ]
  },
  {
   "cell_type": "code",
   "execution_count": 39,
   "metadata": {},
   "outputs": [],
   "source": [
    "def pytorch_eval_model_test():\n",
    "  loss=0.\n",
    "  acc=0.\n",
    "  for imgs, labels in test_dataloader:\n",
    "    imgs = imgs.flatten(start_dim=1)\n",
    "    with torch.no_grad():\n",
    "      y_model=pytorch_model(imgs.float())\n",
    "      loss += loss_func(y_model,labels)\n",
    "      predicted_labels = y_model.argmax(dim=1)\n",
    "      acc += (predicted_labels == labels).sum()/len(labels)\n",
    "  return loss/num_batches, acc/num_batches"
   ]
  },
  {
   "cell_type": "code",
   "execution_count": 40,
   "metadata": {},
   "outputs": [
    {
     "name": "stderr",
     "output_type": "stream",
     "text": [
      "100%|██████████| 20/20 [05:39<00:00, 17.00s/it]\n"
     ]
    }
   ],
   "source": [
    "pytorch_loss_train=torch.zeros(EPOCHS)\n",
    "pytorch_acc_train=torch.zeros(EPOCHS)\n",
    "pytorch_loss_test=torch.zeros(EPOCHS)\n",
    "pytorch_acc_test=torch.zeros(EPOCHS)\n",
    "\n",
    "pytorch_model[0].reset_parameters()\n",
    "for epoch_idx in tqdm(range(EPOCHS)):\n",
    "\tpytorch_loss_train[epoch_idx], pytorch_acc_train[epoch_idx] = pytorch_iterate_epoch()\n",
    "\tpytorch_loss_test[epoch_idx], pytorch_acc_test[epoch_idx] = pytorch_eval_model_test()"
   ]
  },
  {
   "cell_type": "code",
   "execution_count": 41,
   "metadata": {},
   "outputs": [
    {
     "data": {
      "text/plain": [
       "Text(0.5, 0, 'Epoch Number')"
      ]
     },
     "execution_count": 41,
     "metadata": {},
     "output_type": "execute_result"
    },
    {
     "data": {
      "image/png": "[encoded data removed]",
      "text/plain": [
       "<Figure size 864x288 with 2 Axes>"
      ]
     },
     "metadata": {
      "needs_background": "light"
     },
     "output_type": "display_data"
    }
   ],
   "source": [
    "plt.figure(figsize=(12,4))\n",
    "plt.subplot(1,2,1)\n",
    "plt.plot(range(1,EPOCHS+1),pytorch_loss_train,label=\"Train Loss\")\n",
    "plt.plot(range(1,EPOCHS+1),pytorch_loss_test,label=\"Test Loss\")\n",
    "plt.title(\"Pytorch loss\")\n",
    "plt.legend()\n",
    "plt.xlabel(\"Epoch Number\")\n",
    "plt.subplot(1,2,2)\n",
    "plt.plot(range(1,EPOCHS+1),pytorch_acc_train,label=\"Train Acc\")\n",
    "plt.plot(range(1,EPOCHS+1),pytorch_acc_test,label=\"Test Acc\")\n",
    "plt.title(\"Pytorch accuracy\")\n",
    "plt.legend()\n",
    "plt.xlabel(\"Epoch Number\")"
   ]
  },
  {
   "cell_type": "code",
   "execution_count": 42,
   "metadata": {},
   "outputs": [
    {
     "name": "stdout",
     "output_type": "stream",
     "text": [
      "Test accuracy:  tensor(0.1061)\n"
     ]
    }
   ],
   "source": [
    "print(\"Test accuracy: \", pytorch_acc_test[-1])"
   ]
  }
 ],
 "metadata": {
  "interpreter": {
   "hash": "15048e23eb58eade66c74c7a87fa0eb664674088afe506f1ed9c8002c2bf4c97"
  },
  "kernelspec": {
   "display_name": "Python 3.10.2 64-bit",
   "language": "python",
   "name": "python3"
  },
  "language_info": {
   "codemirror_mode": {
    "name": "ipython",
    "version": 3
   },
   "file_extension": ".py",
   "mimetype": "text/x-python",
   "name": "python",
   "nbconvert_exporter": "python",
   "pygments_lexer": "ipython3",
   "version": "3.10.2"
  },
  "orig_nbformat": 4
 },
 "nbformat": 4,
 "nbformat_minor": 2
}
