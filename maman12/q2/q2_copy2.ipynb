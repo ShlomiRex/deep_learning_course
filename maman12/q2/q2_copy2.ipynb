{
 "cells": [
  {
   "cell_type": "code",
   "execution_count": 72,
   "metadata": {},
   "outputs": [],
   "source": [
    "import torch\n",
    "import sklearn.datasets as skds\n",
    "import matplotlib.pyplot as plt\n",
    "import torch\n",
    "from torch.utils.data import DataLoader\n",
    "import torchvision\n",
    "from torch import nn\n",
    "import numpy\n",
    "import pandas\n",
    "from typing import Optional\n",
    "from tqdm import tqdm\n",
    "from torch.utils.data import random_split"
   ]
  },
  {
   "cell_type": "code",
   "execution_count": 73,
   "metadata": {},
   "outputs": [],
   "source": [
    "class DropNorm(nn.Module):\n",
    "\tdef __init__(self, size_in, size_out):\n",
    "\t\tsuper().__init__()\n",
    "\n",
    "\t\tself.size_in, self.size_out = size_in, size_out\n",
    "\n",
    "\t\tself.weights = nn.Parameter(torch.Tensor(size_out, size_in))  # nn.Parameter is a Tensor that's a module parameter.\n",
    "\t\tself.bias = nn.Parameter(torch.Tensor(size_out))\n",
    "\n",
    "\t\tself.linear1 = nn.Linear(size_in, size_out)\n",
    "\t\tself.activation = nn.ReLU(inplace=True) # inplace = don't use extra memory\n",
    "\n",
    "\t\tself.drop_probability = 0.5  # We can take as argument but this question doesn't requires it.\n",
    "\t\t\n",
    "\t\n",
    "\tdef forward(self, batch):\n",
    "\t\t# First dim = batch size\n",
    "\t\t# Second dim = sample\n",
    "\n",
    "\t\tmu = batch.mean(dim=1) # Mean\n",
    "\t\tsigma = batch.std(dim=1) # Standard deviation\n",
    "\t\tepsilon = .00001 # To avoid division by zero\n",
    "\t\tA = torch.sqrt((sigma ** 2) + epsilon)\n",
    "\n",
    "\t\t# batch: [600, 2049]\n",
    "\t\t# mu: [600]\n",
    "\t\t# We need to substract mu from each dimension of batch.\n",
    "\n",
    "\t\t# (batch[0] - mu[0]) is like: [2049] - [1]\n",
    "\n",
    "\t\t#batch[0] = batch[0] - mu[0]\n",
    "\t\t#batch[1] = batch[1] - mu[1]\n",
    "\t\t# ...\n",
    "\t\tmu = torch.unsqueeze(mu, 1)\n",
    "\t\tB = batch - mu\n",
    "\n",
    "\t\tA = torch.unsqueeze(A, 1)\n",
    "\t\tnew_x = B / A\n",
    "\n",
    "\t\treturn new_x\n"
   ]
  },
  {
   "cell_type": "markdown",
   "metadata": {},
   "source": [
    "# Defining the model"
   ]
  },
  {
   "cell_type": "code",
   "execution_count": 74,
   "metadata": {},
   "outputs": [],
   "source": [
    "model = nn.Sequential(\n",
    "\tnn.Linear(784, 256),\n",
    "\tnn.ReLU(),\n",
    "\n",
    "\tnn.Linear(256, 256),\n",
    "\tnn.ReLU(),\n",
    "\n",
    "\tDropNorm(256, 256),\n",
    "\tnn.ReLU(),\n",
    "\n",
    "\tnn.Linear(256, 256),\n",
    "\tnn.ReLU(),\n",
    "\n",
    "\tnn.Linear(256, 10),\n",
    "\tnn.Softmax(dim=1)\n",
    ")"
   ]
  },
  {
   "cell_type": "code",
   "execution_count": 75,
   "metadata": {},
   "outputs": [],
   "source": [
    "BATCH_SIZE = 300\n",
    "EPOCHS = 5\n",
    "LR = 0.00001  # Learning rate\n",
    "WEIGHT_DECAY = 0.00001  # Should reduce overfitting"
   ]
  },
  {
   "cell_type": "code",
   "execution_count": 76,
   "metadata": {},
   "outputs": [
    {
     "name": "stdout",
     "output_type": "stream",
     "text": [
      "Using device: cpu\n"
     ]
    }
   ],
   "source": [
    "DEVICE = \"cuda\" if torch.cuda.is_available() else \"cpu\"\n",
    "print(\"Using device: \" + DEVICE)"
   ]
  },
  {
   "cell_type": "code",
   "execution_count": 77,
   "metadata": {},
   "outputs": [
    {
     "name": "stdout",
     "output_type": "stream",
     "text": [
      "Labels:  ['T-shirt/top', 'Trouser', 'Pullover', 'Dress', 'Coat', 'Sandal', 'Shirt', 'Sneaker', 'Bag', 'Ankle boot']\n"
     ]
    }
   ],
   "source": [
    "\n",
    "dataset = torchvision.datasets.FashionMNIST(root=\"~/22961\", train=True, download=True, transform=torchvision.transforms.PILToTensor())\n",
    "\n",
    "train_dataset, test_dataset = random_split(dataset, [40000, 20000])\n",
    "train_dataset, test_dataset = train_dataset.dataset, test_dataset.dataset\n",
    "\n",
    "train_dataloader = DataLoader(train_dataset, batch_size=BATCH_SIZE)\n",
    "test_dataloader = DataLoader(test_dataset, batch_size=BATCH_SIZE)\n",
    "\n",
    "labels = train_dataset.classes\n",
    "\n",
    "print(\"Labels: \", labels)\n",
    "\n",
    "num_batches=len(train_dataloader)"
   ]
  },
  {
   "cell_type": "markdown",
   "metadata": {},
   "source": [
    "# Loss, optimizer"
   ]
  },
  {
   "cell_type": "code",
   "execution_count": 78,
   "metadata": {},
   "outputs": [],
   "source": [
    "loss_func=torch.nn.NLLLoss()\n",
    "optimizer = torch.optim.Adam(model.parameters(), lr=LR, weight_decay=WEIGHT_DECAY)"
   ]
  },
  {
   "cell_type": "code",
   "execution_count": 79,
   "metadata": {},
   "outputs": [],
   "source": [
    "def iterate_batch():\n",
    "\timgs, labels = next(iter(train_dataloader))\n",
    "\timgs = imgs.flatten(start_dim=1)\n",
    "\n",
    "\toptimizer.zero_grad()\n",
    "\ty_model=model(imgs.float())\n",
    "\n",
    "\tloss=loss_func(y_model,labels)\n",
    "\tloss.backward()\n",
    "\toptimizer.step()\n",
    "\n",
    "\tpredicted_labels = y_model.argmax(dim=1)\n",
    "\tacc = (predicted_labels == labels).sum()/len(labels)\n",
    "\treturn loss.detach(), acc.detach()"
   ]
  },
  {
   "cell_type": "code",
   "execution_count": 80,
   "metadata": {},
   "outputs": [],
   "source": [
    "def iterate_epoch():\n",
    "\trunning_loss=0.\n",
    "\trunning_acc=0.\n",
    "\tfor _ in range(num_batches):\n",
    "\t\tbatch_loss, batch_acc = iterate_batch()\n",
    "\t\trunning_loss += batch_loss\n",
    "\t\trunning_acc +=  batch_acc\n",
    "\tloss=running_loss/num_batches\n",
    "\tacc=running_acc/num_batches\n",
    "\treturn loss, acc"
   ]
  },
  {
   "cell_type": "code",
   "execution_count": 81,
   "metadata": {},
   "outputs": [],
   "source": [
    "def eval_model_test():\n",
    "  loss=0.\n",
    "  acc=0.\n",
    "  for imgs, labels in test_dataloader:\n",
    "    imgs = imgs.flatten(start_dim=1)\n",
    "    with torch.no_grad():\n",
    "      y_model=model(imgs.float())\n",
    "      loss += loss_func(y_model,labels)\n",
    "      predicted_labels = y_model.argmax(dim=1)\n",
    "      acc += (predicted_labels == labels).sum()/len(labels)\n",
    "  return loss/num_batches, acc/num_batches"
   ]
  },
  {
   "cell_type": "markdown",
   "metadata": {},
   "source": [
    "# Train and test the model"
   ]
  },
  {
   "cell_type": "code",
   "execution_count": 82,
   "metadata": {},
   "outputs": [
    {
     "name": "stderr",
     "output_type": "stream",
     "text": [
      "100%|██████████| 5/5 [01:44<00:00, 20.81s/it]\n"
     ]
    }
   ],
   "source": [
    "loss_train=torch.zeros(EPOCHS)\n",
    "acc_train=torch.zeros(EPOCHS)\n",
    "loss_test=torch.zeros(EPOCHS)\n",
    "acc_test=torch.zeros(EPOCHS)\n",
    "\n",
    "model[0].reset_parameters()\n",
    "for epoch_idx in tqdm(range(EPOCHS)):\n",
    "\tloss_train[epoch_idx], acc_train[epoch_idx] = iterate_epoch()\n",
    "\tloss_test[epoch_idx], acc_test[epoch_idx] = eval_model_test()"
   ]
  },
  {
   "cell_type": "code",
   "execution_count": 83,
   "metadata": {},
   "outputs": [
    {
     "data": {
      "text/plain": [
       "Text(0.5, 0, 'Epoch Number')"
      ]
     },
     "execution_count": 83,
     "metadata": {},
     "output_type": "execute_result"
    },
    {
     "data": {
      "image/png": "[encoded data removed]",
      "text/plain": [
       "<Figure size 864x288 with 2 Axes>"
      ]
     },
     "metadata": {
      "needs_background": "light"
     },
     "output_type": "display_data"
    }
   ],
   "source": [
    "plt.figure(figsize=(12,4))\n",
    "plt.subplot(1,2,1)\n",
    "plt.plot(range(1,EPOCHS+1),loss_train,label=\"Train Loss\")\n",
    "plt.plot(range(1,EPOCHS+1),loss_test,label=\"Test Loss\")\n",
    "plt.title(\"CE loss\")\n",
    "plt.legend()\n",
    "plt.xlabel(\"Epoch Number\")\n",
    "plt.subplot(1,2,2)\n",
    "plt.plot(range(1,EPOCHS+1),acc_train,label=\"Train Acc\")\n",
    "plt.plot(range(1,EPOCHS+1),acc_test,label=\"Test Acc\")\n",
    "plt.title(\"Accuracy\")\n",
    "plt.legend()\n",
    "plt.xlabel(\"Epoch Number\")"
   ]
  },
  {
   "cell_type": "code",
   "execution_count": 84,
   "metadata": {},
   "outputs": [
    {
     "name": "stdout",
     "output_type": "stream",
     "text": [
      "Test accuracy:  tensor(0.7877)\n"
     ]
    }
   ],
   "source": [
    "print(\"Test accuracy: \", acc_test[-1])"
   ]
  }
 ],
 "metadata": {
  "interpreter": {
   "hash": "aee8b7b246df8f9039afb4144a1f6fd8d2ca17a180786b69acc140d282b71a49"
  },
  "kernelspec": {
   "display_name": "Python 3.9.4 64-bit",
   "language": "python",
   "name": "python3"
  },
  "language_info": {
   "codemirror_mode": {
    "name": "ipython",
    "version": 3
   },
   "file_extension": ".py",
   "mimetype": "text/x-python",
   "name": "python",
   "nbconvert_exporter": "python",
   "pygments_lexer": "ipython3",
   "version": "3.9.4"
  },
  "orig_nbformat": 4
 },
 "nbformat": 4,
 "nbformat_minor": 2
}
