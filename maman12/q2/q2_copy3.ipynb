{
 "cells": [
  {
   "cell_type": "code",
   "execution_count": 53,
   "metadata": {},
   "outputs": [],
   "source": [
    "import torch\n",
    "import matplotlib.pyplot as plt\n",
    "import torch\n",
    "from torch.utils.data import DataLoader\n",
    "import torchvision\n",
    "from torch import nn\n",
    "from tqdm import tqdm\n",
    "from torch.utils.data import random_split"
   ]
  },
  {
   "cell_type": "code",
   "execution_count": 54,
   "metadata": {},
   "outputs": [],
   "source": [
    "class DropNorm(nn.Module):\n",
    "\tdef __init__(self, size_in, size_out):\n",
    "\t\tsuper().__init__()\n",
    "\n",
    "\t\tself.size_in, self.size_out = size_in, size_out\n",
    "\n",
    "\t\tself.weights = nn.Parameter(torch.Tensor(size_out, size_in))  # nn.Parameter is a Tensor that's a module parameter.\n",
    "\t\tself.bias = nn.Parameter(torch.Tensor(size_out))\n",
    "\n",
    "\t\tself.linear1 = nn.Linear(size_in, size_out)\n",
    "\t\tself.activation = nn.ReLU(inplace=True) # inplace = don't use extra memory\n",
    "\n",
    "\t\tself.drop_probability = 0.5  # We can take as argument but this question doesn't requires it.\n",
    "\t\t\n",
    "\t\n",
    "\tdef forward(self, batch):\n",
    "\t\t# First dim = batch size\n",
    "\t\t# Second dim = sample\n",
    "\n",
    "\t\tmu = batch.mean(dim=1) # Mean\n",
    "\t\tsigma = batch.std(dim=1) # Standard deviation\n",
    "\t\tepsilon = .00001 # To avoid division by zero\n",
    "\t\tA = torch.sqrt((sigma ** 2) + epsilon)\n",
    "\n",
    "\t\t# batch: [600, 2049]\n",
    "\t\t# mu: [600]\n",
    "\t\t# We need to substract mu from each dimension of batch.\n",
    "\n",
    "\t\t# (batch[0] - mu[0]) is like: [2049] - [1]\n",
    "\n",
    "\t\t#batch[0] = batch[0] - mu[0]\n",
    "\t\t#batch[1] = batch[1] - mu[1]\n",
    "\t\t# ...\n",
    "\t\tmu = torch.unsqueeze(mu, 1)\n",
    "\t\tB = batch - mu\n",
    "\n",
    "\t\tA = torch.unsqueeze(A, 1)\n",
    "\t\tnew_x = B / A\n",
    "\n",
    "\t\treturn new_x\n"
   ]
  },
  {
   "cell_type": "markdown",
   "metadata": {},
   "source": [
    "# Defining the model"
   ]
  },
  {
   "cell_type": "code",
   "execution_count": 55,
   "metadata": {},
   "outputs": [],
   "source": [
    "model = nn.Sequential(\n",
    "\tnn.Linear(784, 1024),\n",
    "\tnn.ReLU(),\n",
    "\n",
    "\tnn.Linear(1024, 512),\n",
    "\tnn.ReLU(),\n",
    "\n",
    "\tDropNorm(512, 512),\n",
    "\tnn.ReLU(),\n",
    "\n",
    "\tnn.Linear(512, 128),\n",
    "\tnn.ReLU(),\n",
    "\n",
    "\tDropNorm(128, 128),\n",
    "\tnn.ReLU(),\n",
    "\n",
    "\tnn.Linear(128, 10),\n",
    "\tnn.Softmax(dim=1)\n",
    ")"
   ]
  },
  {
   "cell_type": "code",
   "execution_count": 56,
   "metadata": {},
   "outputs": [],
   "source": [
    "BATCH_SIZE = 800\n",
    "EPOCHS = 35\n",
    "LR = 0.000001  # Learning rate, less = more epochs needed and more accuracy, more = less epochs needed but less accuracy\n",
    "WEIGHT_DECAY = 0.001  # Should reduce overfitting"
   ]
  },
  {
   "cell_type": "code",
   "execution_count": 57,
   "metadata": {},
   "outputs": [
    {
     "name": "stdout",
     "output_type": "stream",
     "text": [
      "Using device: cpu\n"
     ]
    }
   ],
   "source": [
    "DEVICE = \"cuda\" if torch.cuda.is_available() else \"cpu\"\n",
    "print(\"Using device: \" + DEVICE)"
   ]
  },
  {
   "cell_type": "code",
   "execution_count": 58,
   "metadata": {},
   "outputs": [
    {
     "name": "stdout",
     "output_type": "stream",
     "text": [
      "Labels:  ['T-shirt/top', 'Trouser', 'Pullover', 'Dress', 'Coat', 'Sandal', 'Shirt', 'Sneaker', 'Bag', 'Ankle boot']\n"
     ]
    }
   ],
   "source": [
    "\n",
    "dataset = torchvision.datasets.FashionMNIST(root=\"~/22961\", train=True, download=True, transform=torchvision.transforms.PILToTensor())\n",
    "\n",
    "train_dataset, test_dataset = random_split(dataset, [45000, 15000])\n",
    "train_dataset, test_dataset = train_dataset.dataset, test_dataset.dataset\n",
    "\n",
    "train_dataloader = DataLoader(train_dataset, batch_size=BATCH_SIZE)\n",
    "test_dataloader = DataLoader(test_dataset, batch_size=BATCH_SIZE)\n",
    "\n",
    "labels = train_dataset.classes\n",
    "\n",
    "print(\"Labels: \", labels)\n",
    "\n",
    "num_batches=len(train_dataloader)"
   ]
  },
  {
   "cell_type": "markdown",
   "metadata": {},
   "source": [
    "# Loss, optimizer"
   ]
  },
  {
   "cell_type": "code",
   "execution_count": 59,
   "metadata": {},
   "outputs": [],
   "source": [
    "loss_func=torch.nn.NLLLoss()\n",
    "optimizer = torch.optim.Adam(model.parameters(), lr=LR, weight_decay=WEIGHT_DECAY)"
   ]
  },
  {
   "cell_type": "code",
   "execution_count": 60,
   "metadata": {},
   "outputs": [],
   "source": [
    "def iterate_batch():\n",
    "\timgs, labels = next(iter(train_dataloader))\n",
    "\timgs = imgs.flatten(start_dim=1)\n",
    "\n",
    "\toptimizer.zero_grad()\n",
    "\ty_model=model(imgs.float())\n",
    "\n",
    "\tloss=loss_func(y_model,labels)\n",
    "\tloss.backward()\n",
    "\toptimizer.step()\n",
    "\n",
    "\tpredicted_labels = y_model.argmax(dim=1)\n",
    "\tacc = (predicted_labels == labels).sum()/len(labels)\n",
    "\treturn loss.detach(), acc.detach()"
   ]
  },
  {
   "cell_type": "code",
   "execution_count": 61,
   "metadata": {},
   "outputs": [],
   "source": [
    "def iterate_epoch():\n",
    "\trunning_loss=0.\n",
    "\trunning_acc=0.\n",
    "\tfor _ in range(num_batches):\n",
    "\t\tbatch_loss, batch_acc = iterate_batch()\n",
    "\t\trunning_loss += batch_loss\n",
    "\t\trunning_acc +=  batch_acc\n",
    "\tloss=running_loss/num_batches\n",
    "\tacc=running_acc/num_batches\n",
    "\treturn loss, acc"
   ]
  },
  {
   "cell_type": "code",
   "execution_count": 62,
   "metadata": {},
   "outputs": [],
   "source": [
    "def eval_model_test():\n",
    "  loss=0.\n",
    "  acc=0.\n",
    "  for imgs, labels in test_dataloader:\n",
    "    imgs = imgs.flatten(start_dim=1)\n",
    "    with torch.no_grad():\n",
    "      y_model=model(imgs.float())\n",
    "      loss += loss_func(y_model,labels)\n",
    "      predicted_labels = y_model.argmax(dim=1)\n",
    "      acc += (predicted_labels == labels).sum()/len(labels)\n",
    "  return loss/num_batches, acc/num_batches"
   ]
  },
  {
   "cell_type": "markdown",
   "metadata": {},
   "source": [
    "# Train and test the model"
   ]
  },
  {
   "cell_type": "code",
   "execution_count": 63,
   "metadata": {},
   "outputs": [
    {
     "name": "stderr",
     "output_type": "stream",
     "text": [
      "100%|██████████| 35/35 [17:48<00:00, 30.53s/it]\n"
     ]
    }
   ],
   "source": [
    "loss_train=torch.zeros(EPOCHS)\n",
    "acc_train=torch.zeros(EPOCHS)\n",
    "loss_test=torch.zeros(EPOCHS)\n",
    "acc_test=torch.zeros(EPOCHS)\n",
    "\n",
    "model[0].reset_parameters()\n",
    "for epoch_idx in tqdm(range(EPOCHS)):\n",
    "\tloss_train[epoch_idx], acc_train[epoch_idx] = iterate_epoch()\n",
    "\tloss_test[epoch_idx], acc_test[epoch_idx] = eval_model_test()"
   ]
  },
  {
   "cell_type": "code",
   "execution_count": 64,
   "metadata": {},
   "outputs": [
    {
     "data": {
      "text/plain": [
       "Text(0.5, 0, 'Epoch Number')"
      ]
     },
     "execution_count": 64,
     "metadata": {},
     "output_type": "execute_result"
    },
    {
     "data": {
      "image/png": "[encoded data removed]",
      "text/plain": [
       "<Figure size 864x288 with 2 Axes>"
      ]
     },
     "metadata": {
      "needs_background": "light"
     },
     "output_type": "display_data"
    }
   ],
   "source": [
    "plt.figure(figsize=(12,4))\n",
    "plt.subplot(1,2,1)\n",
    "plt.plot(range(1,EPOCHS+1),loss_train,label=\"Train Loss\")\n",
    "plt.plot(range(1,EPOCHS+1),loss_test,label=\"Test Loss\")\n",
    "plt.title(\"CE loss\")\n",
    "plt.legend()\n",
    "plt.xlabel(\"Epoch Number\")\n",
    "plt.subplot(1,2,2)\n",
    "plt.plot(range(1,EPOCHS+1),acc_train,label=\"Train Acc\")\n",
    "plt.plot(range(1,EPOCHS+1),acc_test,label=\"Test Acc\")\n",
    "plt.title(\"Accuracy\")\n",
    "plt.legend()\n",
    "plt.xlabel(\"Epoch Number\")"
   ]
  },
  {
   "cell_type": "code",
   "execution_count": 65,
   "metadata": {},
   "outputs": [
    {
     "name": "stdout",
     "output_type": "stream",
     "text": [
      "Test accuracy:  tensor(0.7953)\n"
     ]
    }
   ],
   "source": [
    "print(\"Test accuracy: \", acc_test[-1])"
   ]
  },
  {
   "cell_type": "markdown",
   "metadata": {},
   "source": [
    "# Compared to built in dropout"
   ]
  },
  {
   "cell_type": "code",
   "execution_count": 72,
   "metadata": {},
   "outputs": [],
   "source": [
    "pytorch_model = nn.Sequential(\n",
    "\tnn.Linear(784, 1024),\n",
    "\tnn.ReLU(),\n",
    "\n",
    "\tnn.Linear(1024, 512),\n",
    "\tnn.ReLU(),\n",
    "\n",
    "\t#DropNorm(512, 512),\n",
    "\tnn.Dropout(p=0.5),\n",
    "\tnn.ReLU(),\n",
    "\n",
    "\tnn.Linear(512, 128),\n",
    "\tnn.ReLU(),\n",
    "\n",
    "\tDropNorm(128, 128),\n",
    "\tnn.ReLU(),\n",
    "\n",
    "\tnn.Linear(128, 10),\n",
    "\tnn.Softmax(dim=1)\n",
    ")"
   ]
  },
  {
   "cell_type": "code",
   "execution_count": 73,
   "metadata": {},
   "outputs": [],
   "source": [
    "def pytorch_iterate_batch():\n",
    "\timgs, labels = next(iter(train_dataloader))\n",
    "\timgs = imgs.flatten(start_dim=1)\n",
    "\n",
    "\toptimizer.zero_grad()\n",
    "\ty_model=pytorch_model(imgs.float())\n",
    "\n",
    "\tloss=loss_func(y_model,labels)\n",
    "\tloss.backward()\n",
    "\toptimizer.step()\n",
    "\n",
    "\tpredicted_labels = y_model.argmax(dim=1)\n",
    "\tacc = (predicted_labels == labels).sum()/len(labels)\n",
    "\treturn loss.detach(), acc.detach()"
   ]
  },
  {
   "cell_type": "code",
   "execution_count": 74,
   "metadata": {},
   "outputs": [],
   "source": [
    "def pytorch_iterate_epoch():\n",
    "\trunning_loss=0.\n",
    "\trunning_acc=0.\n",
    "\tfor _ in range(num_batches):\n",
    "\t\tbatch_loss, batch_acc = pytorch_iterate_batch()\n",
    "\t\trunning_loss += batch_loss\n",
    "\t\trunning_acc +=  batch_acc\n",
    "\tloss=running_loss/num_batches\n",
    "\tacc=running_acc/num_batches\n",
    "\treturn loss, acc"
   ]
  },
  {
   "cell_type": "code",
   "execution_count": 75,
   "metadata": {},
   "outputs": [],
   "source": [
    "def pytorch_eval_model_test():\n",
    "  loss=0.\n",
    "  acc=0.\n",
    "  for imgs, labels in test_dataloader:\n",
    "    imgs = imgs.flatten(start_dim=1)\n",
    "    with torch.no_grad():\n",
    "      y_model=pytorch_model(imgs.float())\n",
    "      loss += loss_func(y_model,labels)\n",
    "      predicted_labels = y_model.argmax(dim=1)\n",
    "      acc += (predicted_labels == labels).sum()/len(labels)\n",
    "  return loss/num_batches, acc/num_batches"
   ]
  },
  {
   "cell_type": "code",
   "execution_count": 76,
   "metadata": {},
   "outputs": [
    {
     "name": "stderr",
     "output_type": "stream",
     "text": [
      "  0%|          | 0/35 [00:00<?, ?it/s]\n"
     ]
    },
    {
     "ename": "NameError",
     "evalue": "name 'pytorch_iterate_epoch' is not defined",
     "output_type": "error",
     "traceback": [
      "\u001b[0;31m---------------------------------------------------------------------------\u001b[0m",
      "\u001b[0;31mNameError\u001b[0m                                 Traceback (most recent call last)",
      "\u001b[0;32m/var/folders/0m/652609tn36gb9b3xfsn71t700000gn/T/ipykernel_9584/1449638783.py\u001b[0m in \u001b[0;36m<module>\u001b[0;34m\u001b[0m\n\u001b[1;32m      6\u001b[0m \u001b[0mpytorch_model\u001b[0m\u001b[0;34m[\u001b[0m\u001b[0;36m0\u001b[0m\u001b[0;34m]\u001b[0m\u001b[0;34m.\u001b[0m\u001b[0mreset_parameters\u001b[0m\u001b[0;34m(\u001b[0m\u001b[0;34m)\u001b[0m\u001b[0;34m\u001b[0m\u001b[0;34m\u001b[0m\u001b[0m\n\u001b[1;32m      7\u001b[0m \u001b[0;32mfor\u001b[0m \u001b[0mepoch_idx\u001b[0m \u001b[0;32min\u001b[0m \u001b[0mtqdm\u001b[0m\u001b[0;34m(\u001b[0m\u001b[0mrange\u001b[0m\u001b[0;34m(\u001b[0m\u001b[0mEPOCHS\u001b[0m\u001b[0;34m)\u001b[0m\u001b[0;34m)\u001b[0m\u001b[0;34m:\u001b[0m\u001b[0;34m\u001b[0m\u001b[0;34m\u001b[0m\u001b[0m\n\u001b[0;32m----> 8\u001b[0;31m         \u001b[0mpytorch_loss_train\u001b[0m\u001b[0;34m[\u001b[0m\u001b[0mepoch_idx\u001b[0m\u001b[0;34m]\u001b[0m\u001b[0;34m,\u001b[0m \u001b[0mpytorch_acc_train\u001b[0m\u001b[0;34m[\u001b[0m\u001b[0mepoch_idx\u001b[0m\u001b[0;34m]\u001b[0m \u001b[0;34m=\u001b[0m \u001b[0mpytorch_iterate_epoch\u001b[0m\u001b[0;34m(\u001b[0m\u001b[0;34m)\u001b[0m\u001b[0;34m\u001b[0m\u001b[0;34m\u001b[0m\u001b[0m\n\u001b[0m\u001b[1;32m      9\u001b[0m         \u001b[0mpytorch_loss_test\u001b[0m\u001b[0;34m[\u001b[0m\u001b[0mepoch_idx\u001b[0m\u001b[0;34m]\u001b[0m\u001b[0;34m,\u001b[0m \u001b[0mpytorch_acc_test\u001b[0m\u001b[0;34m[\u001b[0m\u001b[0mepoch_idx\u001b[0m\u001b[0;34m]\u001b[0m \u001b[0;34m=\u001b[0m \u001b[0mpytorch_eval_model_test\u001b[0m\u001b[0;34m(\u001b[0m\u001b[0;34m)\u001b[0m\u001b[0;34m\u001b[0m\u001b[0;34m\u001b[0m\u001b[0m\n",
      "\u001b[0;31mNameError\u001b[0m: name 'pytorch_iterate_epoch' is not defined"
     ]
    }
   ],
   "source": [
    "pytorch_loss_train=torch.zeros(EPOCHS)\n",
    "pytorch_acc_train=torch.zeros(EPOCHS)\n",
    "pytorch_loss_test=torch.zeros(EPOCHS)\n",
    "pytorch_acc_test=torch.zeros(EPOCHS)\n",
    "\n",
    "pytorch_model[0].reset_parameters()\n",
    "for epoch_idx in tqdm(range(EPOCHS)):\n",
    "\tpytorch_loss_train[epoch_idx], pytorch_acc_train[epoch_idx] = pytorch_iterate_epoch()\n",
    "\tpytorch_loss_test[epoch_idx], pytorch_acc_test[epoch_idx] = pytorch_eval_model_test()"
   ]
  },
  {
   "cell_type": "code",
   "execution_count": null,
   "metadata": {},
   "outputs": [],
   "source": [
    "plt.figure(figsize=(12,4))\n",
    "plt.subplot(1,2,1)\n",
    "plt.plot(range(1,EPOCHS+1),pytorch_loss_train,label=\"Train Loss\")\n",
    "plt.plot(range(1,EPOCHS+1),pytorch_loss_test,label=\"Test Loss\")\n",
    "plt.title(\"Pytorch loss\")\n",
    "plt.legend()\n",
    "plt.xlabel(\"Epoch Number\")\n",
    "plt.subplot(1,2,2)\n",
    "plt.plot(range(1,EPOCHS+1),pytorch_acc_train,label=\"Train Acc\")\n",
    "plt.plot(range(1,EPOCHS+1),pytorch_acc_test,label=\"Test Acc\")\n",
    "plt.title(\"Pytorch accuracy\")\n",
    "plt.legend()\n",
    "plt.xlabel(\"Epoch Number\")"
   ]
  }
 ],
 "metadata": {
  "interpreter": {
   "hash": "aee8b7b246df8f9039afb4144a1f6fd8d2ca17a180786b69acc140d282b71a49"
  },
  "kernelspec": {
   "display_name": "Python 3.9.4 64-bit",
   "language": "python",
   "name": "python3"
  },
  "language_info": {
   "codemirror_mode": {
    "name": "ipython",
    "version": 3
   },
   "file_extension": ".py",
   "mimetype": "text/x-python",
   "name": "python",
   "nbconvert_exporter": "python",
   "pygments_lexer": "ipython3",
   "version": "3.9.4"
  },
  "orig_nbformat": 4
 },
 "nbformat": 4,
 "nbformat_minor": 2
}
